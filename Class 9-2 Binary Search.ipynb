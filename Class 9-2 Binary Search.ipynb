{
 "cells": [
  {
   "cell_type": "markdown",
   "id": "f46e6281",
   "metadata": {},
   "source": [
    "# Sorting이 된 자료를 이용하면, 특성을 이용해서 더 빠르게 찾을 수 있을까?\n",
    "\n",
    "Idea ; 중간을 검증해보고, 반을 통째로 날리는 것.\n",
    "\n",
    " - Evaluate the middle of the sorted list and removes half of candidate entries\n",
    " - Linear search : one evaluation removes one candidate entry\n",
    " - Binary search : one evaluation removes half of candidate entries "
   ]
  },
  {
   "cell_type": "markdown",
   "id": "c54d7f00",
   "metadata": {},
   "source": [
    "def binary_search(L:list, v:Any) -> int:\n",
    "    start, end = 0, len(L) -1\n",
    "    while start != end +1:\n",
    "        mid = (start+end)//2\n",
    "        if L[mid] < v:\n",
    "            start = mid +1\n",
    "        else:\n",
    "            end = mid-1\n",
    "    if start < len(L) and L[start] == v:\n",
    "        return start\n",
    "    else:\n",
    "        return -1"
   ]
  },
  {
   "cell_type": "code",
   "execution_count": null,
   "id": "a37012ae",
   "metadata": {},
   "outputs": [],
   "source": []
  }
 ],
 "metadata": {
  "kernelspec": {
   "display_name": "Python 3 (ipykernel)",
   "language": "python",
   "name": "python3"
  },
  "language_info": {
   "codemirror_mode": {
    "name": "ipython",
    "version": 3
   },
   "file_extension": ".py",
   "mimetype": "text/x-python",
   "name": "python",
   "nbconvert_exporter": "python",
   "pygments_lexer": "ipython3",
   "version": "3.11.1"
  }
 },
 "nbformat": 4,
 "nbformat_minor": 5
}
