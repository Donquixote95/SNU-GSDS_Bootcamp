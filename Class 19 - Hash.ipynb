{
 "cells": [
  {
   "cell_type": "markdown",
   "id": "c71dd97c",
   "metadata": {},
   "source": [
    "As we've seen, searching an element in al ist takes\n",
    " - O(N) for linear search\n",
    " - O(logN) for binary search, which requires the list to be sorted\n",
    " \n",
    "But somehow, searching an element in a set or a dictionary takes\n",
    " - O(1)\n",
    " \n",
    "We know that this is due to hashing\n",
    "\n",
    "Data Indexed Arrays\n",
    " - A data-indexed array has all possible data as its indices\n",
    " - Initially, all values of the array are False (i.e. di_array[x] = False for all x in di_array), meaning the array is empty\n",
    " - Let's assume that Python Sets are implemented based on data-indexed array\n",
    " - di_array = set() \n",
    " - When data x is added to the array, x-th element (di_array[x]) becomes True\n",
    " \n",
    "Now, in operation (x in di_array) simply checks if x-th element is True\n",
    " - It can just return the value of di_array[x]: O(1)\n",
    " \n",
    "Can we also store string data in data-indexed arrays?\n",
    " - Consider English (lower case) in Data-Indexed Arrays case\n",
    " - Map each of 26 English alphabets to an integer(a=1,b=2, ..., z=26)\n",
    " - \"gsds\" becomes gsds_27 = (7*27^3) + (19*27^2) + (4*27^1) + (19*27^0) = 151,759\n",
    " - \"snu\" becomes snu_27 = (19*27^2) + (14*27^1) + (21*27^0) = 14,248\n",
    " - Every words becom unique integer\n",
    " \n",
    "Consider ASCI-2 code ; value 1~255\n",
    " - \"8a!\", 8:56, a:97, !:33\n",
    " - \"8a!\" becomes 8a!_256 = (56*256^2) + (97*256^1) + (33*256^0)\n",
    " \n",
    "But we have finite memory and time\n",
    "\n",
    "Integer Overflow\n",
    " - Python 3 does not have a maximum integer but C/C++/Java does have maximum (unsigned) integer: 4,294,967,295(2^32-1)\n",
    " - That means an integer n larger than the maximum value M is represented as n%M, instead of n itself\n",
    "\n",
    "Hash Function\n",
    " - A hash function is any function that can be used to map data of arbitrarry size to fixed-size values.\n",
    " - When we have more than 4,294,967,296 data, collisions are inevitable!\n",
    "       - di_array[1,633,903,905] should contain \"pace!\" and \"ace\"\n",
    " - How can we handle when hash values are collided?\n",
    " - How can we compute a hash function"
   ]
  },
  {
   "cell_type": "markdown",
   "id": "8444aa49",
   "metadata": {},
   "source": [
    "Collision Handling\n",
    " - di_array[x] should contain a list of data whose hash value is x\n",
    " - To this end, we can make di_array[x] as a linked list instead of one value"
   ]
  },
  {
   "cell_type": "markdown",
   "id": "73e356d2",
   "metadata": {},
   "source": [
    "Data-indexed Array with Chains\n",
    " - Each element is initially None but becomes a linked list when an item is added"
   ]
  },
  {
   "cell_type": "code",
   "execution_count": 3,
   "id": "3f9811dc",
   "metadata": {},
   "outputs": [],
   "source": [
    "def __init__(self) -> None:\n",
    "    self.array = [None]*4294967296\n",
    "\n",
    "def add(self, x) -> None:\n",
    "    i = hash_value(x)\n",
    "    if self.array[i] == None:\n",
    "        self.array[i] = SLList()\n",
    "    self.array[i].addFirst(x)"
   ]
  },
  {
   "cell_type": "markdown",
   "id": "215e7cef",
   "metadata": {},
   "source": [
    "Finally Hash Table\n",
    " - Now that we can handle collisions, we don't actually need all 4,294,967,296 indices\n",
    " - What if we have only 12 indices?\n",
    "     - When adding item x, compute its hashValue i\n",
    "     - Add x to di_array[i%12] instead of di_array[i]\n",
    " - Hash table\n",
    "     - A table that stores data by using a valid index that is computed as follows:\n",
    "     - Data -> hash function -> hash value -> reduction (e.g. modulo) -> valid index\n",
    " - Hash Table Performance\n",
    "     - With a few indices, now we don't waste memory\n",
    "     - On the flip side, time cost is proportional to length of the longest chain\n",
    "         - K: length of the longest chan\n",
    "         - Whant is K? Given M and N, how can we reduce K?\n",
    "         - Assume that our hash table has M indices and N items\n",
    "         - K is between N/M(best case, evenly spread) and N (worst case, a long single chain)\n",
    "    - But the real problem is that if M is constant(fixed) number, then in the perstive of Big O notation, it doesn't matter what M is. e.g. M=5, O(K) = O(N/5) = O(N)\n",
    "    - M을 건드려야 한다. How can we improve our hash table achieve O(1)? -> Array resizing\n",
    " - SLList\n",
    "     - Add: O(1), in: O(N)\n",
    " - List\n",
    "     - Add: O(1), in: O(N)\n",
    " - Data-indexed Array\n",
    "     - Add: O(1), in: O(1)\n",
    " - Data-indexed Array with Chains\n",
    "     - Add: O(1), in: O(K)"
   ]
  },
  {
   "cell_type": "markdown",
   "id": "30714132",
   "metadata": {},
   "source": [
    "Hash table - resizing\n",
    " Instead of using a fixed M, we can increase M as N increases\n",
    " - If we increase M proportional to N, O(N/M) becomes O(1)\n",
    " - For example, we can double M when N/M >= 1.5\n",
    " - Then, the hash table's chians now have less than 1.5 items on average\n",
    " - Resizing! -> Redistributing all items\n",
    " With resizing, searching operation takes only O(1)\n",
    "  - If resizing operation is free.. which is not true\n",
    " Resizing a hsh table with N items requires O(N) time to redistribute all N items\n",
    " - But a good news is that we don't always resize since one resizing operation doubles the number of indices\n",
    " - resizing을 되게 띄엄띄엄하게 되면 괜찮아진다.\n",
    " The number of redistributing items while adding N items\n",
    " - 1+2+4+8+..+N = 2N-1 \n",
    " - When adding one item, redistributing cost becomes O((2N-1)/N) = O(1) on average."
   ]
  },
  {
   "cell_type": "markdown",
   "id": "fba734e4",
   "metadata": {},
   "source": [
    " Data-indexed array + chianing + resizing\n",
    "  - Collisions are properly handled\n",
    "  - Time complexity is independent from N\n",
    "  - If items are evenly spread through the whole array\n",
    " \n",
    " - SLList\n",
    "     - Add: O(1), in: O(N)\n",
    " - List\n",
    "     - Add: O(1), in: O(N)\n",
    " - Data-indexed Array\n",
    "     - Add: O(1), in: O(1)\n",
    " - Data-indexed Array with Chains(no resizing)\n",
    "     - Add: O(1), in: O(N)\n",
    " - Data-indexed Array with Chains(with resizing)\n",
    "     - Add: O(1), in: O(1)"
   ]
  },
  {
   "cell_type": "markdown",
   "id": "13561e0a",
   "metadata": {},
   "source": [
    "Hash Function\n",
    " - Bad example\n",
    "(1)\n",
    "def hashfucntion(x:str):\n",
    "    return 1 # same index for all strings\n",
    "    \n",
    "(2)\n",
    "def hashfucntion(x:str):\n",
    "    return ord(x[0]) # same index for all strings that have the same first character\n",
    "    \n",
    "(3)\n",
    "def hashfunction(x:str):\n",
    "    ans = 0\n",
    "    for ch in x:\n",
    "        ans += ord(ch) # same index for all strings that consist of same characters\n",
    "    returns ans\n",
    "    \n",
    "Converting a string into a base B number would be good (as we already did)\n",
    "def hashfunction(x:str):\n",
    "    ans = 0\n",
    "    for ch in x:\n",
    "        ans = ans * B + ord(ch)\n",
    "    return ans\n",
    "    \n",
    "What is a good base B?\n",
    " - Using 256 as a base seems clear since it can give a unique number for each string\n",
    " - But now that we allow collision anyway (due to the limited maximum integer), we don't have to stick to \"uniqueness\"\n",
    " - Moreover, base 256 causes all strings that share the last four characters collide with each other since the maximum number is 2^32 = 256^4\n",
    "     - I love you / He likes you / It's you\n",
    " - Using a small prime number as a base is typcial"
   ]
  },
  {
   "cell_type": "markdown",
   "id": "653bd6d3",
   "metadata": {},
   "source": [
    "# Problem - Majority Element\n",
    "\n",
    "Implement a function that takes a list nums and returns its majority element\n",
    " - when nums has n elements, majority element is the element that appears more than [n/2] times\n",
    " - You may assume that the majority element always exists in the list\n",
    " - Can you achieve O(N) complexity?"
   ]
  },
  {
   "cell_type": "code",
   "execution_count": null,
   "id": "f76a6224",
   "metadata": {},
   "outputs": [],
   "source": [
    "def majorityElement(nums: List[int]) -> int:\n",
    "    myD = {}\n",
    "    for num in nums:\n",
    "        if num in myD:\n",
    "            myD[num] += 1\n",
    "            if myD[num] >= len(nums)//2:\n",
    "                return num\n",
    "        else:\n",
    "            myD[num] = 1"
   ]
  }
 ],
 "metadata": {
  "kernelspec": {
   "display_name": "Python 3 (ipykernel)",
   "language": "python",
   "name": "python3"
  },
  "language_info": {
   "codemirror_mode": {
    "name": "ipython",
    "version": 3
   },
   "file_extension": ".py",
   "mimetype": "text/x-python",
   "name": "python",
   "nbconvert_exporter": "python",
   "pygments_lexer": "ipython3",
   "version": "3.11.1"
  }
 },
 "nbformat": 4,
 "nbformat_minor": 5
}
