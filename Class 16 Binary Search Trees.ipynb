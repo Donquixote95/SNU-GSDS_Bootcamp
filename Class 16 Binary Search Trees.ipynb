{
 "cells": [
  {
   "cell_type": "markdown",
   "id": "de736431",
   "metadata": {},
   "source": [
    "Arrays\n",
    " - Memory Box의 Sequence\n",
    " - A sequence of neighboring memory boxes\n",
    " - Know where an arbitrary i-th elemen is located, by using the neighboring rule\n",
    " - Limitation: Fixed length and Expensive resizing\n",
    " - make a brand new array + copy all the existing elements\n",
    "\n",
    "Linked lists\n",
    " - A list of nodes each of which has a link to another node\n",
    " - Know where the next element is located, by using the next pointer\n",
    " - Limtiation: Don't know what is where - Frequent navigation through the list\n",
    " "
   ]
  },
  {
   "cell_type": "markdown",
   "id": "fff740cb",
   "metadata": {},
   "source": [
    "Queues(FIFO) and Stacks(LIFO)"
   ]
  },
  {
   "cell_type": "markdown",
   "id": "0ce5c707",
   "metadata": {},
   "source": [
    "Trees\n",
    " - A tree comprises a set of nodes that are connected (linked) to each other\n",
    " - There is only one path between two nodes in a tree\n",
    " - Cycle이 있으면 Tree가 아니다."
   ]
  },
  {
   "cell_type": "markdown",
   "id": "fb3ee2cf",
   "metadata": {},
   "source": [
    "Rooted Binary Trees\n",
    " - There is one root node (at the top of the tree)\n",
    " - Every node (except the root) has one parent - the first node on its path toward the root\n",
    " - A node without a child is a leaf\n",
    " \n",
    "Relationship\n",
    " - A is the root and a parent of B\n",
    " - B is a child of A and a parent of C and D\n",
    " - C and D are leaves and childeren of B\n",
    " \n",
    "Rooted binary tree\n",
    " - Each node has at most two children nodes\n",
    " \n",
    "Binary Search Trees\n",
    " - A binary search tree is a rooted binary tree that has the foloowing two properties\n",
    " - For every node x,\n",
    " - x's value is unique in the whole tree\n",
    " - Every node y in the left subtree of node x has value less than x's value\n",
    " - Every node z in the right subtree of node x has value greater than x's value\n",
    "\n",
    "Subtree\n",
    " - A set of children trees"
   ]
  },
  {
   "cell_type": "code",
   "execution_count": 44,
   "id": "56066270",
   "metadata": {},
   "outputs": [],
   "source": [
    "class TreeNode():\n",
    "    def __init__(self, x:int):\n",
    "        self.val = x\n",
    "        self.left = None\n",
    "        self.right = None\n",
    "    \n",
    "class BST():\n",
    "    def __init__(self, root:TreeNode):\n",
    "        self.root = root\n",
    "        \n",
    "    def __searchHelp(self, curNode:TreeNode, x:int) -> TreeNode: #Recursion\n",
    "        # (1)Base case\n",
    "        if not curNode:\n",
    "            return None \n",
    "        if x == curNode.val:\n",
    "            return curNode\n",
    "        # (2)Recursive case\n",
    "        elif x < curNode.val:\n",
    "            return self.__searchHelp(curNode.left, x)\n",
    "        else:\n",
    "            return self.__searchHelp(curNode.right, x)\n",
    "    def search(self, x:int) -> TreeNode:\n",
    "        return self.__searchHelp(self.root, x)\n",
    "    \n",
    "    def __insertHelp(self, curNode:TreeNode, x:int) -> TreeNode:\n",
    "        # (1) Base case\n",
    "        if not curNode:\n",
    "            return TreeNode(x)\n",
    "        # (2) Recursive case\n",
    "        if x < curNode.val:\n",
    "            curNode.left = self.__insertHelp(curNode.left, x)\n",
    "        elif x > curNode.val:\n",
    "            curNode.right = self.__insertHelp(curNode.right, x)\n",
    "            \n",
    "        return curNode\n",
    "    def insert(self, x:int) -> None:\n",
    "        self.root = self.__insertHelp(self.root, x)\n",
    "         \n",
    "    # Case1: Delete a leaf node (no child)\n",
    "        # Search the node using its key value\n",
    "        # simply cut the parent's link\n",
    "        # Then the target node is gone\n",
    "        \n",
    "    # Case2: Delete a node with one child\n",
    "        # Search the node using its key value\n",
    "        # We should maintain BST property after removing the target node\n",
    "        # Cut the parent's link to the target\n",
    "        # Move the child node to where the target node was\n",
    "    \n",
    "    # Case3: Delete a node with two children\n",
    "        # Search the node using its key value\n",
    "        # We should maintain BST property after removing the target node\n",
    "        # Find a subtree node that can be located at the target node's location\n",
    "        # The node's value must be larger than all the left subtree node's values\n",
    "        # The node's value must be smaller than all the right subtree nodes' values\n",
    "        # Either the rightmost node in the left subtree or the leftmost node in the right subtree works \n",
    "        # Delete either of the two\n",
    "            # The rightmost node in the left subtree\n",
    "            # the leftmost node in the right subtree\n",
    "        # And place its copy at the target node's location\n",
    "        \n",
    "    def __findMax(self, curNode: TreeNode) -> int:\n",
    "        # Base case\n",
    "        if not curNode.right:\n",
    "            return curNode.val\n",
    "        # Recursive case\n",
    "        else:\n",
    "            return self.__findMax(curNode.right)\n",
    "        \n",
    "    def __deleteHelp(self, curNode: TreeNode, x:int) -> TreeNode:\n",
    "        # Case0. Base case \n",
    "        if not curNode:\n",
    "            return None\n",
    "        # Case1~3. Recursive case\n",
    "        if x < curNode.val:\n",
    "            curNode.left = self.__deleteHelp(curNode.left, x)\n",
    "        elif x > curNode.val:\n",
    "            curNode.right = self.__deleteHelp(curNode.right, x)\n",
    "            \n",
    "        else: # x == curNode.val: We should delte this node\n",
    "            # (1-1) No child\n",
    "            #if curNode.left == None and curNode.right == None:\n",
    "            #    return None\n",
    "            # (1-2) One child\n",
    "            #elif curNode.left == None and curNode.right:\n",
    "            #    return curNode.right\n",
    "            #elif curNode.left and curNode == None:\n",
    "            #    return curNode.left\n",
    "            \n",
    "            if curNode.left == None:\n",
    "                return curNode.right\n",
    "            elif curNode.right == None:\n",
    "                return curNode.left\n",
    "            \n",
    "            # (1-3) Two children\n",
    "            else:\n",
    "                leftLargest = self.__findMax(curNode.left)\n",
    "                curNode.left = self.__deleteHelp(curNode.left, leftLargest)\n",
    "                curNode.val = leftLargest\n",
    "                \n",
    "        return curNode\n",
    "    \n",
    "    def delete(self, x:int) -> None:\n",
    "        self.root = self.__deleteHelp(self.root, x)\n",
    "        \n",
    "# BST operations require O(log N), which is its depth\n",
    "    # only if the BST is balanced\n",
    "# Maintaining a BST to be balanced is very important to maximize its performance\n",
    "    # Which is out of scope of this course / B-tree (balance-tree), B+-tree (더 좋은 B-tree)"
   ]
  },
  {
   "cell_type": "code",
   "execution_count": 45,
   "id": "0bf2bae1",
   "metadata": {},
   "outputs": [],
   "source": [
    "tree1 = TreeNode(1)\n",
    "tree2 = TreeNode(2)\n",
    "tree3 = TreeNode(3)\n",
    "tree4 = TreeNode(4)\n",
    "tree5 = TreeNode(5) \n",
    "tree6 = TreeNode(6)\n",
    "tree7 = TreeNode(7)\n",
    "\n",
    "tree4.left = tree2\n",
    "tree4.right = tree6\n",
    "\n",
    "tree2.left = tree1\n",
    "tree2.right = tree3\n",
    "\n",
    "tree6.left = tree5\n",
    "tree6.right = tree7\n",
    "\n",
    "myTree = BST(tree4)"
   ]
  },
  {
   "cell_type": "code",
   "execution_count": 46,
   "id": "cf7f399c",
   "metadata": {},
   "outputs": [
    {
     "name": "stdout",
     "output_type": "stream",
     "text": [
      "<__main__.TreeNode object at 0x000001F2818ABDD0> 6\n"
     ]
    }
   ],
   "source": [
    "node = myTree.search(6)\n",
    "if node == None:\n",
    "    print(node)\n",
    "else:\n",
    "    print(node, node.val)"
   ]
  },
  {
   "cell_type": "code",
   "execution_count": 47,
   "id": "5d7d5dea",
   "metadata": {},
   "outputs": [
    {
     "name": "stdout",
     "output_type": "stream",
     "text": [
      "<__main__.TreeNode object at 0x000001F28135D8D0> 8\n",
      "8\n",
      "None\n"
     ]
    }
   ],
   "source": [
    "myTree.insert(8)\n",
    "node = myTree.search(8)\n",
    "if node == None:\n",
    "    print(node)\n",
    "else:\n",
    "    print(node, node.val)\n",
    "print(tree7.right.val)\n",
    "print(tree7.left)"
   ]
  },
  {
   "cell_type": "code",
   "execution_count": 48,
   "id": "b066baaa",
   "metadata": {},
   "outputs": [
    {
     "name": "stdout",
     "output_type": "stream",
     "text": [
      "4\n",
      "3\n"
     ]
    }
   ],
   "source": [
    "print(myTree.root.val)\n",
    "myTree.delete(4)\n",
    "print(myTree.root.val)"
   ]
  },
  {
   "cell_type": "code",
   "execution_count": 50,
   "id": "8e8ded91",
   "metadata": {},
   "outputs": [
    {
     "name": "stdout",
     "output_type": "stream",
     "text": [
      "None\n"
     ]
    }
   ],
   "source": [
    "node = myTree.search(4)\n",
    "if node == None:\n",
    "    print(node)\n",
    "else:\n",
    "    print(node, node.val)"
   ]
  },
  {
   "cell_type": "code",
   "execution_count": 51,
   "id": "911dfcc6",
   "metadata": {},
   "outputs": [
    {
     "name": "stdout",
     "output_type": "stream",
     "text": [
      "<__main__.TreeNode object at 0x000001F2812C74D0> 3\n"
     ]
    }
   ],
   "source": [
    "node = myTree.search(3)\n",
    "if node == None:\n",
    "    print(node)\n",
    "else:\n",
    "    print(node, node.val)"
   ]
  },
  {
   "cell_type": "code",
   "execution_count": 52,
   "id": "80803b08",
   "metadata": {},
   "outputs": [
    {
     "name": "stdout",
     "output_type": "stream",
     "text": [
      "2\n",
      "6\n"
     ]
    }
   ],
   "source": [
    "print(myTree.root.left.val)\n",
    "print(myTree.root.right.val)"
   ]
  },
  {
   "cell_type": "code",
   "execution_count": null,
   "id": "8cd83721",
   "metadata": {},
   "outputs": [],
   "source": []
  }
 ],
 "metadata": {
  "kernelspec": {
   "display_name": "Python 3 (ipykernel)",
   "language": "python",
   "name": "python3"
  },
  "language_info": {
   "codemirror_mode": {
    "name": "ipython",
    "version": 3
   },
   "file_extension": ".py",
   "mimetype": "text/x-python",
   "name": "python",
   "nbconvert_exporter": "python",
   "pygments_lexer": "ipython3",
   "version": "3.11.1"
  }
 },
 "nbformat": 4,
 "nbformat_minor": 5
}
