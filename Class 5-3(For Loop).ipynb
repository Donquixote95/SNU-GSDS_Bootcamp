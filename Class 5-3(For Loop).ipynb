{
 "cells": [
  {
   "cell_type": "code",
   "execution_count": 1,
   "id": "619108ac",
   "metadata": {},
   "outputs": [
    {
     "data": {
      "text/plain": [
       "[0, 1, 2, 3, 4]"
      ]
     },
     "execution_count": 1,
     "metadata": {},
     "output_type": "execute_result"
    }
   ],
   "source": [
    "list(range(5))"
   ]
  },
  {
   "cell_type": "code",
   "execution_count": 2,
   "id": "28506f24",
   "metadata": {},
   "outputs": [
    {
     "data": {
      "text/plain": [
       "[5, 4, 3, 2]"
      ]
     },
     "execution_count": 2,
     "metadata": {},
     "output_type": "execute_result"
    }
   ],
   "source": [
    "list(range(5,1,-1))"
   ]
  },
  {
   "cell_type": "code",
   "execution_count": 3,
   "id": "5a5a2bf1",
   "metadata": {},
   "outputs": [],
   "source": [
    "total = 0\n",
    "for i in range(1, 100+1):\n",
    "    total = total + i"
   ]
  },
  {
   "cell_type": "code",
   "execution_count": 4,
   "id": "05ffa340",
   "metadata": {},
   "outputs": [
    {
     "data": {
      "text/plain": [
       "5050"
      ]
     },
     "execution_count": 4,
     "metadata": {},
     "output_type": "execute_result"
    }
   ],
   "source": [
    "total"
   ]
  },
  {
   "cell_type": "code",
   "execution_count": 5,
   "id": "f5b1b297",
   "metadata": {},
   "outputs": [],
   "source": [
    "values = [10, 11, 12, 13, 14, 15]\n",
    "for num in values:\n",
    "    num = num * 2"
   ]
  },
  {
   "cell_type": "code",
   "execution_count": 6,
   "id": "fb2abd48",
   "metadata": {},
   "outputs": [
    {
     "data": {
      "text/plain": [
       "[10, 11, 12, 13, 14, 15]"
      ]
     },
     "execution_count": 6,
     "metadata": {},
     "output_type": "execute_result"
    }
   ],
   "source": [
    "values"
   ]
  },
  {
   "cell_type": "code",
   "execution_count": 7,
   "id": "c3613ea6",
   "metadata": {},
   "outputs": [],
   "source": [
    "values = [10, 11, 12, 13, 14, 15]\n",
    "for i in range(len(values)):\n",
    "    values[i] = values[i] * 2"
   ]
  },
  {
   "cell_type": "code",
   "execution_count": 8,
   "id": "c5e662cf",
   "metadata": {},
   "outputs": [
    {
     "data": {
      "text/plain": [
       "[20, 22, 24, 26, 28, 30]"
      ]
     },
     "execution_count": 8,
     "metadata": {},
     "output_type": "execute_result"
    }
   ],
   "source": [
    "values"
   ]
  },
  {
   "cell_type": "code",
   "execution_count": 9,
   "id": "c01436f9",
   "metadata": {},
   "outputs": [],
   "source": [
    "men = [ \"hangyeol\", \"inwoo\", \"uidong\", \"kangyeol\"]\n",
    "women = [\"jihyun\", \"anna\", \"minjae\", \"gaheun\"]"
   ]
  },
  {
   "cell_type": "code",
   "execution_count": 10,
   "id": "631e5b72",
   "metadata": {},
   "outputs": [
    {
     "name": "stdout",
     "output_type": "stream",
     "text": [
      "hangyeol and jihyun might become a couple.\n",
      "hangyeol and anna might become a couple.\n",
      "hangyeol and minjae might become a couple.\n",
      "hangyeol and gaheun might become a couple.\n",
      "inwoo and jihyun might become a couple.\n",
      "inwoo and anna might become a couple.\n",
      "inwoo and minjae might become a couple.\n",
      "inwoo and gaheun might become a couple.\n",
      "uidong and jihyun might become a couple.\n",
      "uidong and anna might become a couple.\n",
      "uidong and minjae might become a couple.\n",
      "uidong and gaheun might become a couple.\n",
      "kangyeol and jihyun might become a couple.\n",
      "kangyeol and anna might become a couple.\n",
      "kangyeol and minjae might become a couple.\n",
      "kangyeol and gaheun might become a couple.\n"
     ]
    }
   ],
   "source": [
    "for man in men:\n",
    "    for woman in women:\n",
    "        print(man, \"and\", woman, \"might become a couple.\")"
   ]
  },
  {
   "cell_type": "code",
   "execution_count": null,
   "id": "3be06e9f",
   "metadata": {},
   "outputs": [],
   "source": []
  }
 ],
 "metadata": {
  "kernelspec": {
   "display_name": "Python 3 (ipykernel)",
   "language": "python",
   "name": "python3"
  },
  "language_info": {
   "codemirror_mode": {
    "name": "ipython",
    "version": 3
   },
   "file_extension": ".py",
   "mimetype": "text/x-python",
   "name": "python",
   "nbconvert_exporter": "python",
   "pygments_lexer": "ipython3",
   "version": "3.11.1"
  }
 },
 "nbformat": 4,
 "nbformat_minor": 5
}
