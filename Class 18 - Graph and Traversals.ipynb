{
 "cells": [
  {
   "cell_type": "markdown",
   "id": "2d0f3a90",
   "metadata": {},
   "source": [
    "Trees are good for representing data with hierarchy.\n",
    "\n",
    "Graphs\n",
    " - A graph comprises a set of nodes and a set of edges (including zero edge), each of which connects two nodes\n",
    " \n",
    "Simple Graphs\n",
    " - A simple graph is a graph taht does not have\n",
    " - Loop: an edge that conncects a node to itself, such as (v,v)\n",
    " - Parallel edge; two edges that conncects the same nodes, such as e1 = (v,w) and e2=(v,w)"
   ]
  },
  {
   "cell_type": "markdown",
   "id": "de378622",
   "metadata": {},
   "source": [
    "Terms and Terms\n",
    " - Vertex: a node, v\n",
    " - Edge: a pair of vertices, (v,w) where v and w are vertices\n",
    " - adjacent: Two vertices which have an edge between are adjacent; If a grpah has an edge(v,w), vertices v and w are adjacent\n",
    " - Path: a sequence of vertices connected by edges, If there are three edges , (v,w),(w,y) and (y,z), the graph has a path(v,w,y,z)\n",
    " - A path with unique (non-repeated) vertices is a simple path, cycle이 없는 path가 simple path\n",
    " - Cycle: a path where the first and last vertices are the same, e.g. (v,w,y,v)\n",
    " \n",
    "cyclic graph; A graph having a cycle is a cyclic graph\n",
    "\n",
    "acyclic graph; A graph without a cycle\n",
    "\n",
    "If there is a path between two vertices, the two vertices are connected.\n",
    " - Tree is connected graph and simple"
   ]
  },
  {
   "cell_type": "markdown",
   "id": "eef53998",
   "metadata": {},
   "source": [
    "An edge is either undirected (like a line) or directed(like an arrow)\n",
    " - If an edge (v,w) is undirected, v and w can reach each other\n",
    " - If an edge (v,w) is directed, v can go to w, not vice versa; we need another edge (w,v) so that w can go to v\n",
    " \n",
    "Undirected graph ; A graph with undirected edges\n",
    "\n",
    "directed graph ; A graph with directed edges"
   ]
  },
  {
   "cell_type": "code",
   "execution_count": 1,
   "id": "00060315",
   "metadata": {},
   "outputs": [],
   "source": [
    "# Given vertices V and edges E, build relationship between the vertices\n",
    "\n",
    "class undi_graph():\n",
    "    def __init(self, V:list, E:list)->None:\n",
    "        self.V = V[:] # copy, 안 하면 바깥의 V가 바뀌면 같이 바뀌어서 곤란하다.\n",
    "        self.neighbor = {}\n",
    "        for v in V:\n",
    "            self.neighbor[v] = []\n",
    "        for (v,w) in E:\n",
    "            self.neighbor[v].append(w)\n",
    "            self.neighbor[w].append(v)"
   ]
  },
  {
   "cell_type": "markdown",
   "id": "348fb5c7",
   "metadata": {},
   "source": [
    "Graph Traversals"
   ]
  },
  {
   "cell_type": "code",
   "execution_count": 25,
   "id": "06115f30",
   "metadata": {},
   "outputs": [],
   "source": [
    "# Cycle이 있으면 내가 이전에 어떤 노드를 방문했었는지 기억이 존재해야 한다. 없으면 무한대로 돌아다녀야 한다.\n",
    "# Disconnected 된 것도 방문할 필요\n",
    "# Depth-First Traversal - Preorder\n",
    "     \n",
    "class undi_grpah():\n",
    "    def __init__(self, V:list, E:list)->None:\n",
    "        # Copy all the vertices\n",
    "        self.V = V[:] # copy, 안 하면 바깥의 V가 바뀌면 같이 바뀌어서 곤란하다.\n",
    "        # Initialize neighbor list (empty)\n",
    "        self.neighbor = {}\n",
    "        for v in V: # Key 등록!\n",
    "            self.neighbor[v] = []\n",
    "        # Set nieghbor relationship by using edges\n",
    "        for (v,w) in E:\n",
    "            self.neighbor[v].append(w) # Value 등록!\n",
    "            self.neighbor[w].append(v) # Value 에도 key 등록!\n",
    "            \n",
    "    def __DFTHelp(self, visited:dict, v:int) -> None:\n",
    "        if not visited[v]:\n",
    "            # Do something only when the vertex is not visited!\n",
    "            visited[v] = True\n",
    "            print(v)\n",
    "            for w in self.neighbor[v]:\n",
    "                self. __DFTHelp(visited, w)\n",
    "        \n",
    "    def DFT(self) -> None: \n",
    "        if self.V:\n",
    "            # Initialization\n",
    "            visited = {} # memorization \n",
    "            for v in self.V:\n",
    "                visited[v] = False \n",
    "            # Traversal - 'for loop' is necessary to visit all disconnected nodes\n",
    "            for v in self.V: # Disconnected 된 vertex를 방문하기 위해서\n",
    "                self.__DFTHelp(visited, v)\n",
    "                \n",
    "# Now we should mark the nodes we already visited to handle cycles\n",
    "# Now one __DFTHelp call is not enough to raversal a disconnected graph"
   ]
  },
  {
   "cell_type": "markdown",
   "id": "65479b32",
   "metadata": {},
   "source": [
    "When you want to know if two vertices are connected\n",
    "\n",
    "When you want to know if all vertices in a graph are connected\n",
    "\n",
    "When you want to know how many disjoint islands are in a graph\n",
    "\n",
    "When you want to know if "
   ]
  },
  {
   "cell_type": "code",
   "execution_count": 26,
   "id": "61e3f0c8",
   "metadata": {},
   "outputs": [],
   "source": [
    "V = [0,1,2,3,4,5,6,7,8,9]\n",
    "E = [(0,1), (1,4), (1,5), (4,6), (5,6), (5,7), (6,9), (7,8), (2,3)]"
   ]
  },
  {
   "cell_type": "code",
   "execution_count": 27,
   "id": "b64157c5",
   "metadata": {},
   "outputs": [],
   "source": [
    "myGraph = undi_grpah(V,E)"
   ]
  },
  {
   "cell_type": "code",
   "execution_count": 28,
   "id": "1d8d64d7",
   "metadata": {},
   "outputs": [],
   "source": [
    "# Depth-First Traversal - Postorder\n",
    "     \n",
    "class undi_grpah():\n",
    "    def __init__(self, V:list, E:list)->None:\n",
    "        # Copy all the vertices\n",
    "        self.V = V[:] # copy, 안 하면 바깥의 V가 바뀌면 같이 바뀌어서 곤란하다.\n",
    "        # Initialize neighbor list (empty)\n",
    "        self.neighbor = {}\n",
    "        for v in V: # Key 등록!\n",
    "            self.neighbor[v] = []\n",
    "        # Set nieghbor relationship by using edges\n",
    "        for (v,w) in E:\n",
    "            self.neighbor[v].append(w) # Value 등록!\n",
    "            self.neighbor[w].append(v) # Value 에도 key 등록!\n",
    "            \n",
    "    def __DFTHelp(self, visited:dict, v:int) -> None:\n",
    "        if not visited[v]:\n",
    "            # Do something only when the vertex is not visited!\n",
    "            visited[v] = True\n",
    "            # Visit all the neighbors\n",
    "            for w in self.neighbor[v]:\n",
    "                self. __DFTHelp(visited, w)\n",
    "            # Post order (action after visiting all the neighbors)\n",
    "            print(v)            \n",
    "        \n",
    "    def DFT(self) -> None: \n",
    "        if self.V:\n",
    "            # Initialization\n",
    "            visited = {} # memorization \n",
    "            for v in self.V:\n",
    "                visited[v] = False \n",
    "            # Traversal - 'for loop' is necessary to visit all disconnected nodes\n",
    "            for v in self.V: # Disconnected 된 vertex를 방문하기 위해서\n",
    "                self.__DFTHelp(visited, v)\n",
    "                \n",
    "# Now we should mark the nodes we already visited to handle cycles\n",
    "# Now one __DFTHelp call is not enough to raversal a disconnected graph"
   ]
  },
  {
   "cell_type": "code",
   "execution_count": 29,
   "id": "5293473b",
   "metadata": {},
   "outputs": [],
   "source": [
    "myGraph = undi_grpah(V,E)"
   ]
  },
  {
   "cell_type": "code",
   "execution_count": 24,
   "id": "a0a337f9",
   "metadata": {},
   "outputs": [
    {
     "name": "stdout",
     "output_type": "stream",
     "text": [
      "8\n",
      "7\n",
      "5\n",
      "9\n",
      "6\n",
      "4\n",
      "1\n",
      "0\n",
      "3\n",
      "2\n"
     ]
    }
   ],
   "source": [
    "myGraph.DFT()"
   ]
  },
  {
   "cell_type": "code",
   "execution_count": 31,
   "id": "e92f436d",
   "metadata": {},
   "outputs": [],
   "source": [
    "# BFT\n",
    "\n",
    "from collections import deque\n",
    "\n",
    "class undi_grpah():\n",
    "    def __init__(self, V:list, E:list)->None:\n",
    "        # Copy all the vertices\n",
    "        self.V = V[:] # copy, 안 하면 바깥의 V가 바뀌면 같이 바뀌어서 곤란하다.\n",
    "        # Initialize neighbor list (empty)\n",
    "        self.neighbor = {}\n",
    "        for v in V: # Key 등록!\n",
    "            self.neighbor[v] = []\n",
    "        # Set nieghbor relationship by using edges\n",
    "        for (v,w) in E:\n",
    "            self.neighbor[v].append(w) # Value 등록!\n",
    "            self.neighbor[w].append(v) # Value 에도 key 등록!\n",
    "            \n",
    "    def __DFTHelp(self, visited:dict, v:int) -> None:\n",
    "        if not visited[v]:\n",
    "            # Do something only when the vertex is not visited!\n",
    "            visited[v] = True\n",
    "            # Visit all the neighbors\n",
    "            for w in self.neighbor[v]:\n",
    "                self. __DFTHelp(visited, w)\n",
    "            # Post order (action after visiting all the neighbors)\n",
    "            print(v)            \n",
    "        \n",
    "    def DFT(self) -> None: \n",
    "        if self.V:\n",
    "            # Initialization\n",
    "            visited = {} # memorization \n",
    "            for v in self.V:\n",
    "                visited[v] = False \n",
    "            # Traversal - 'for loop' is necessary to visit all disconnected nodes\n",
    "            for v in self.V: # Disconnected 된 vertex를 방문하기 위해서\n",
    "                self.__DFTHelp(visited, v)\n",
    "                \n",
    "    def BFT(self) -> None:\n",
    "        if self.V:\n",
    "            #Initialization\n",
    "            visited = {}\n",
    "            for v in self.V:\n",
    "                visited[v] = False\n",
    "            q = deque([])\n",
    "            #Traversal\n",
    "            for v in self.V:\n",
    "                q.append(v)\n",
    "                while q:\n",
    "                    # Get the first vertex\n",
    "                    v = q.popleft()\n",
    "                    # Do something only when it is not visited\n",
    "                    if not visited[v]: \n",
    "                        visited[v] = True\n",
    "                        print(v)\n",
    "                        # Visit all the neighbors\n",
    "                        for w in self.neighbor[v]:\n",
    "                            q.append(w)\n",
    "                        print(q)"
   ]
  },
  {
   "cell_type": "code",
   "execution_count": 32,
   "id": "42d8f1ec",
   "metadata": {},
   "outputs": [],
   "source": [
    "myGraph = undi_grpah(V,E)"
   ]
  },
  {
   "cell_type": "code",
   "execution_count": 34,
   "id": "d9b63b20",
   "metadata": {},
   "outputs": [
    {
     "name": "stdout",
     "output_type": "stream",
     "text": [
      "0\n",
      "deque([1])\n",
      "1\n",
      "deque([0, 4, 5])\n",
      "4\n",
      "deque([5, 1, 6])\n",
      "5\n",
      "deque([1, 6, 1, 6, 7])\n",
      "6\n",
      "deque([1, 6, 7, 4, 5, 9])\n",
      "7\n",
      "deque([4, 5, 9, 5, 8])\n",
      "9\n",
      "deque([5, 8, 6])\n",
      "8\n",
      "deque([6, 7])\n",
      "2\n",
      "deque([3])\n",
      "3\n",
      "deque([2])\n"
     ]
    }
   ],
   "source": [
    "myGraph.BFT()"
   ]
  },
  {
   "cell_type": "markdown",
   "id": "54622b3b",
   "metadata": {},
   "source": [
    "Compared to tree, graph allows cycles and disconnection\n",
    "\n",
    "Graph traversals are a bit different from tree traversals but their core ideas are the same\n",
    " - Tracking what nodes have been visited to overcome cycles\n",
    " - Outer for loop to cover all disconnected islands\n",
    " \n",
    "Graph traversals are the most common tools for sloving graph problems"
   ]
  }
 ],
 "metadata": {
  "kernelspec": {
   "display_name": "Python 3 (ipykernel)",
   "language": "python",
   "name": "python3"
  },
  "language_info": {
   "codemirror_mode": {
    "name": "ipython",
    "version": 3
   },
   "file_extension": ".py",
   "mimetype": "text/x-python",
   "name": "python",
   "nbconvert_exporter": "python",
   "pygments_lexer": "ipython3",
   "version": "3.11.1"
  }
 },
 "nbformat": 4,
 "nbformat_minor": 5
}
