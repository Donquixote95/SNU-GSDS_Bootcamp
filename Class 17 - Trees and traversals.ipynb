{
 "cells": [
  {
   "cell_type": "markdown",
   "id": "a1350c34",
   "metadata": {},
   "source": [
    "K-ary Trees\n",
    " - A general tree node does not have to have only two children nodes\n",
    " - A tree that allows each node to have up to k children nodes is called k-ary tree"
   ]
  },
  {
   "cell_type": "code",
   "execution_count": 3,
   "id": "29ee857c",
   "metadata": {},
   "outputs": [],
   "source": [
    "class TreeNodes():\n",
    "    def __init__(self, x:int, k:int) -> None:\n",
    "        self.val = x\n",
    "        self.arity = k\n",
    "        self.child = [None]*k  #list를 k개 만든다."
   ]
  },
  {
   "cell_type": "markdown",
   "id": "46cf2e4d",
   "metadata": {},
   "source": [
    "How to navigate the whole tree conveniently?"
   ]
  },
  {
   "cell_type": "markdown",
   "id": "d53d009f",
   "metadata": {},
   "source": [
    "Breadth-First Traversal\n",
    " - 넓이를 먼저 탐색\n",
    " - visit nodes from left to right, and from top to bottom"
   ]
  },
  {
   "cell_type": "code",
   "execution_count": 11,
   "id": "a27dfd1f",
   "metadata": {},
   "outputs": [],
   "source": [
    "# Level-order (Breadth-First) Traversal\n",
    "\n",
    "class TreeNodes():\n",
    "    def __init__(self, x:int, k:int) -> None:\n",
    "        self.val = x\n",
    "        self.arity = k\n",
    "        self.child = [None]*k  #list를 k개 만든다.\n",
    "\n",
    "class Tree():\n",
    "    def visit(self, node: TreeNodes):\n",
    "        print(node.val) # 방문했다는 증거를 남기기\n",
    "    \n",
    "    def BET(self): #Breadth-First Traversal\n",
    "        if self.root == None:\n",
    "            return\n",
    "        q = [self.root] #queue 구조를 만들어주기, 방문을 기다리는 노드 ; 루트\n",
    "        while q:\n",
    "            curNode = q.pop(0) #dequeue\n",
    "            self.visit(curNode)\n",
    "            for childNode in curNode.child:\n",
    "                if childNode:\n",
    "                    q.append(childNode) \n",
    "                    \n",
    "# out ; 4261357"
   ]
  },
  {
   "cell_type": "code",
   "execution_count": 12,
   "id": "12e3a0d7",
   "metadata": {},
   "outputs": [],
   "source": [
    "# linked list에서 pop을 하는 게 바람직하진 않다. 왜냐하면 resizing이 일어날 수 있기 떄문에.\n",
    "# 따라서 Python에서 provide하는 Doubly-linked list를 이용한다.\n",
    "# append(x), appendleft(x), pop(), popleft()\n",
    "# from collections import deque\n",
    "# faster pushing and poping\n",
    "\n",
    "class TreeNodes():\n",
    "    def __init__(self, x:int, k:int) -> None:\n",
    "        self.val = x\n",
    "        self.arity = k\n",
    "        self.child = [None]*k  #list를 k개 만든다.\n",
    "\n",
    "class Tree():\n",
    "    def visit(self, node: TreeNodes):\n",
    "        print(node.val) # 방문했다는 증거를 남기기\n",
    "    \n",
    "    def BET(self): #Breadth-First Traversal\n",
    "        if self.root == None:\n",
    "            return\n",
    "        q = deque([self.root]) # list를 만드는데 dequeue 형태로 만들어진다. 더 빠르다.\n",
    "        # deque를 쓰는 건 보통 dynamic한 상황에서 사용한다. 넣고, 빼는 게 빠르다.\n",
    "        \n",
    "        while q :\n",
    "            curNode = q.popleft(0)\n",
    "            self.visit(curNode)\n",
    "            for childNode in curNode.child:\n",
    "                if childNode:\n",
    "                    q.append(childNode) "
   ]
  },
  {
   "cell_type": "code",
   "execution_count": 22,
   "id": "b2051490",
   "metadata": {},
   "outputs": [],
   "source": [
    "# Depth-First Traversal\n",
    "# Three types ; visit() 함수를 언제 쓸 지에 따라서 다르다.\n",
    "# Preorder, inorder, and postorder\n",
    "\n",
    "# Preorder ; Visit a node before tarversing its children from left to right\n",
    "\n",
    "class TreeNodes():\n",
    "    def __init__(self, x:int, k:int) -> None:\n",
    "        self.val = x\n",
    "        self.arity = k\n",
    "        self.child = [None]*k\n",
    "        \n",
    "class Tree():\n",
    "    def visit(self, node: TreeNodes):\n",
    "        print(node.val)\n",
    "        \n",
    "    def __DET_preorderHelp(slef, curNode: TreeNodes):\n",
    "        if curNode == None:\n",
    "            return\n",
    "        self.visit(curNode)\n",
    "        for childNode in curNode.child:\n",
    "            self.__DET_preorderHelp(childNode)\n",
    "        \n",
    "    def DET_preorder(self):\n",
    "        self.__DET_preorderHelp(self.root)\n",
    "        \n",
    "# 4213657        \n",
    "# Application: Directory listing (type \"Tree\" for run)"
   ]
  },
  {
   "cell_type": "code",
   "execution_count": 26,
   "id": "df3dc7e6",
   "metadata": {},
   "outputs": [],
   "source": [
    "# Depth-First Traversal\n",
    "\n",
    "# Inorder ; Visit a node's children from left to right and visit the node in the middle\n",
    "\n",
    "class TreeNodes():\n",
    "    def __init__(self, x:int, k:int) -> None:\n",
    "        self.val = x\n",
    "        self.arity = k\n",
    "        self.child = [None]*k\n",
    "\n",
    "class Tree():\n",
    "    def visit(self, node: TreeNodes):\n",
    "        print(node.val)\n",
    "        \n",
    "    def __DET_inoderHelp(slef, curNode: TreeNodes):\n",
    "        if curNode == None:\n",
    "            return\n",
    "        for i in range(len(curNode.child)):\n",
    "            if i == 1:\n",
    "                self.visit(curNode)\n",
    "            self.__DET_inorderHelp(curNode.child[i])\n",
    "        \n",
    "    def DET_inorder(self):\n",
    "        self. __DET_preorderHelp(self.root)\n",
    "        \n",
    "# out ; 1234567        \n",
    "# Application: Convert a bianry search tree to a sorted list (Flattening a BST)"
   ]
  },
  {
   "cell_type": "code",
   "execution_count": 27,
   "id": "0755caa0",
   "metadata": {},
   "outputs": [],
   "source": [
    "# Depth-First Traversal\n",
    "\n",
    "# postorder ; Visit a node after traversing its children from left to right\n",
    "\n",
    "class TreeNodes():\n",
    "    def __init__(self, x:int, k:int) -> None:\n",
    "        self.val = x\n",
    "        self.arity = k\n",
    "        self.child = [None]*k\n",
    "\n",
    "class Tree():\n",
    "    def visit(self, node: TreeNodes):\n",
    "        print(node.val)\n",
    "        \n",
    "    def __DET_postderHelp(slef, curNode: TreeNodes):\n",
    "        if curNode == None:\n",
    "            return\n",
    "        for i in range(len(curNode.child)):\n",
    "            self.__DET_postorderHelp(curNode.child[i])\n",
    "        self.visit(curNode)\n",
    "        \n",
    "    def DET_postorder(self):\n",
    "        self. __DET_postorderHelp(self.root)\n",
    "        \n",
    "# out ; 1325764\n",
    "# Application: File size calculation"
   ]
  },
  {
   "cell_type": "code",
   "execution_count": 28,
   "id": "de272b2b",
   "metadata": {},
   "outputs": [],
   "source": [
    "# File size calculation\n",
    "\n",
    "class TreeNodes():\n",
    "    def __init__(self, x:int, k:int) -> None:\n",
    "        self.val = x\n",
    "        self.arity = k\n",
    "        self.child = [None]*k\n",
    "\n",
    "class Tree():\n",
    "    def visit(self, node: TreeNodes):\n",
    "        node.val += size\n",
    "        \n",
    "    def __DET_postderHelp(slef, curNode: TreeNodes):\n",
    "        if curNode == None:\n",
    "            return\n",
    "        subSize = 0\n",
    "        for i in range(len(curNode.child)):\n",
    "            subSize += self.__DET_postorderHelp(curNode.child[i])\n",
    "        self.visit(curNode, subSize)\n",
    "        return curNode.val\n",
    "        \n",
    "    def DET_postorder(self) -> float:\n",
    "        self. __DET_postorderHelp(self.root)"
   ]
  },
  {
   "cell_type": "markdown",
   "id": "7de5f09c",
   "metadata": {},
   "source": [
    "Breath-first traversal\n",
    " - Implementation using FIFO queue (deque in Python)\n",
    "\n",
    "Depth-first traversal\n",
    " - Implementation using recursion (or LIFO stack - also using deque in python)\n",
    " - Three types for differnt purposes ; preorder, inorder, postorder"
   ]
  },
  {
   "cell_type": "markdown",
   "id": "7d46a628",
   "metadata": {},
   "source": []
  }
 ],
 "metadata": {
  "kernelspec": {
   "display_name": "Python 3 (ipykernel)",
   "language": "python",
   "name": "python3"
  },
  "language_info": {
   "codemirror_mode": {
    "name": "ipython",
    "version": 3
   },
   "file_extension": ".py",
   "mimetype": "text/x-python",
   "name": "python",
   "nbconvert_exporter": "python",
   "pygments_lexer": "ipython3",
   "version": "3.11.1"
  }
 },
 "nbformat": 4,
 "nbformat_minor": 5
}
