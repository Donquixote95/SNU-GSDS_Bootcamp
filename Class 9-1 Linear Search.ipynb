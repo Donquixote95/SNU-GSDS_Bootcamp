{
 "cells": [
  {
   "cell_type": "markdown",
   "id": "86961f75",
   "metadata": {},
   "source": [
    "# Linear Search(1)\n",
    "def linear_search_while(L: list, value: Any) -> int:\n",
    "    i = 0\n",
    "    while i < len(L) and L[i] != value:\n",
    "        i += 1\n",
    "    if i == len(L):\n",
    "        return -1\n",
    "    else:\n",
    "        return i #index를 return"
   ]
  },
  {
   "cell_type": "markdown",
   "id": "54051ed5",
   "metadata": {},
   "source": [
    "# Linear Search(2) ; while loop with sentinel\n",
    "def linear_search_sentinel(L: list, value: Any) -> int:\n",
    "    L.append(value) # Add the sentinel\n",
    "    i = 0 \n",
    "    while L[i] != value: \n",
    "        i = i+1\n",
    "    L.pop() #Remove the sentinel\n",
    "    if i == len(L):\n",
    "        return -1\n",
    "    else:\n",
    "        return i"
   ]
  },
  {
   "cell_type": "markdown",
   "id": "dd99063f",
   "metadata": {},
   "source": [
    "# Linear Search(3) ; For Loop\n",
    "def linear_search_for(L:list, value: Any) -> int:\n",
    "    for i in range(len(L)):\n",
    "        if L[i] == value:\n",
    "            return i\n",
    "    return i"
   ]
  },
  {
   "cell_type": "markdown",
   "id": "ac15a0a8",
   "metadata": {},
   "source": [
    "# Time Complexity\n",
    "import time\n",
    "t_start = time.perf_counter()\n",
    "<<Algorithm>>\n",
    "t_end = time.perf_counter()\n",
    "return(t_end-t_start) * 1000.0 # the unit becomes milliseconds"
   ]
  },
  {
   "cell_type": "code",
   "execution_count": null,
   "id": "b3eaecf8",
   "metadata": {},
   "outputs": [],
   "source": []
  }
 ],
 "metadata": {
  "kernelspec": {
   "display_name": "Python 3 (ipykernel)",
   "language": "python",
   "name": "python3"
  },
  "language_info": {
   "codemirror_mode": {
    "name": "ipython",
    "version": 3
   },
   "file_extension": ".py",
   "mimetype": "text/x-python",
   "name": "python",
   "nbconvert_exporter": "python",
   "pygments_lexer": "ipython3",
   "version": "3.11.1"
  }
 },
 "nbformat": 4,
 "nbformat_minor": 5
}
