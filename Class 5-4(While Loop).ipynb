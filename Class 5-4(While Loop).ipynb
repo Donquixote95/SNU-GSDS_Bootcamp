{
 "cells": [
  {
   "cell_type": "code",
   "execution_count": 1,
   "id": "3d86b00b",
   "metadata": {},
   "outputs": [],
   "source": [
    " i = 0"
   ]
  },
  {
   "cell_type": "code",
   "execution_count": 3,
   "id": "42260321",
   "metadata": {},
   "outputs": [
    {
     "name": "stdout",
     "output_type": "stream",
     "text": [
      "1\n",
      "2\n",
      "3\n",
      "4\n",
      "5\n",
      "6\n",
      "7\n",
      "8\n",
      "9\n",
      "10\n"
     ]
    }
   ],
   "source": [
    "while i < 10:\n",
    "    i = i + 1\n",
    "    print(i)"
   ]
  },
  {
   "cell_type": "code",
   "execution_count": 4,
   "id": "2c993f2e",
   "metadata": {},
   "outputs": [
    {
     "data": {
      "text/plain": [
       "10"
      ]
     },
     "execution_count": 4,
     "metadata": {},
     "output_type": "execute_result"
    }
   ],
   "source": [
    "i"
   ]
  },
  {
   "cell_type": "code",
   "execution_count": 5,
   "id": "cc965cb0",
   "metadata": {},
   "outputs": [],
   "source": [
    "first_upper_index = -1\n",
    "randomString = \"soimoijSJosijoijAAsBsl\"\n",
    "for i in range(len(randomString)):\n",
    "    if randomString[i].isupper():\n",
    "        first_upper_index = i\n",
    "        break"
   ]
  },
  {
   "cell_type": "code",
   "execution_count": 6,
   "id": "980d6772",
   "metadata": {},
   "outputs": [
    {
     "data": {
      "text/plain": [
       "7"
      ]
     },
     "execution_count": 6,
     "metadata": {},
     "output_type": "execute_result"
    }
   ],
   "source": [
    "first_upper_index"
   ]
  },
  {
   "cell_type": "code",
   "execution_count": 7,
   "id": "30e44f80",
   "metadata": {},
   "outputs": [],
   "source": [
    "# continue : the loop stops the current iteration and starts next iteration\n",
    "first_upper_index = -1\n",
    "randomString = \"soimoijSJosijoijAAsBsl\"\n",
    "for i in range(len(randomString)):\n",
    "        if randomString[i].islower():\n",
    "            continue # continue는 아랫부분을 무시하고 다음 iteration으로 넘어간다.\n",
    "        first_upper_index = i\n",
    "        break"
   ]
  },
  {
   "cell_type": "code",
   "execution_count": 8,
   "id": "705835be",
   "metadata": {},
   "outputs": [
    {
     "data": {
      "text/plain": [
       "7"
      ]
     },
     "execution_count": 8,
     "metadata": {},
     "output_type": "execute_result"
    }
   ],
   "source": [
    "first_upper_index"
   ]
  },
  {
   "cell_type": "code",
   "execution_count": null,
   "id": "fc5c70f2",
   "metadata": {},
   "outputs": [],
   "source": []
  }
 ],
 "metadata": {
  "kernelspec": {
   "display_name": "Python 3 (ipykernel)",
   "language": "python",
   "name": "python3"
  },
  "language_info": {
   "codemirror_mode": {
    "name": "ipython",
    "version": 3
   },
   "file_extension": ".py",
   "mimetype": "text/x-python",
   "name": "python",
   "nbconvert_exporter": "python",
   "pygments_lexer": "ipython3",
   "version": "3.11.1"
  }
 },
 "nbformat": 4,
 "nbformat_minor": 5
}
