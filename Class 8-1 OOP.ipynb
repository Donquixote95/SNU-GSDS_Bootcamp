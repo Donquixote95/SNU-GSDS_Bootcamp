{
 "cells": [
  {
   "cell_type": "markdown",
   "id": "0380f2c0",
   "metadata": {},
   "source": [
    "Procedural Programming\n",
    " - A programming paradigm that relies on variables, data structures, and functions.\n",
    " - It breaks down a programming task into a collection of variables, data structures, and functions\n",
    " \n",
    "Object-oriented Programming\n",
    " - A programming paradigm that relies on the copncept of classes and objects"
   ]
  },
  {
   "cell_type": "markdown",
   "id": "8ff0c27c",
   "metadata": {},
   "source": [
    "Why OOP? - Spaghetti Code\n",
    " - Spaghetti code is a complex code where many modules (functions) are super inter-dependent to each other\n",
    " - Very hard to understand and fix\n",
    " - Fixing one function might cause another problem to several other functions\n",
    " - With procedural programming, it is easy to generate a spaghetti code.\n",
    "\n",
    "Combine a group of related variables (attributes) and functions (methods) into a unit, which is called object(encapsulation).\n",
    " - If object A's method does not work as intended, you just need to fix object A."
   ]
  },
  {
   "cell_type": "markdown",
   "id": "bbfada8a",
   "metadata": {},
   "source": [
    "Four Principles\n",
    "\n",
    " - Encapsulation ; Contain related information and behaviors (attributes and methods) in an object\n",
    "                 ; Reduce complexity and increase reusability\n",
    " - Abstraction ; Expose only high level interfaces to the outside world\n",
    "               ; Reduce complexity and isolate impact of changes\n",
    " - Inheritance ; Child classes inherit data and behaviors from parent class\n",
    "               ; Eliminate redundant code\n",
    " - Polymorphism ; many forms, ex) str에서 +와 int에서 +가 같은 모양이지만 다른 것이 된다.\n",
    "                ; Allow a single method to do different things depending on what object it is included in"
   ]
  },
  {
   "cell_type": "code",
   "execution_count": null,
   "id": "dea35328",
   "metadata": {},
   "outputs": [],
   "source": []
  }
 ],
 "metadata": {
  "kernelspec": {
   "display_name": "Python 3 (ipykernel)",
   "language": "python",
   "name": "python3"
  },
  "language_info": {
   "codemirror_mode": {
    "name": "ipython",
    "version": 3
   },
   "file_extension": ".py",
   "mimetype": "text/x-python",
   "name": "python",
   "nbconvert_exporter": "python",
   "pygments_lexer": "ipython3",
   "version": "3.11.1"
  }
 },
 "nbformat": 4,
 "nbformat_minor": 5
}
