{
 "cells": [
  {
   "cell_type": "markdown",
   "id": "3f6a2505",
   "metadata": {},
   "source": [
    "def insertion_sort(L:list) -> None:\n",
    "    for i in range(1, Len(L)):\n",
    "        # insert L[i] to the proper location of L[:i]\n",
    "def insertion_sort(L: list) -> None:\n",
    "    for i in range(1, len(L)):\n",
    "        insert(L,i)"
   ]
  },
  {
   "cell_type": "markdown",
   "id": "ad6118d8",
   "metadata": {},
   "source": [
    "def insert(L:list, last_idx:int) -> None:\n",
    "    for i in range(last_idx, 0, -1): # (1) Go backwards\n",
    "        if L[i-1]>L[i]: #(2) Check stopping condition\n",
    "            L[i-1], L[i] = L[i], L[i-1] #(3) swap\n",
    "        else:\n",
    "            break "
   ]
  },
  {
   "cell_type": "code",
   "execution_count": 3,
   "id": "676c1e20",
   "metadata": {},
   "outputs": [],
   "source": [
    "def insertion_sort(L:list) -> None:\n",
    "    for i in range(1, len(L)):\n",
    "        for j in range(i, 0, -1):           # (1) Go backwards\n",
    "            if L[j-1]>L[j]:                 # (2) Check stopping condition\n",
    "                L[j-1], L[j] = L[j], L[j-1] # (3) swap\n",
    "            else:\n",
    "                break"
   ]
  },
  {
   "cell_type": "markdown",
   "id": "f98c637c",
   "metadata": {},
   "source": [
    "Time Complexity\n",
    "\n",
    "At i-th iteration, its inner loop (func insert) needs to look up (i+1)/2 items and swap i/2 times on average (평균적으로)"
   ]
  },
  {
   "cell_type": "markdown",
   "id": "1e118a0e",
   "metadata": {},
   "source": [
    "when N = len(L)\n",
    "\n",
    "Look up: 1 + 1.5 + 2 + ... + (N-1)/2 + N/2 = N(N+1)/4 - 1/2\n",
    "\n",
    "Swap: 0.5 + 1 + 1.5 + ... + (N-1)/2 = (N-1)N/4\n",
    "\n",
    "A bit slower than Selection sort 왜냐하면 swap 하는 게 value check 보다 조금 더 오래 걸리기 때문에.\n",
    "\n",
    "find_min() needs to look up the whole list\n",
    "Insert() needs to look up only half on average but also need to swap!\n",
    "\n",
    "When a list is almost sorted, insertion sort needs to look up only kN items"
   ]
  },
  {
   "cell_type": "markdown",
   "id": "909f5b44",
   "metadata": {},
   "source": [
    "Insertion sort\n",
    "\n",
    "Time complexity ~ N^2\n",
    "\n",
    "Nice when a list is almost sorted already"
   ]
  },
  {
   "cell_type": "code",
   "execution_count": null,
   "id": "947466b4",
   "metadata": {},
   "outputs": [],
   "source": []
  }
 ],
 "metadata": {
  "kernelspec": {
   "display_name": "Python 3 (ipykernel)",
   "language": "python",
   "name": "python3"
  },
  "language_info": {
   "codemirror_mode": {
    "name": "ipython",
    "version": 3
   },
   "file_extension": ".py",
   "mimetype": "text/x-python",
   "name": "python",
   "nbconvert_exporter": "python",
   "pygments_lexer": "ipython3",
   "version": "3.11.1"
  }
 },
 "nbformat": 4,
 "nbformat_minor": 5
}
