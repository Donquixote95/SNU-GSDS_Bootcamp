{
 "cells": [
  {
   "cell_type": "markdown",
   "id": "5b940b98",
   "metadata": {},
   "source": [
    "Sets\n",
    "\n",
    " - sets, store unordered and distinct items\n",
    " - sets are mutable and can be used as function arguments\n",
    " - set is also a class that has its own methods\n",
    "\n",
    " - Declare a set using {xxx}"
   ]
  },
  {
   "cell_type": "code",
   "execution_count": 2,
   "id": "6240a69a",
   "metadata": {},
   "outputs": [],
   "source": [
    "vowels = {\"a\", \"e\", \"i\", \"o\", \"u\", \"a\", \"e\", \"i\", \"o\", \"u\"}"
   ]
  },
  {
   "cell_type": "code",
   "execution_count": 3,
   "id": "1b182789",
   "metadata": {},
   "outputs": [
    {
     "data": {
      "text/plain": [
       "{'a', 'e', 'i', 'o', 'u'}"
      ]
     },
     "execution_count": 3,
     "metadata": {},
     "output_type": "execute_result"
    }
   ],
   "source": [
    "vowels"
   ]
  },
  {
   "cell_type": "code",
   "execution_count": 4,
   "id": "7609d176",
   "metadata": {},
   "outputs": [
    {
     "data": {
      "text/plain": [
       "True"
      ]
     },
     "execution_count": 4,
     "metadata": {},
     "output_type": "execute_result"
    }
   ],
   "source": [
    "{\"a\", \"e\", \"i\", \"o\", \"u\", \"a\", \"e\", \"i\", \"o\", \"u\"} == {'a', 'e', 'i', 'o', 'u'}"
   ]
  },
  {
   "cell_type": "code",
   "execution_count": 5,
   "id": "f2e894c4",
   "metadata": {},
   "outputs": [],
   "source": [
    "# An empty set\n",
    "a = set()"
   ]
  },
  {
   "cell_type": "code",
   "execution_count": 6,
   "id": "f66c956c",
   "metadata": {},
   "outputs": [
    {
     "data": {
      "text/plain": [
       "set()"
      ]
     },
     "execution_count": 6,
     "metadata": {},
     "output_type": "execute_result"
    }
   ],
   "source": [
    "a"
   ]
  },
  {
   "cell_type": "code",
   "execution_count": 7,
   "id": "b95c26a2",
   "metadata": {},
   "outputs": [],
   "source": [
    "# NOT {} ; empty set이 아니다. 별도의 set() function을 사용해야 한다."
   ]
  },
  {
   "cell_type": "code",
   "execution_count": 8,
   "id": "04fa795e",
   "metadata": {},
   "outputs": [
    {
     "data": {
      "text/plain": [
       "{2, 3, 4, 5}"
      ]
     },
     "execution_count": 8,
     "metadata": {},
     "output_type": "execute_result"
    }
   ],
   "source": [
    "set([2,3,4,2,4,5])"
   ]
  },
  {
   "cell_type": "code",
   "execution_count": 9,
   "id": "de2f0003",
   "metadata": {},
   "outputs": [],
   "source": [
    "students = set([\"inhoe\", \"yesong\", \"jaehyuk\", \"yeha\"])\n",
    "# for student in students: \n",
    "# loop가 가능하지만, unordered 하다."
   ]
  },
  {
   "cell_type": "code",
   "execution_count": 12,
   "id": "96907c0e",
   "metadata": {},
   "outputs": [],
   "source": [
    "digits = set([0,1,2,3,4,5])\n",
    "odds = set([1,3,5,7,9])"
   ]
  },
  {
   "cell_type": "code",
   "execution_count": 13,
   "id": "9a07ea60",
   "metadata": {},
   "outputs": [],
   "source": [
    "digits.add(6)"
   ]
  },
  {
   "cell_type": "code",
   "execution_count": 14,
   "id": "8d541e46",
   "metadata": {},
   "outputs": [],
   "source": [
    "digits.remove(2)"
   ]
  },
  {
   "cell_type": "code",
   "execution_count": 15,
   "id": "b2a8fa58",
   "metadata": {},
   "outputs": [],
   "source": [
    "digits.clear()"
   ]
  },
  {
   "cell_type": "code",
   "execution_count": 16,
   "id": "bebb7153",
   "metadata": {},
   "outputs": [
    {
     "data": {
      "text/plain": [
       "set()"
      ]
     },
     "execution_count": 16,
     "metadata": {},
     "output_type": "execute_result"
    }
   ],
   "source": [
    "digits"
   ]
  },
  {
   "cell_type": "code",
   "execution_count": 17,
   "id": "0d7eb863",
   "metadata": {},
   "outputs": [
    {
     "data": {
      "text/plain": [
       "True"
      ]
     },
     "execution_count": 17,
     "metadata": {},
     "output_type": "execute_result"
    }
   ],
   "source": [
    "digits.issubset(odds) \n",
    "# 부분집합인지 물어보는 것\n",
    "# digits <= odds 와 같은 표현"
   ]
  },
  {
   "cell_type": "code",
   "execution_count": 18,
   "id": "4e0ea918",
   "metadata": {},
   "outputs": [
    {
     "data": {
      "text/plain": [
       "False"
      ]
     },
     "execution_count": 18,
     "metadata": {},
     "output_type": "execute_result"
    }
   ],
   "source": [
    "digits.issuperset(odds) \n",
    "# 포함하는 집합인지 물어보는 것\n",
    "# digits >= odds 와 같은 표현"
   ]
  },
  {
   "cell_type": "code",
   "execution_count": 19,
   "id": "53910c9c",
   "metadata": {},
   "outputs": [
    {
     "data": {
      "text/plain": [
       "set()"
      ]
     },
     "execution_count": 19,
     "metadata": {},
     "output_type": "execute_result"
    }
   ],
   "source": [
    "digits.difference(odds)\n",
    "# digits - odds"
   ]
  },
  {
   "cell_type": "code",
   "execution_count": 20,
   "id": "2b13ac56",
   "metadata": {},
   "outputs": [
    {
     "data": {
      "text/plain": [
       "set()"
      ]
     },
     "execution_count": 20,
     "metadata": {},
     "output_type": "execute_result"
    }
   ],
   "source": [
    "digits.intersection(odds)\n",
    "# digits & odds"
   ]
  },
  {
   "cell_type": "code",
   "execution_count": 22,
   "id": "4aec7dc1",
   "metadata": {},
   "outputs": [
    {
     "data": {
      "text/plain": [
       "{1, 3, 5, 7, 9}"
      ]
     },
     "execution_count": 22,
     "metadata": {},
     "output_type": "execute_result"
    }
   ],
   "source": [
    "digits.symmetric_difference(odds)\n",
    "# digits^odds"
   ]
  },
  {
   "cell_type": "code",
   "execution_count": 23,
   "id": "f3f29621",
   "metadata": {},
   "outputs": [
    {
     "data": {
      "text/plain": [
       "{1, 3, 5, 7, 9}"
      ]
     },
     "execution_count": 23,
     "metadata": {},
     "output_type": "execute_result"
    }
   ],
   "source": [
    "digits.union(odds)\n",
    "# digits|odds"
   ]
  },
  {
   "cell_type": "markdown",
   "id": "9b011c5a",
   "metadata": {},
   "source": [
    "Immutable Content\n",
    "\n",
    "set supports \"in\" operator (value_A in set_A)\n",
    "\n",
    "Checking for set membership is fast(directly done) since it uses\n",
    "mathematical techinque called hashing\n",
    " - In contrast, checking for list membership needs scanning the whole items\n",
    "\n",
    "# set 에서 'in' operator로 찾는 속도가\n",
    "# list 에서 'in' operator로 찾는 속도보다 훨씬 빠르다.\n",
    "\n",
    "# set에서는 한 번만에 찾을 수 있다.\n",
    "\n",
    "Hashing assumes that all elements of a set are immutable and a mutable element like List cannot be an element of a set\n",
    " - S = set()\n",
    " - L = [1,2,3]\n",
    " - S.add(L)\n",
    " - Error"
   ]
  },
  {
   "cell_type": "code",
   "execution_count": 25,
   "id": "f909d3b5",
   "metadata": {},
   "outputs": [
    {
     "ename": "TypeError",
     "evalue": "unhashable type: 'list'",
     "output_type": "error",
     "traceback": [
      "\u001b[1;31m---------------------------------------------------------------------------\u001b[0m",
      "\u001b[1;31mTypeError\u001b[0m                                 Traceback (most recent call last)",
      "Cell \u001b[1;32mIn[25], line 4\u001b[0m\n\u001b[0;32m      2\u001b[0m L \u001b[38;5;241m=\u001b[39m [\u001b[38;5;241m1\u001b[39m,\u001b[38;5;241m2\u001b[39m,\u001b[38;5;241m3\u001b[39m]\n\u001b[0;32m      3\u001b[0m L[\u001b[38;5;241m0\u001b[39m] \u001b[38;5;241m=\u001b[39m \u001b[38;5;241m2\u001b[39m \u001b[38;5;66;03m# List는 이와 같이 mutable하다.\u001b[39;00m\n\u001b[1;32m----> 4\u001b[0m \u001b[43mS\u001b[49m\u001b[38;5;241;43m.\u001b[39;49m\u001b[43madd\u001b[49m\u001b[43m(\u001b[49m\u001b[43mL\u001b[49m\u001b[43m)\u001b[49m\n",
      "\u001b[1;31mTypeError\u001b[0m: unhashable type: 'list'"
     ]
    }
   ],
   "source": [
    "S = set()\n",
    "L = [1,2,3]\n",
    "L[0] = 2 # List는 이와 같이 mutable하다.\n",
    "S.add(L)"
   ]
  },
  {
   "cell_type": "markdown",
   "id": "4de05413",
   "metadata": {},
   "source": [
    "Tuple\n",
    " - Like Lists, Tuples have ordered items\n",
    " - Unlike Lists (and like Strings), Tuples are immutable\n",
    " - Declare a tuple using ()\n",
    " - nums = ()\n",
    " - nums = (8,) # comma를 해주지 않으면 (8)인 primitive expression이 된다. 그저 괄호 안에 숫자 8을 넣은 것.\n",
    " - nums = (5+3,)"
   ]
  },
  {
   "cell_type": "code",
   "execution_count": 26,
   "id": "88a2f35d",
   "metadata": {},
   "outputs": [],
   "source": [
    "nums = (5+3,)"
   ]
  },
  {
   "cell_type": "code",
   "execution_count": 27,
   "id": "ce722b92",
   "metadata": {},
   "outputs": [
    {
     "data": {
      "text/plain": [
       "(8,)"
      ]
     },
     "execution_count": 27,
     "metadata": {},
     "output_type": "execute_result"
    }
   ],
   "source": [
    "nums"
   ]
  },
  {
   "cell_type": "markdown",
   "id": "66dea523",
   "metadata": {},
   "source": [
    "Tuples cannot be mutated"
   ]
  },
  {
   "cell_type": "code",
   "execution_count": 28,
   "id": "bb9e7ce0",
   "metadata": {},
   "outputs": [
    {
     "ename": "TypeError",
     "evalue": "'tuple' object does not support item assignment",
     "output_type": "error",
     "traceback": [
      "\u001b[1;31m---------------------------------------------------------------------------\u001b[0m",
      "\u001b[1;31mTypeError\u001b[0m                                 Traceback (most recent call last)",
      "Cell \u001b[1;32mIn[28], line 2\u001b[0m\n\u001b[0;32m      1\u001b[0m family \u001b[38;5;241m=\u001b[39m (\u001b[38;5;124m\"\u001b[39m\u001b[38;5;124mdad\u001b[39m\u001b[38;5;124m\"\u001b[39m, \u001b[38;5;124m\"\u001b[39m\u001b[38;5;124mmom\u001b[39m\u001b[38;5;124m\"\u001b[39m, \u001b[38;5;124m\"\u001b[39m\u001b[38;5;124mme\u001b[39m\u001b[38;5;124m\"\u001b[39m, \u001b[38;5;124m\"\u001b[39m\u001b[38;5;124mbrother\u001b[39m\u001b[38;5;124m\"\u001b[39m)\n\u001b[1;32m----> 2\u001b[0m \u001b[43mfamily\u001b[49m\u001b[43m[\u001b[49m\u001b[38;5;241;43m0\u001b[39;49m\u001b[43m]\u001b[49m \u001b[38;5;241m=\u001b[39m \u001b[38;5;124m\"\u001b[39m\u001b[38;5;124mgrand father\u001b[39m\u001b[38;5;124m\"\u001b[39m\n",
      "\u001b[1;31mTypeError\u001b[0m: 'tuple' object does not support item assignment"
     ]
    }
   ],
   "source": [
    "family = (\"dad\", \"mom\", \"me\", \"brother\")\n",
    "family[0] = \"grand father\" # reassignment가 되지 않는다. error"
   ]
  },
  {
   "cell_type": "markdown",
   "id": "50b644da",
   "metadata": {},
   "source": [
    "Objects inside tuples can be mutated"
   ]
  },
  {
   "cell_type": "code",
   "execution_count": 29,
   "id": "b0c72779",
   "metadata": {},
   "outputs": [
    {
     "ename": "TypeError",
     "evalue": "'tuple' object does not support item assignment",
     "output_type": "error",
     "traceback": [
      "\u001b[1;31m---------------------------------------------------------------------------\u001b[0m",
      "\u001b[1;31mTypeError\u001b[0m                                 Traceback (most recent call last)",
      "Cell \u001b[1;32mIn[29], line 2\u001b[0m\n\u001b[0;32m      1\u001b[0m family \u001b[38;5;241m=\u001b[39m ([\u001b[38;5;124m\"\u001b[39m\u001b[38;5;124mdad\u001b[39m\u001b[38;5;124m\"\u001b[39m, \u001b[38;5;241m60\u001b[39m], [\u001b[38;5;124m\"\u001b[39m\u001b[38;5;124mmom\u001b[39m\u001b[38;5;124m\"\u001b[39m, \u001b[38;5;241m58\u001b[39m])\n\u001b[1;32m----> 2\u001b[0m \u001b[43mfamily\u001b[49m\u001b[43m[\u001b[49m\u001b[38;5;241;43m0\u001b[39;49m\u001b[43m]\u001b[49m \u001b[38;5;241m=\u001b[39m\u001b[38;5;241m111\u001b[39m\n",
      "\u001b[1;31mTypeError\u001b[0m: 'tuple' object does not support item assignment"
     ]
    }
   ],
   "source": [
    "family = ([\"dad\", 60], [\"mom\", 58])\n",
    "family[0] =111"
   ]
  },
  {
   "cell_type": "code",
   "execution_count": 30,
   "id": "97304f09",
   "metadata": {},
   "outputs": [],
   "source": [
    "family[0][1] = 61"
   ]
  },
  {
   "cell_type": "code",
   "execution_count": 31,
   "id": "e9fdbec7",
   "metadata": {},
   "outputs": [
    {
     "data": {
      "text/plain": [
       "(['dad', 61], ['mom', 58])"
      ]
     },
     "execution_count": 31,
     "metadata": {},
     "output_type": "execute_result"
    }
   ],
   "source": [
    "family"
   ]
  },
  {
   "cell_type": "markdown",
   "id": "0161b47d",
   "metadata": {},
   "source": [
    "Dictionaries\n",
    "\n",
    " - dictionaries have ordered mutable items without duplicates\n",
    "   (insertion order)\n",
    " - Unlike those in sets, items in dictionaries are key/value pairs\n",
    "   (key is like index in Lists)\n",
    " - Declare using {}\n",
    " - dict_empty = {} \n",
    " # 그래서 중복을 방지하기 위해 empty set은 set() 함수를 이용해서 정의함."
   ]
  },
  {
   "cell_type": "code",
   "execution_count": 33,
   "id": "cc03b78c",
   "metadata": {},
   "outputs": [],
   "source": [
    "dict_grades = {\"hongsik\":\"A+\", \"yejin\" :\"B\", \"jaehyun\" : \"A0\"}"
   ]
  },
  {
   "cell_type": "code",
   "execution_count": 34,
   "id": "aacf1c2d",
   "metadata": {},
   "outputs": [
    {
     "name": "stdout",
     "output_type": "stream",
     "text": [
      "hongsik got grade dict_grades[student]\n",
      "yejin got grade dict_grades[student]\n",
      "jaehyun got grade dict_grades[student]\n"
     ]
    }
   ],
   "source": [
    "for student in dict_grades:\n",
    "    print(student, \"got grade\", \"dict_grades[student]\")"
   ]
  },
  {
   "cell_type": "markdown",
   "id": "b8aa8825",
   "metadata": {},
   "source": [
    "Methods\n",
    "\n",
    " - dict_grades.clear()\n",
    " - dict_grades.keys() ; Returns all keys as a set-like object(unique entries)\n",
    " - dict_grades.items() ; Returns all key/value pairs as set-like objects(unique entries)\n",
    " - dict_grades.values() ; Returns all values as a list-like object (maybe not unique entries)\n",
    " - dict_grades.get(k) ; Returns the value associated with key k\n",
    " - dict_grades.get(k,v) ; Same + returns v if key k is not present\n",
    " - dict_grades.pop(k) ; removes key k and returns the value associated with the key\n",
    " - dict_grades.pop(k,v) ; same above, returns v if key k is not present\n",
    " - dict_grades.setdefault(k) ; Returns the value associated with key k, if key k is not present, add it and set its associated value to None\n",
    " - dict_grades.setdefault(k,v) ; Returns the value associated with key k, if key k is not present, add it and set its associated value to v\n",
    " - dict_grades.update(dict2) ; update dict_grades with the contents of dict2"
   ]
  },
  {
   "cell_type": "code",
   "execution_count": 41,
   "id": "2c96c88c",
   "metadata": {},
   "outputs": [
    {
     "name": "stdout",
     "output_type": "stream",
     "text": [
      "None\n"
     ]
    }
   ],
   "source": [
    "print(dict_grades.get(\"test\")) # None"
   ]
  },
  {
   "cell_type": "code",
   "execution_count": 39,
   "id": "b1b9a59b",
   "metadata": {},
   "outputs": [
    {
     "data": {
      "text/plain": [
       "0"
      ]
     },
     "execution_count": 39,
     "metadata": {},
     "output_type": "execute_result"
    }
   ],
   "source": [
    "dict_grades.get(\"test\", 0)"
   ]
  },
  {
   "cell_type": "code",
   "execution_count": 42,
   "id": "6b5ffd96",
   "metadata": {},
   "outputs": [],
   "source": [
    "dict_grades.setdefault(\"test\")"
   ]
  },
  {
   "cell_type": "code",
   "execution_count": 43,
   "id": "3ce28661",
   "metadata": {},
   "outputs": [
    {
     "data": {
      "text/plain": [
       "{'hongsik': 'A+', 'yejin': 'B', 'jaehyun': 'A0', 'test': None}"
      ]
     },
     "execution_count": 43,
     "metadata": {},
     "output_type": "execute_result"
    }
   ],
   "source": [
    "dict_grades"
   ]
  },
  {
   "cell_type": "code",
   "execution_count": 44,
   "id": "51b49eb4",
   "metadata": {},
   "outputs": [
    {
     "data": {
      "text/plain": [
       "'good'"
      ]
     },
     "execution_count": 44,
     "metadata": {},
     "output_type": "execute_result"
    }
   ],
   "source": [
    "dict_grades.setdefault(\"test2\",\"good\")"
   ]
  },
  {
   "cell_type": "code",
   "execution_count": 46,
   "id": "0190b4ec",
   "metadata": {},
   "outputs": [
    {
     "data": {
      "text/plain": [
       "{'hongsik': 'A+', 'yejin': 'B', 'jaehyun': 'A0', 'test': None, 'test2': 'good'}"
      ]
     },
     "execution_count": 46,
     "metadata": {},
     "output_type": "execute_result"
    }
   ],
   "source": [
    "dict_grades"
   ]
  },
  {
   "cell_type": "code",
   "execution_count": 47,
   "id": "61f894ca",
   "metadata": {},
   "outputs": [
    {
     "data": {
      "text/plain": [
       "'good'"
      ]
     },
     "execution_count": 47,
     "metadata": {},
     "output_type": "execute_result"
    }
   ],
   "source": [
    "dict_grades.pop(\"test2\")"
   ]
  },
  {
   "cell_type": "code",
   "execution_count": 48,
   "id": "099e2f68",
   "metadata": {},
   "outputs": [
    {
     "data": {
      "text/plain": [
       "{'hongsik': 'A+', 'yejin': 'B', 'jaehyun': 'A0', 'test': None}"
      ]
     },
     "execution_count": 48,
     "metadata": {},
     "output_type": "execute_result"
    }
   ],
   "source": [
    "dict_grades"
   ]
  },
  {
   "cell_type": "code",
   "execution_count": 49,
   "id": "4d91a7aa",
   "metadata": {},
   "outputs": [
    {
     "data": {
      "text/plain": [
       "'exciting'"
      ]
     },
     "execution_count": 49,
     "metadata": {},
     "output_type": "execute_result"
    }
   ],
   "source": [
    "dict_grades.pop(\"test2\", \"exciting\")"
   ]
  },
  {
   "cell_type": "code",
   "execution_count": 50,
   "id": "2950928e",
   "metadata": {},
   "outputs": [
    {
     "data": {
      "text/plain": [
       "{'hongsik': 'A+', 'yejin': 'B', 'jaehyun': 'A0', 'test': None}"
      ]
     },
     "execution_count": 50,
     "metadata": {},
     "output_type": "execute_result"
    }
   ],
   "source": [
    "dict_grades"
   ]
  },
  {
   "cell_type": "markdown",
   "id": "14ebb0b3",
   "metadata": {},
   "source": [
    "\"in\" Operations\n",
    "\n",
    "\"in\" operator only check if a value is one of the dictionary's keys\n",
    "(ignoring values) "
   ]
  },
  {
   "cell_type": "code",
   "execution_count": 134,
   "id": "82db56b7",
   "metadata": {},
   "outputs": [],
   "source": [
    "grades = {\"inhoe\":\"A\", \"yesong\" :\"A+\", \"jaewook\" : \"A\", \"hyung-sin\" : \"C\"}"
   ]
  },
  {
   "cell_type": "code",
   "execution_count": 140,
   "id": "773d9995",
   "metadata": {},
   "outputs": [
    {
     "name": "stdout",
     "output_type": "stream",
     "text": [
      "{'A': ['inhoe', 'jaewook'], 'A+': 'yesong', 'C': 'hyung-sin'}\n"
     ]
    }
   ],
   "source": [
    "# 내 답안\n",
    "dict2 = {}\n",
    "a_list = []\n",
    "for key, element in grades.items():\n",
    "    if element not in dict2:\n",
    "        dict2[element] = key\n",
    "    else:\n",
    "        a_list.append(dict2[element])\n",
    "        a_list.append(key)\n",
    "        dict2[element] = a_list\n",
    "print(dict2)"
   ]
  },
  {
   "cell_type": "code",
   "execution_count": 144,
   "id": "064b2ce9",
   "metadata": {},
   "outputs": [],
   "source": [
    "# 교수님 답안\n",
    "grades = {\"inhoe\":\"A\", \"yesong\" :\"A+\", \"jaewook\" : \"A\", \"hyung-sin\" : \"C\"}\n",
    "grades_inv = {}\n",
    "for student, grade in grades.items():\n",
    "    if grade in grades_inv:\n",
    "        grades_inv[grade].append(student)\n",
    "    else:\n",
    "        grades_inv[grade] = [student]"
   ]
  },
  {
   "cell_type": "code",
   "execution_count": 146,
   "id": "dfa08d56",
   "metadata": {},
   "outputs": [
    {
     "name": "stdout",
     "output_type": "stream",
     "text": [
      "{'A': ['inhoe', 'jaewook'], 'A+': ['yesong'], 'C': ['hyung-sin']}\n"
     ]
    }
   ],
   "source": [
    "print(grades_inv)"
   ]
  },
  {
   "cell_type": "code",
   "execution_count": 147,
   "id": "237388de",
   "metadata": {},
   "outputs": [],
   "source": [
    "# 키는 중복되지 않는데, Value는 중복되는 경우에 관한 문제였다.\n",
    "# key와 대응되는 value를 리스트로 하거나, 기타 복수 자료를 허용하는 형식으로 바꾸면 된다."
   ]
  },
  {
   "cell_type": "code",
   "execution_count": 148,
   "id": "e8f2648f",
   "metadata": {},
   "outputs": [
    {
     "ename": "SyntaxError",
     "evalue": "invalid syntax (2830201818.py, line 1)",
     "output_type": "error",
     "traceback": [
      "\u001b[1;36m  Cell \u001b[1;32mIn[148], line 1\u001b[1;36m\u001b[0m\n\u001b[1;33m    git init\u001b[0m\n\u001b[1;37m        ^\u001b[0m\n\u001b[1;31mSyntaxError\u001b[0m\u001b[1;31m:\u001b[0m invalid syntax\n"
     ]
    }
   ],
   "source": []
  },
  {
   "cell_type": "code",
   "execution_count": null,
   "id": "c0ce51a3",
   "metadata": {},
   "outputs": [],
   "source": []
  }
 ],
 "metadata": {
  "kernelspec": {
   "display_name": "Python 3 (ipykernel)",
   "language": "python",
   "name": "python3"
  },
  "language_info": {
   "codemirror_mode": {
    "name": "ipython",
    "version": 3
   },
   "file_extension": ".py",
   "mimetype": "text/x-python",
   "name": "python",
   "nbconvert_exporter": "python",
   "pygments_lexer": "ipython3",
   "version": "3.11.1"
  }
 },
 "nbformat": 4,
 "nbformat_minor": 5
}
