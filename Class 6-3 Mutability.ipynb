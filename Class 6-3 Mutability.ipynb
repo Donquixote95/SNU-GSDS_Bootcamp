{
 "cells": [
  {
   "cell_type": "markdown",
   "id": "174cf7e7",
   "metadata": {},
   "source": [
    "Mutability\n",
    " - When a container (collection) is mutable, after it is defined\n",
    " - (1) its elements can be added or removed\n",
    " - (2) its elements can change what address (object) to point at\n",
    " \n",
    "List ; mutable container with mutable elements\n",
    "\n",
    "Dictionary ; the values is must be immutable. key는 set과 동일한 특성을 갖는다. hashing을 할 수 있음.\n",
    "\n",
    "Tuple ; immutable container with mutable elements\n",
    "\n",
    "Set ; mutable container with immutable elements\n",
    " - but each element must point at an immutable(hashable) object\n",
    " \n",
    "C.F. String은 immutable하고 ordered하다."
   ]
  },
  {
   "cell_type": "code",
   "execution_count": 2,
   "id": "bd3b50bd",
   "metadata": {},
   "outputs": [],
   "source": [
    "a = [1,2,3]\n",
    "b = a[::-2]"
   ]
  },
  {
   "cell_type": "code",
   "execution_count": 3,
   "id": "43a47f45",
   "metadata": {},
   "outputs": [
    {
     "data": {
      "text/plain": [
       "[3, 1]"
      ]
     },
     "execution_count": 3,
     "metadata": {},
     "output_type": "execute_result"
    }
   ],
   "source": [
    "b"
   ]
  },
  {
   "cell_type": "code",
   "execution_count": null,
   "id": "78f161cf",
   "metadata": {},
   "outputs": [],
   "source": []
  }
 ],
 "metadata": {
  "kernelspec": {
   "display_name": "Python 3 (ipykernel)",
   "language": "python",
   "name": "python3"
  },
  "language_info": {
   "codemirror_mode": {
    "name": "ipython",
    "version": 3
   },
   "file_extension": ".py",
   "mimetype": "text/x-python",
   "name": "python",
   "nbconvert_exporter": "python",
   "pygments_lexer": "ipython3",
   "version": "3.11.1"
  }
 },
 "nbformat": 4,
 "nbformat_minor": 5
}
