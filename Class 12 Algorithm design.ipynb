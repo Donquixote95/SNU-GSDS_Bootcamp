{
 "cells": [
  {
   "cell_type": "markdown",
   "id": "80c64788",
   "metadata": {},
   "source": [
    "Top-down Design Thinking\n",
    "\n",
    " - Reacall function design guideline\n",
    " - Understand the given problem\n",
    " - Think about various ways of solving the problem\n",
    " - Describe my solution (recipe) logically in human language\n",
    " - Divdie the solution into logical steps\n",
    " - Translate each logical step into computer language"
   ]
  },
  {
   "cell_type": "markdown",
   "id": "af9e1cc0",
   "metadata": {},
   "source": [
    "https://leetcode.com/\n",
    " - Famous problems and solutions\n",
    " - It evaluates my algorithms, how fast and memory efficient the algoritm is\n",
    " - Easy / Medium / Hard"
   ]
  },
  {
   "cell_type": "markdown",
   "id": "167935b0",
   "metadata": {},
   "source": [
    "Two Sum\n",
    "\n",
    "Given an array of integers, return indices of the two numbers such that they add up to a specific target.\n",
    "\n",
    "You may assum that each input would have exactly one solution, and you may not use the same element twice.\n",
    "\n",
    "Given nums = [2, 7, 11, 15], target = 9,\n",
    "\n",
    "Because nums[0] + nums[1] = 2+7 = 9,\n",
    "return [0, 1]."
   ]
  },
  {
   "cell_type": "code",
   "execution_count": 16,
   "id": "99a7f6de",
   "metadata": {},
   "outputs": [
    {
     "name": "stdout",
     "output_type": "stream",
     "text": [
      "input int with comma, no overlap: 2,4,5,6,7,8,9,1,2,12,32\n",
      "please input target num: 6\n",
      "the ans indiceis: 1,4\n",
      "the ans indiceis: 2,3\n",
      "the ans indiceis: 3,2\n",
      "the ans indiceis: 4,1\n"
     ]
    }
   ],
   "source": [
    "# 내 생각\n",
    "\n",
    "# 1. 사용자에게 input을 받아서 raw data를 생성한다. \n",
    "#    입력을 받을 때 숫자를 ','로 구분해서 받고, 전처리도 한꺼번에 한다.\n",
    "#    정수형으로 변환한다. 간단하게 map 함수를 사용한다.\n",
    "user_input = map(lambda x: int(x), list(input(\"input int with comma, no overlap: \").split(\",\")))\n",
    "user_target = int(input(\"please input target num: \"))\n",
    "\n",
    "# 2. 자료형은 set를 사용한다. 왜냐하면 중복을 허용할 필요가 없으니까. 그리고 해싱을 할 수 있으니까.\n",
    "     그런데.. indicies를 찾아야 하니까 리스트도 사용해야겠네..\n",
    "given_set = set(user_input)\n",
    "list_given_set = list(given_set) # list로 copy를 만드는 시점에서 memory complexity 증가\n",
    "\n",
    "# 3. set은 unordered하기 때문에 binary search는 사용할 수 없다. 아쉽지만.. linear search를 사용한다.\n",
    "#    만약 list로 만들었다면 binary search를 사용할 수 있겠지만, set으로 만드는 것 자체가 더 빠르지 않을까?\n",
    "#    for 반복문을 사용한다.\n",
    "\n",
    "for i in given_set:\n",
    "    counter_value = user_target-i\n",
    "    if counter_value in given_set:\n",
    "        print(\"the ans indiceis: \" f'{list_given_set.index(i)},{list_given_set.index(counter_value)}')\n",
    "\n",
    "# 결과값의 index를 찾기 위해 list를 linear search 하면 결국 처음부터 list를 사용하는 것보다 좋다고 할 수 있을까, \n",
    "# 아무리 set이 더 빠르다고 해도.\n",
    "# 결과값이 unique 하지 않고, 심지어 index 2, 4와 index 4, 2는 같은 것인데 출력은 각각 된다.\n",
    "# 이 문제를 해결하려면, remove, del, pop으로 지우면서 하는 방법이 있는데 algorithm의 효율성이 안 좋아지겠지."
   ]
  },
  {
   "cell_type": "code",
   "execution_count": 17,
   "id": "3fef24e3",
   "metadata": {},
   "outputs": [
    {
     "ename": "NameError",
     "evalue": "name 'twoSum' is not defined",
     "output_type": "error",
     "traceback": [
      "\u001b[1;31m---------------------------------------------------------------------------\u001b[0m",
      "\u001b[1;31mNameError\u001b[0m                                 Traceback (most recent call last)",
      "Cell \u001b[1;32mIn[17], line 10\u001b[0m\n\u001b[0;32m      8\u001b[0m \u001b[38;5;28;01mimport\u001b[39;00m \u001b[38;5;21;01mtime\u001b[39;00m\n\u001b[0;32m      9\u001b[0m t_start \u001b[38;5;241m=\u001b[39m time\u001b[38;5;241m.\u001b[39mperf_counter()\n\u001b[1;32m---> 10\u001b[0m \u001b[43mtwoSum\u001b[49m(L,\u001b[38;5;241m1\u001b[39m)\n\u001b[0;32m     11\u001b[0m t_end \u001b[38;5;241m=\u001b[39m time\u001b[38;5;241m.\u001b[39mperf_counter()\n\u001b[0;32m     12\u001b[0m \u001b[38;5;28mprint\u001b[39m(t_end \u001b[38;5;241m-\u001b[39m t_start)\n",
      "\u001b[1;31mNameError\u001b[0m: name 'twoSum' is not defined"
     ]
    }
   ],
   "source": [
    "# 교수님 생각\n",
    "\n",
    "# 시간 테스트를 위해 random 모듈로 생성하고, shuffle\n",
    "import random\n",
    "L = list(range(20000))\n",
    "random.shuffle(L)\n",
    "\n",
    "import time\n",
    "t_start = time.perf_counter()\n",
    "twoSum(L,1)\n",
    "t_end = time.perf_counter()\n",
    "print(t_end - t_start)"
   ]
  },
  {
   "cell_type": "code",
   "execution_count": 18,
   "id": "2a9be673",
   "metadata": {},
   "outputs": [],
   "source": [
    "def twoSum(nums: list, target: int) -> list:\n",
    "    for i in range(len(nums)):\n",
    "        for j in range(len(nums)):\n",
    "            if nums[i] + nums[j] == target:\n",
    "                return [i,j]\n",
    "# Time complexity ~ N^2\n",
    "# Space complexity ~ 1"
   ]
  },
  {
   "cell_type": "code",
   "execution_count": 19,
   "id": "c7b63c16",
   "metadata": {},
   "outputs": [
    {
     "name": "stdout",
     "output_type": "stream",
     "text": [
      "[8598, 11945]\n",
      "9.146796699991683\n"
     ]
    }
   ],
   "source": [
    "# 교수님 생각\n",
    "\n",
    "# 시간 테스트를 위해 random 모듈로 생성하고, shuffle\n",
    "import random\n",
    "L = list(range(20000))\n",
    "random.shuffle(L)\n",
    "\n",
    "import time\n",
    "t_start = time.perf_counter()\n",
    "print(twoSum(L,1))\n",
    "t_end = time.perf_counter()\n",
    "print(t_end - t_start)"
   ]
  },
  {
   "cell_type": "code",
   "execution_count": 20,
   "id": "64e55acc",
   "metadata": {},
   "outputs": [],
   "source": [
    "# 같은 숫자부터 찾을 필요는 없기 때문에\n",
    "def twoSumV2(nums: list, target: int) -> list:\n",
    "    for i in range(len(nums)):\n",
    "        for j in range(i+1, len(nums)):\n",
    "            if nums[i] + nums[j] == target:\n",
    "                return [i,j]\n",
    "            \n",
    "# Time complexity ~ N^2 * (1/2)\n",
    "# Space complexity ~ 1"
   ]
  },
  {
   "cell_type": "code",
   "execution_count": 21,
   "id": "e2bb5065",
   "metadata": {},
   "outputs": [
    {
     "name": "stdout",
     "output_type": "stream",
     "text": [
      "[17532, 19674]\n",
      "10.487366799992742\n"
     ]
    }
   ],
   "source": [
    "import random\n",
    "L = list(range(20000))\n",
    "random.shuffle(L)\n",
    "\n",
    "import time\n",
    "t_start = time.perf_counter()\n",
    "print(twoSumV2(L,1))\n",
    "t_end = time.perf_counter()\n",
    "print(t_end - t_start)"
   ]
  },
  {
   "cell_type": "code",
   "execution_count": 26,
   "id": "0bbf157d",
   "metadata": {},
   "outputs": [],
   "source": [
    "# Solution - Dict(1)\n",
    "\n",
    "import random\n",
    "L = list(range(20000))\n",
    "random.shuffle(L)\n",
    "\n",
    "def twoSumV3(nums:list, target:int) -> list:\n",
    "    myDict={}\n",
    "    for i in range(len(nums)): # Dictionary to find each value's index\n",
    "        myDict[nums[i]] = i\n",
    "    for i in range(len(nums)):\n",
    "                  complement = target - nums[i]\n",
    "                  if complement in myDict: # Search my complement from the dictionary\n",
    "                      return[i,myDict[complement]]\n",
    "\n",
    "#Time complexity ~ 2N\n",
    "#Space complexity ~ N"
   ]
  },
  {
   "cell_type": "code",
   "execution_count": 27,
   "id": "a1d4d4ae",
   "metadata": {},
   "outputs": [
    {
     "name": "stdout",
     "output_type": "stream",
     "text": [
      "[3673, 6029]\n",
      "0.0033002999844029546\n"
     ]
    }
   ],
   "source": [
    "t_start = time.perf_counter()\n",
    "print(twoSumV3(L,1))\n",
    "t_end = time.perf_counter()\n",
    "print(t_end - t_start)"
   ]
  },
  {
   "cell_type": "code",
   "execution_count": 30,
   "id": "9c95dbc8",
   "metadata": {},
   "outputs": [],
   "source": [
    "# Solution - Dict(2)\n",
    "\n",
    "import random\n",
    "L = list(range(20000))\n",
    "random.shuffle(L)\n",
    "\n",
    "def twoSumV4(nums:list, target:int) -> list:\n",
    "    myDict={}\n",
    "    for i in range(len(nums)): # Did someone select me as its complement?\n",
    "        if nums[i] in myDict:\n",
    "            return [myDict[nums[i]],i]\n",
    "        complement = target - nums[i]\n",
    "        myDict[complement] = i # Add an entry so that my complement can find my index \n",
    "        \n",
    "#Time complexity ~ N (slightly better than before)\n",
    "#Space complexity ~ N"
   ]
  },
  {
   "cell_type": "code",
   "execution_count": 31,
   "id": "064a953c",
   "metadata": {},
   "outputs": [
    {
     "name": "stdout",
     "output_type": "stream",
     "text": [
      "[10930, 16213]\n",
      "0.009924400015734136\n"
     ]
    }
   ],
   "source": [
    "t_start = time.perf_counter()\n",
    "print(twoSumV4(L,1))\n",
    "t_end = time.perf_counter()\n",
    "print(t_end - t_start)"
   ]
  },
  {
   "cell_type": "code",
   "execution_count": 32,
   "id": "bc17a007",
   "metadata": {},
   "outputs": [],
   "source": [
    "# if list is sorted, Solutions - Two Pointers\n",
    "\n",
    "def twoSumSorted(nums:list, target:int) -> list:\n",
    "    i, j =0, len(nums)-1\n",
    "    while nums[i] + nums[j] != target:\n",
    "        if nums[i] + nums[j] < target:\n",
    "            i = i+1\n",
    "        else:\n",
    "            j = j-1\n",
    "        return [i,j]\n",
    " \n",
    "#Time complexity ~ N\n",
    "#space complexity ~ 1"
   ]
  },
  {
   "cell_type": "code",
   "execution_count": null,
   "id": "724f0eab",
   "metadata": {},
   "outputs": [],
   "source": []
  }
 ],
 "metadata": {
  "kernelspec": {
   "display_name": "Python 3 (ipykernel)",
   "language": "python",
   "name": "python3"
  },
  "language_info": {
   "codemirror_mode": {
    "name": "ipython",
    "version": 3
   },
   "file_extension": ".py",
   "mimetype": "text/x-python",
   "name": "python",
   "nbconvert_exporter": "python",
   "pygments_lexer": "ipython3",
   "version": "3.11.1"
  }
 },
 "nbformat": 4,
 "nbformat_minor": 5
}
