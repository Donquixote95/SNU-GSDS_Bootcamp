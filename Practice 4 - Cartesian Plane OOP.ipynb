{
 "cells": [
  {
   "cell_type": "code",
   "execution_count": 54,
   "id": "4cf79964",
   "metadata": {},
   "outputs": [],
   "source": [
    "class Member:\n",
    "    def __init__(self, name:str, address:str, email:str, DoB:str, affiliation:str) -> None:\n",
    "        self.name = name\n",
    "        self.address = address\n",
    "        self.email = email\n",
    "        self.DoB = DoB\n",
    "        self.affiliation = affiliation\n",
    "        self.infoList = [self.name, self.address, self.email, self.DoB, self.affiliation]\n",
    "        \n",
    "    def printInfo(self):\n",
    "        print(self.infoList)\n",
    "        \n",
    "    def switch_affiliation(self, new_affiliation: str) -> None:\n",
    "        print(\"Member\", self.name, \"changes affiliation from\", self.affiliation, \"to\", new_affiliation)\n",
    "        self.affiliation = new_affiliation"
   ]
  },
  {
   "cell_type": "code",
   "execution_count": 55,
   "id": "7bf62a1b",
   "metadata": {},
   "outputs": [],
   "source": [
    "a = Member(\"Doeon\", \"942-416\", \"donquixote95@snu.ac.kr\", \"0000.00.20.\", \"GSDS\")"
   ]
  },
  {
   "cell_type": "code",
   "execution_count": 56,
   "id": "61216e4d",
   "metadata": {},
   "outputs": [
    {
     "data": {
      "text/plain": [
       "<__main__.Member at 0x25e2ddaf190>"
      ]
     },
     "execution_count": 56,
     "metadata": {},
     "output_type": "execute_result"
    }
   ],
   "source": [
    "a"
   ]
  },
  {
   "cell_type": "code",
   "execution_count": 57,
   "id": "efb358bf",
   "metadata": {},
   "outputs": [
    {
     "data": {
      "text/plain": [
       "'Doeon'"
      ]
     },
     "execution_count": 57,
     "metadata": {},
     "output_type": "execute_result"
    }
   ],
   "source": [
    "a.name"
   ]
  },
  {
   "cell_type": "code",
   "execution_count": 58,
   "id": "a1b0235c",
   "metadata": {},
   "outputs": [
    {
     "data": {
      "text/plain": [
       "'0000.00.20.'"
      ]
     },
     "execution_count": 58,
     "metadata": {},
     "output_type": "execute_result"
    }
   ],
   "source": [
    "a.DoB"
   ]
  },
  {
   "cell_type": "code",
   "execution_count": 59,
   "id": "64e28d5e",
   "metadata": {},
   "outputs": [
    {
     "name": "stdout",
     "output_type": "stream",
     "text": [
      "['Doeon', '942-416', 'donquixote95@snu.ac.kr', '0000.00.20.', 'GSDS']\n"
     ]
    }
   ],
   "source": [
    "a.printInfo()"
   ]
  },
  {
   "cell_type": "code",
   "execution_count": 60,
   "id": "16e338db",
   "metadata": {},
   "outputs": [],
   "source": [
    "class Student(Member):\n",
    "    def __init__(self, name:str, address:str, email:str, DoB:str, affiliation:str, student_num:str) -> None:\n",
    "        super().__init__(name,address, email, DoB, affiliation) # super을 쓰면 parent class에 접근할 수 있다.\n",
    "        self.student_num = student_num # Under Bar(_) 로 변수명을 정하면 내부 변수와 관련된 것을 뜻한다.\n",
    "        self.advisor = \"\"\n",
    "        self.courses_taken = []\n",
    "        self.courses_taking = []\n",
    "        self.GPA = 0\n",
    "        self.infoList += [self.student_num, self.advisor, self.courses_taken, self.courses_taking, self.GPA]\n",
    "    \n",
    "    def switch_affiliation(self, new_affiliation: str) -> None:\n",
    "        print(\"Studet\", self.name, \"changes affiliation from\", self.affiliation, \"to\", new_affiliation)\n",
    "        self.affiliation = new_affiliation"
   ]
  },
  {
   "cell_type": "code",
   "execution_count": 61,
   "id": "2add5edf",
   "metadata": {},
   "outputs": [],
   "source": [
    "class Faculty(Member):\n",
    "    def __init__(self, name:str, address:str, email:str, DoB:str, affiliation:str, faculty_num:str) -> None:\n",
    "        super().__init__(name,address, email, DoB, affiliation)\n",
    "        self.faculty_num = faculty_num\n",
    "        self.advisees = []\n",
    "        self.courses_teaching = []\n",
    "        self.infoList += [self.faculty_num, self.advisees, self.courses_teaching]\n",
    "    \n",
    "    def switch_affiliation(self, new_affiliation: str) -> None:\n",
    "        print(\"Faculty\", self.name, \"changes affiliation from\", self.affiliation, \"to\", new_affiliation)\n",
    "        self.affiliation = new_affiliation"
   ]
  },
  {
   "cell_type": "code",
   "execution_count": 62,
   "id": "f30e1d84",
   "metadata": {},
   "outputs": [],
   "source": [
    "hyungsin = Faculty(\"Hyung-Sin Kim\", \"942-416\", \"hyungsin@snu.ac.kr\", \"2020.01.01\", \"Data Science\", \"A09999\")"
   ]
  },
  {
   "cell_type": "code",
   "execution_count": 63,
   "id": "7d9015b8",
   "metadata": {},
   "outputs": [
    {
     "data": {
      "text/plain": [
       "__main__.Faculty"
      ]
     },
     "execution_count": 63,
     "metadata": {},
     "output_type": "execute_result"
    }
   ],
   "source": [
    "type(hyungsin)"
   ]
  },
  {
   "cell_type": "code",
   "execution_count": 64,
   "id": "7ef74243",
   "metadata": {},
   "outputs": [
    {
     "data": {
      "text/plain": [
       "True"
      ]
     },
     "execution_count": 64,
     "metadata": {},
     "output_type": "execute_result"
    }
   ],
   "source": [
    "type(hyungsin) == Faculty"
   ]
  },
  {
   "cell_type": "code",
   "execution_count": 65,
   "id": "57633090",
   "metadata": {},
   "outputs": [],
   "source": [
    "jaehyun = Student(\"Jaehyun Lee\", \"100-101\", \"jaehyun@snu.ac.kr\", \"1900.04.05\", \"Economics\", \"2022-10321\")"
   ]
  },
  {
   "cell_type": "code",
   "execution_count": 66,
   "id": "9c74971c",
   "metadata": {},
   "outputs": [
    {
     "name": "stdout",
     "output_type": "stream",
     "text": [
      "['Hyung-Sin Kim', '942-416', 'hyungsin@snu.ac.kr', '2020.01.01', 'Data Science', 'A09999', [], []]\n"
     ]
    }
   ],
   "source": [
    "hyungsin.printInfo()"
   ]
  },
  {
   "cell_type": "code",
   "execution_count": 67,
   "id": "7a73f924",
   "metadata": {},
   "outputs": [
    {
     "name": "stdout",
     "output_type": "stream",
     "text": [
      "['Jaehyun Lee', '100-101', 'jaehyun@snu.ac.kr', '1900.04.05', 'Economics', '2022-10321', '', [], [], 0]\n"
     ]
    }
   ],
   "source": [
    "jaehyun.printInfo()"
   ]
  },
  {
   "cell_type": "code",
   "execution_count": 68,
   "id": "889c234c",
   "metadata": {},
   "outputs": [
    {
     "name": "stdout",
     "output_type": "stream",
     "text": [
      "Faculty Hyung-Sin Kim changes affiliation from Data Science to CS\n"
     ]
    }
   ],
   "source": [
    "hyungsin.switch_affiliation(\"CS\")"
   ]
  },
  {
   "cell_type": "code",
   "execution_count": 69,
   "id": "6235f649",
   "metadata": {},
   "outputs": [
    {
     "data": {
      "text/plain": [
       "'CS'"
      ]
     },
     "execution_count": 69,
     "metadata": {},
     "output_type": "execute_result"
    }
   ],
   "source": [
    "hyungsin.affiliation"
   ]
  },
  {
   "cell_type": "code",
   "execution_count": 70,
   "id": "4601e874",
   "metadata": {},
   "outputs": [
    {
     "name": "stdout",
     "output_type": "stream",
     "text": [
      "Studet Jaehyun Lee changes affiliation from Economics to DS\n"
     ]
    }
   ],
   "source": [
    "jaehyun.switch_affiliation(\"DS\")"
   ]
  },
  {
   "cell_type": "code",
   "execution_count": 71,
   "id": "035000cb",
   "metadata": {},
   "outputs": [
    {
     "data": {
      "text/plain": [
       "'DS'"
      ]
     },
     "execution_count": 71,
     "metadata": {},
     "output_type": "execute_result"
    }
   ],
   "source": [
    "jaehyun.affiliation"
   ]
  },
  {
   "cell_type": "markdown",
   "id": "6ebac849",
   "metadata": {},
   "source": [
    "# 문제\n",
    "Write two classes Point and Line that give the same output as below:\n",
    "    >>line = Line(Point(1,1), Point(3, 2)) # a line comprised of two 2D points\n",
    "    >>line.slope()\n",
    "    0.5\n",
    "    >>line.length() # math module\n",
    "    2.223606060"
   ]
  },
  {
   "cell_type": "code",
   "execution_count": 85,
   "id": "fa51a0e8",
   "metadata": {},
   "outputs": [],
   "source": [
    "# 내 풀이 (1)\n",
    "class Point:\n",
    "    def __init__(self, x : float, y : float) -> float:\n",
    "        self.x = x\n",
    "        self.y = y"
   ]
  },
  {
   "cell_type": "code",
   "execution_count": 89,
   "id": "f6962ffc",
   "metadata": {},
   "outputs": [],
   "source": [
    "a = Point(1,1)"
   ]
  },
  {
   "cell_type": "code",
   "execution_count": 90,
   "id": "37a8992a",
   "metadata": {},
   "outputs": [],
   "source": [
    "b = Point(3,2)"
   ]
  },
  {
   "cell_type": "code",
   "execution_count": 105,
   "id": "30345703",
   "metadata": {},
   "outputs": [
    {
     "name": "stdout",
     "output_type": "stream",
     "text": [
      "1\n",
      "1\n",
      "3\n",
      "2\n",
      "<class 'int'>\n"
     ]
    },
    {
     "data": {
      "text/plain": [
       "(None, None, None, None, None, True)"
      ]
     },
     "execution_count": 105,
     "metadata": {},
     "output_type": "execute_result"
    }
   ],
   "source": [
    "print(a.x), print(a.y), print(b.x), print(b.y), print(type(a.x)), type(a) == Point"
   ]
  },
  {
   "cell_type": "code",
   "execution_count": 114,
   "id": "074279a4",
   "metadata": {},
   "outputs": [],
   "source": [
    "# 내 풀이 (2)\n",
    "import math\n",
    "class Line(Point):\n",
    "    def __init__(self, point1, point2) -> float:\n",
    "        super().__init__\n",
    "        self.y_difference = point2.y - point1.y\n",
    "        self.x_difference = point2.x - point1.x\n",
    "        self.gradient = self.y_difference/self.x_difference\n",
    "        self.intercept = point1.y - self.gradient\n",
    "        self.length = math.sqrt((self.y_difference ** 2) + (self.x_difference ** 2))\n",
    "        print(\"y\",\"=\",self.gradient,\"x\",\"+\", self.intercept)\n",
    "        print(\"length = \", self.length )"
   ]
  },
  {
   "cell_type": "code",
   "execution_count": 115,
   "id": "f42b8855",
   "metadata": {},
   "outputs": [
    {
     "name": "stdout",
     "output_type": "stream",
     "text": [
      "y = 0.5 x + 0.5\n",
      "length =  2.23606797749979\n"
     ]
    },
    {
     "data": {
      "text/plain": [
       "<__main__.Line at 0x25e2d85bd50>"
      ]
     },
     "execution_count": 115,
     "metadata": {},
     "output_type": "execute_result"
    }
   ],
   "source": [
    "Line(a, b)"
   ]
  },
  {
   "cell_type": "code",
   "execution_count": 125,
   "id": "10248a6d",
   "metadata": {},
   "outputs": [],
   "source": [
    "# 교수님 풀이\n",
    "\n",
    "from math import sqrt\n",
    "\n",
    "class Point():\n",
    "    def __init__(self, x : float, y : float) -> None:\n",
    "        self.x = x\n",
    "        self.y = y\n",
    "        \n",
    "class Line():\n",
    "    def __init__(self, p1: Point, p2: Point) -> None:\n",
    "        self.p1 = p1\n",
    "        self.p2 = p2\n",
    "    def slope(self) -> float:\n",
    "        return (self.p2.y - self.p1.y) / (self.p2.x - self.p1.x)\n",
    "    def length(self) -> float:\n",
    "        return sqrt((self.p2.y - self.p1.y) ** 2 + (self.p2.x - self.p1.x) ** 2)"
   ]
  },
  {
   "cell_type": "code",
   "execution_count": 129,
   "id": "35295bf4",
   "metadata": {},
   "outputs": [],
   "source": [
    "a = Point(1,1)"
   ]
  },
  {
   "cell_type": "code",
   "execution_count": 130,
   "id": "1ef0d7a5",
   "metadata": {},
   "outputs": [],
   "source": [
    "b = Point(3,2)"
   ]
  },
  {
   "cell_type": "code",
   "execution_count": 132,
   "id": "12899424",
   "metadata": {},
   "outputs": [
    {
     "data": {
      "text/plain": [
       "0.5"
      ]
     },
     "execution_count": 132,
     "metadata": {},
     "output_type": "execute_result"
    }
   ],
   "source": [
    "Line(a, b).slope()"
   ]
  },
  {
   "cell_type": "code",
   "execution_count": 133,
   "id": "7280e217",
   "metadata": {},
   "outputs": [
    {
     "data": {
      "text/plain": [
       "2.23606797749979"
      ]
     },
     "execution_count": 133,
     "metadata": {},
     "output_type": "execute_result"
    }
   ],
   "source": [
    "Line(a, b).length()"
   ]
  },
  {
   "cell_type": "code",
   "execution_count": null,
   "id": "507a4bec",
   "metadata": {},
   "outputs": [],
   "source": []
  }
 ],
 "metadata": {
  "kernelspec": {
   "display_name": "Python 3 (ipykernel)",
   "language": "python",
   "name": "python3"
  },
  "language_info": {
   "codemirror_mode": {
    "name": "ipython",
    "version": 3
   },
   "file_extension": ".py",
   "mimetype": "text/x-python",
   "name": "python",
   "nbconvert_exporter": "python",
   "pygments_lexer": "ipython3",
   "version": "3.11.1"
  }
 },
 "nbformat": 4,
 "nbformat_minor": 5
}
