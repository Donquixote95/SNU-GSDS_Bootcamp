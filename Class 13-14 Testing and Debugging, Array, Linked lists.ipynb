{
 "cells": [
  {
   "cell_type": "markdown",
   "id": "3db29443",
   "metadata": {},
   "source": [
    "# Quality Assurance(QA)\n",
    "\n",
    "QA check that software is working corretly\n",
    " - It is not something that is magically done after you write a program, even though you think your logic is perfect.\n",
    " \n",
    "Test program should be reusable so that anyone using your code can test it."
   ]
  },
  {
   "cell_type": "markdown",
   "id": "2a62edae",
   "metadata": {},
   "source": [
    "Testing\n",
    " - 모든 case를 포괄해야 한다.\n",
    " - boundary\n",
    " - []\n",
    " - Dichotomies\n",
    " - Order\n",
    " \n",
    "Debugging\n",
    " - Divde and conquer\n",
    " - prin(.) 이용\n",
    " - repeat the failure(reproducible)\n",
    " - keep records"
   ]
  },
  {
   "cell_type": "markdown",
   "id": "9bec115d",
   "metadata": {},
   "source": [
    "Array is an object comprising a numbered sequence of memory boxes\n",
    " - We need to declare memory boxes for storing information\n",
    "   e.g. A=1 declares a memory box to store an integer object A\n",
    " - this is a more fundamental data structure (no method at all) that Python lists are built on\n",
    " - This is why we cans easily access the i-th element of list A by using A[i]\n",
    " \n",
    "Any array comprises\n",
    " - Fixed integer length (N) should be set when initilaizing it\n",
    " - A sequence of N memory boxes (numbered 0 through N-1)\n",
    " \n",
    "Lists ; Array resizing -> dynamic length"
   ]
  },
  {
   "cell_type": "markdown",
   "id": "e9221a9a",
   "metadata": {},
   "source": [
    "Two problems of an array due to its fixed length\n",
    " - Memory wastage; If it contains only n(<<N) valid elements\n",
    " - Memory shortage; \n",
    " \n",
    "Array resizing ; create another larger array and copy all the elements\n",
    " - L.append(3) when the current array is full\n",
    " - create a new longer array, Copy all elements and switch L, Add a new element\n",
    " - Array resizing is expensive: new memory boxes and copy operation\n",
    " - Increasing size by one every time is not efficient. (too many resizing)\n",
    " - Increasing size too much at once is not efficient either (memory wastage)\n",
    "  \n",
    "To resizew fewer, Python list size grows as 0, 4, 8, 16, 25, 35, 46, 58, ...\n",
    " - Mild over allocation proportional to the current size\n",
    " \n",
    "Anyway is there another way of organizing a collection of data to support append and pop easily?"
   ]
  },
  {
   "cell_type": "markdown",
   "id": "5ec01430",
   "metadata": {},
   "source": [
    "Basis\n",
    " - 첫 번째 링크에 두 번째 리스트 링크가 담겨 있고, 두 번째 링크에 세 번째 리스트 링크가 담겨있다.\n",
    " - Let's define a class that contains a single integer value as below:\n",
    " - Array는 neighboring(값들이 연속적으로 붙어 있는 것) 되어 있고, 되어 있어야 하지만, linked list는 그럴 필요가 없다.\n",
    " \n",
    " class LinkedNode():\n",
    "     def __init__(self, x):\n",
    "        self.val = x\n",
    "        self.next = None # A special variable for linking to another node\n",
    " \n",
    "Let's create two LinkedNodes and link them\n",
    " a= LinkedNode(5)\n",
    " b= LinkedNOde(7)\n",
    " a.next = b\n",
    "  \n",
    "Now we can access LinkedNode b through LinkedNode a because they are linked.\n",
    " b.val\n",
    " a.next.val"
   ]
  },
  {
   "cell_type": "code",
   "execution_count": 2,
   "id": "f8f6378a",
   "metadata": {},
   "outputs": [],
   "source": [
    "# Single Linked Lists \n",
    "class LinkedNode():\n",
    "     def __init__(self, x):\n",
    "        self.val = x\n",
    "        self.next = None"
   ]
  },
  {
   "cell_type": "code",
   "execution_count": 3,
   "id": "af952177",
   "metadata": {},
   "outputs": [],
   "source": [
    "a = LinkedNode(5)"
   ]
  },
  {
   "cell_type": "code",
   "execution_count": 4,
   "id": "77c77d90",
   "metadata": {},
   "outputs": [
    {
     "data": {
      "text/plain": [
       "5"
      ]
     },
     "execution_count": 4,
     "metadata": {},
     "output_type": "execute_result"
    }
   ],
   "source": [
    "a.val"
   ]
  },
  {
   "cell_type": "code",
   "execution_count": 5,
   "id": "25cdda47",
   "metadata": {},
   "outputs": [],
   "source": [
    "b = LinkedNode(7)"
   ]
  },
  {
   "cell_type": "code",
   "execution_count": 6,
   "id": "91ac0bb2",
   "metadata": {},
   "outputs": [
    {
     "data": {
      "text/plain": [
       "7"
      ]
     },
     "execution_count": 6,
     "metadata": {},
     "output_type": "execute_result"
    }
   ],
   "source": [
    "b.val"
   ]
  },
  {
   "cell_type": "code",
   "execution_count": 7,
   "id": "f855acf2",
   "metadata": {},
   "outputs": [],
   "source": [
    "a.next=b"
   ]
  },
  {
   "cell_type": "code",
   "execution_count": 8,
   "id": "218faa51",
   "metadata": {},
   "outputs": [
    {
     "data": {
      "text/plain": [
       "7"
      ]
     },
     "execution_count": 8,
     "metadata": {},
     "output_type": "execute_result"
    }
   ],
   "source": [
    "b.val"
   ]
  },
  {
   "cell_type": "code",
   "execution_count": 9,
   "id": "c1d8b8b7",
   "metadata": {},
   "outputs": [
    {
     "data": {
      "text/plain": [
       "<__main__.LinkedNode at 0x2811adf4650>"
      ]
     },
     "execution_count": 9,
     "metadata": {},
     "output_type": "execute_result"
    }
   ],
   "source": [
    "a.next"
   ]
  },
  {
   "cell_type": "code",
   "execution_count": 10,
   "id": "ca5e381a",
   "metadata": {},
   "outputs": [
    {
     "data": {
      "text/plain": [
       "7"
      ]
     },
     "execution_count": 10,
     "metadata": {},
     "output_type": "execute_result"
    }
   ],
   "source": [
    "a.next.val"
   ]
  },
  {
   "cell_type": "code",
   "execution_count": 11,
   "id": "0f6e85e7",
   "metadata": {},
   "outputs": [
    {
     "data": {
      "text/plain": [
       "<__main__.LinkedNode at 0x2811adf4650>"
      ]
     },
     "execution_count": 11,
     "metadata": {},
     "output_type": "execute_result"
    }
   ],
   "source": [
    "b"
   ]
  },
  {
   "cell_type": "markdown",
   "id": "29b626ff",
   "metadata": {},
   "source": [
    "# single Linked Lists\n",
    " A linked list whose node has a single link as we've just seen\n",
    "  - Every node can be access through the first node"
   ]
  },
  {
   "cell_type": "code",
   "execution_count": 13,
   "id": "ecad983c",
   "metadata": {},
   "outputs": [],
   "source": [
    "class LinkedNode():\n",
    "     def __init__(self, x):\n",
    "        self.val = x\n",
    "        self.next = None\n",
    "        \n",
    "class SLList:\n",
    "    def __init__(self) -> None:\n",
    "        self.first = None\n",
    "        \n",
    "    def addFirst(self, x:int) -> None:\n",
    "        newFirst = LinkedNode(x)\n",
    "        newFirst.next = self.first\n",
    "        self.first = newFirst\n",
    "        \n",
    "    def getFirst(self) -> None:\n",
    "        if self.first:\n",
    "            return self.first.val\n",
    "        return None\n",
    "    \n",
    "    def getSize(self) -> int:\n",
    "        curNode = self.first # 하나 하나 타고 들어갈 예정\n",
    "        size = 0\n",
    "        while curNode != None: #naviagte the whole list\n",
    "            size+=1\n",
    "            curNode = curNode.next\n",
    "        return size \n",
    "    # But it takes O(1) times"
   ]
  },
  {
   "cell_type": "code",
   "execution_count": 14,
   "id": "e25dcf65",
   "metadata": {},
   "outputs": [],
   "source": [
    "L = SLList()"
   ]
  },
  {
   "cell_type": "code",
   "execution_count": 15,
   "id": "604c70fa",
   "metadata": {},
   "outputs": [],
   "source": [
    "L.addFirst(5)\n",
    "L.addFirst(10)"
   ]
  },
  {
   "cell_type": "code",
   "execution_count": 16,
   "id": "90e8d888",
   "metadata": {},
   "outputs": [
    {
     "data": {
      "text/plain": [
       "10"
      ]
     },
     "execution_count": 16,
     "metadata": {},
     "output_type": "execute_result"
    }
   ],
   "source": [
    "L.getFirst()"
   ]
  },
  {
   "cell_type": "code",
   "execution_count": 17,
   "id": "530114e0",
   "metadata": {},
   "outputs": [
    {
     "data": {
      "text/plain": [
       "2"
      ]
     },
     "execution_count": 17,
     "metadata": {},
     "output_type": "execute_result"
    }
   ],
   "source": [
    "L.getSize()"
   ]
  },
  {
   "cell_type": "code",
   "execution_count": 18,
   "id": "d51370a7",
   "metadata": {},
   "outputs": [],
   "source": [
    "L.addFirst(0)"
   ]
  },
  {
   "cell_type": "code",
   "execution_count": 19,
   "id": "bfba0acc",
   "metadata": {},
   "outputs": [
    {
     "data": {
      "text/plain": [
       "3"
      ]
     },
     "execution_count": 19,
     "metadata": {},
     "output_type": "execute_result"
    }
   ],
   "source": [
    "L.getSize()"
   ]
  },
  {
   "cell_type": "code",
   "execution_count": 20,
   "id": "6a7a20e1",
   "metadata": {},
   "outputs": [],
   "source": [
    "# SLL - size and size variable, 왜냐하면 size를 알기 위해서 O(N)이 걸리면 비효율적\n",
    "# A special variable that caches the size information\n",
    "# Then getSize() implementations becomes very simple\n",
    "# Now we need to manage the size vairable properly. +1 operation in each add function call\n",
    "\n",
    "class LinkedNode():\n",
    "     def __init__(self, x):\n",
    "        self.val = x\n",
    "        self.next = 0 \n",
    "        \n",
    "class SLList:\n",
    "    def __init__(self) -> None:\n",
    "        self.first = None\n",
    "        self.size = None\n",
    "        \n",
    "    def addFirst(self, x:int) -> None:\n",
    "        newFirst = LinkedNode(x)\n",
    "        newFirst.next = self.first\n",
    "        self.first = newFirst\n",
    "        self.size += 1\n",
    "        \n",
    "    def getFirst(self) -> None:\n",
    "        if self.first:\n",
    "            return self.first.val\n",
    "        return None\n",
    "    \n",
    "    def getSize(self) -> int:\n",
    "        return self.size \n",
    "    \n",
    "    def append(self, x:int) -> None: #we wnat to append a new mode at the end of a linked list\n",
    "        self.size += 1\n",
    "        curNode = self.first\n",
    "        while curNode.next:\n",
    "            curNode = curNode.next\n",
    "        curNode.next = LinkedNode(x) # 처음부터 append는 할 수 없음. 왜냐하면 처음에는 self.first가 None이기 떄문."
   ]
  },
  {
   "cell_type": "code",
   "execution_count": 30,
   "id": "f2abe846",
   "metadata": {},
   "outputs": [],
   "source": [
    "# SLL without Semtinel Node ; 가능하지만 실수하기 쉬운 단점이 있다.\n",
    "\n",
    "class LinkedNode():\n",
    "     def __init__(self, x):\n",
    "        self.val = x\n",
    "        self.next = 0 \n",
    "        \n",
    "class SLList:\n",
    "    def __init__(self) -> None:\n",
    "        self.first = None\n",
    "        self.size = 0\n",
    "        \n",
    "    def addFirst(self, x:int) -> None:\n",
    "        newFirst = LinkedNode(x)\n",
    "        newFirst.next = self.first\n",
    "        self.first = newFirst\n",
    "        self.size += 1\n",
    "        \n",
    "    def getFirst(self) -> None:\n",
    "        if self.first:\n",
    "            return self.first.val\n",
    "        return None\n",
    "    \n",
    "    def getSize(self) -> int:\n",
    "        return self.size \n",
    "    \n",
    "    def append(self, x:int) -> None: #we wnat to append a new mode at the end of a linked list\n",
    "        self.size += 1\n",
    "        if not self.first:\n",
    "            self.first = LinkedNode(x)\n",
    "        else:\n",
    "            curNode = self.first\n",
    "            while curNode.next:\n",
    "                curNode = curNode.next\n",
    "            curNode.next = LinkedNode(x)"
   ]
  },
  {
   "cell_type": "code",
   "execution_count": 31,
   "id": "e0b9a57a",
   "metadata": {},
   "outputs": [],
   "source": [
    "L = SLList()"
   ]
  },
  {
   "cell_type": "code",
   "execution_count": 32,
   "id": "35532354",
   "metadata": {},
   "outputs": [],
   "source": [
    "L.append(5)"
   ]
  },
  {
   "cell_type": "code",
   "execution_count": 33,
   "id": "67f69bcb",
   "metadata": {},
   "outputs": [
    {
     "data": {
      "text/plain": [
       "5"
      ]
     },
     "execution_count": 33,
     "metadata": {},
     "output_type": "execute_result"
    }
   ],
   "source": [
    "L.getFirst()"
   ]
  },
  {
   "cell_type": "code",
   "execution_count": 38,
   "id": "9055b987",
   "metadata": {},
   "outputs": [],
   "source": [
    "# SLL with sentinel\n",
    "\n",
    "class LinkedNode():\n",
    "     def __init__(self, x):\n",
    "        self.val = x\n",
    "        self.next = 0 \n",
    "        \n",
    "class SLList:\n",
    "    def __init__(self) -> None:\n",
    "        self.sentinel = LinkedNode(0) #어차피 dummy니까 아무 숫자나 넣으면 된다. LinkdedNode(-10000)도 가능\n",
    "        self.size = 0\n",
    "        \n",
    "    def addFirst(self, x:int) -> None:\n",
    "        newFirst = LinkedNode(x)\n",
    "        newFirst.next = self.sentinel.next\n",
    "        self.sentinel.next = newFirst\n",
    "        self.size += 1\n",
    "        \n",
    "    def getFirst(self) -> None:\n",
    "        if self.sentinel:\n",
    "            return self.sentinel.next.val #sentinel은 dummy node이기 때문에 valid first를 출력하려면 next를 해줘야한다.\n",
    "        return None\n",
    "    \n",
    "    def getSize(self) -> int:\n",
    "        return self.size \n",
    "    \n",
    "    def append(self, x:int) -> None:\n",
    "        self.size += 1\n",
    "        curNode = self.sentinel # sentinel은 0이 될 수 없으니까. \n",
    "        while curNode.next:\n",
    "            curNode = curNode.next\n",
    "        curNode.next = LinkedNode(x)\n",
    "        \n",
    "# 그런데 sentinel을 하면 sample size가 1 증가하는 거 아닌가?\n",
    "# 아하, sentinel 정의 이후에 self.size = 0 으로 해둬서 괜찮다."
   ]
  },
  {
   "cell_type": "code",
   "execution_count": 39,
   "id": "b7e57d89",
   "metadata": {},
   "outputs": [],
   "source": [
    "L = SLList()"
   ]
  },
  {
   "cell_type": "code",
   "execution_count": 40,
   "id": "052e7864",
   "metadata": {},
   "outputs": [],
   "source": [
    "L.append(5)"
   ]
  },
  {
   "cell_type": "code",
   "execution_count": 41,
   "id": "eb53071f",
   "metadata": {},
   "outputs": [
    {
     "data": {
      "text/plain": [
       "5"
      ]
     },
     "execution_count": 41,
     "metadata": {},
     "output_type": "execute_result"
    }
   ],
   "source": [
    "L.getFirst()"
   ]
  },
  {
   "cell_type": "code",
   "execution_count": 42,
   "id": "e19fc310",
   "metadata": {},
   "outputs": [
    {
     "data": {
      "text/plain": [
       "1"
      ]
     },
     "execution_count": 42,
     "metadata": {},
     "output_type": "execute_result"
    }
   ],
   "source": [
    "L.getSize()"
   ]
  },
  {
   "cell_type": "code",
   "execution_count": 46,
   "id": "8ba7f09a",
   "metadata": {},
   "outputs": [
    {
     "data": {
      "text/plain": [
       "4"
      ]
     },
     "execution_count": 46,
     "metadata": {},
     "output_type": "execute_result"
    }
   ],
   "source": [
    "L.addFirst(0)\n",
    "L.getSize()"
   ]
  },
  {
   "cell_type": "markdown",
   "id": "792fc82a",
   "metadata": {},
   "source": [
    "Problem ; append() is still much lower than addFirst()\n",
    "Solution ; Doubly Linked List (DLList)\n",
    " - Add another sentinel at the back\n",
    " - Each node has not only next but also prev (pointing at the previous node)"
   ]
  },
  {
   "cell_type": "markdown",
   "id": "499b0634",
   "metadata": {},
   "source": [
    "참고) python에서 DQ 모듈로 DLList를 개발해두었음.\n",
    "     넣었다 뺐다를 자주 해야하는 경우라면 DLList를 쓰는 게 유리"
   ]
  }
 ],
 "metadata": {
  "kernelspec": {
   "display_name": "Python 3 (ipykernel)",
   "language": "python",
   "name": "python3"
  },
  "language_info": {
   "codemirror_mode": {
    "name": "ipython",
    "version": 3
   },
   "file_extension": ".py",
   "mimetype": "text/x-python",
   "name": "python",
   "nbconvert_exporter": "python",
   "pygments_lexer": "ipython3",
   "version": "3.11.1"
  }
 },
 "nbformat": 4,
 "nbformat_minor": 5
}
