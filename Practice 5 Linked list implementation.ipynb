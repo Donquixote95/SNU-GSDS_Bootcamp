{
 "cells": [
  {
   "cell_type": "code",
   "execution_count": 13,
   "id": "e8d90caa",
   "metadata": {},
   "outputs": [],
   "source": [
    "# Implement stack by using single-linked list of LinkedNodes\n",
    "\n",
    "class LinkedNode():\n",
    "    def __init__(self, x:int) -> None:\n",
    "        self.val = x\n",
    "        self.next = None\n",
    "        \n",
    "class myStack():\n",
    "    def __init__(self) -> None:\n",
    "        self.sentinel = LinkedNode(0)\n",
    "        self.size = 0\n",
    "        \n",
    "    # Add a LinkedNode that has val = x to myStack\n",
    "    def push(self, x:int) -> None:\n",
    "        # 최근에 넣은 값들을 First에 계속 할당할 것\n",
    "        newFirst = LinkedNode(x)\n",
    "        newFirst.next = self.sentinel.next\n",
    "        self.sentinel.next = newFirst\n",
    "        self.size += 1\n",
    "        \n",
    "    # Remvoe the most recently added LinkedNode from myStack    \n",
    "    def pop(self) -> None:\n",
    "        # 최근에 넣은 값들을 pop으로 빼낼 것\n",
    "        # 한 단계 값을 건너 뛰는 형식으로 구현\n",
    "        self.sentinel.next = self.sentinel.next.next\n",
    "        self.size -= 1\n",
    "        \n",
    "    # Return val of the most recently added LinkedNode\n",
    "    def top(self) -> int:\n",
    "        if self.sentinel.next: # First가 있는 경우만\n",
    "            return self.sentinel.next.val \n",
    "        return None\n",
    "        \n",
    "    # Return the number of of LinkedNodes in myStack\n",
    "    def getSize(self) -> int:\n",
    "        return self.size\n",
    "    \n",
    "    # Return True if myStack is empty, or False otherwise\n",
    "    def isEmpty(self) -> bool:\n",
    "        if self.size > 0:\n",
    "            return False\n",
    "        return True"
   ]
  },
  {
   "cell_type": "code",
   "execution_count": 14,
   "id": "0f314e0c",
   "metadata": {},
   "outputs": [],
   "source": [
    "a = myStack()"
   ]
  },
  {
   "cell_type": "code",
   "execution_count": 15,
   "id": "b7154533",
   "metadata": {},
   "outputs": [
    {
     "data": {
      "text/plain": [
       "True"
      ]
     },
     "execution_count": 15,
     "metadata": {},
     "output_type": "execute_result"
    }
   ],
   "source": [
    "a.isEmpty()"
   ]
  },
  {
   "cell_type": "code",
   "execution_count": 16,
   "id": "399a8647",
   "metadata": {},
   "outputs": [],
   "source": [
    "a.top()"
   ]
  },
  {
   "cell_type": "code",
   "execution_count": 17,
   "id": "db128ae4",
   "metadata": {},
   "outputs": [],
   "source": [
    "a.push(1)"
   ]
  },
  {
   "cell_type": "code",
   "execution_count": 18,
   "id": "846be0d2",
   "metadata": {},
   "outputs": [
    {
     "data": {
      "text/plain": [
       "1"
      ]
     },
     "execution_count": 18,
     "metadata": {},
     "output_type": "execute_result"
    }
   ],
   "source": [
    "a.top()"
   ]
  },
  {
   "cell_type": "code",
   "execution_count": 19,
   "id": "9a237ec6",
   "metadata": {},
   "outputs": [
    {
     "data": {
      "text/plain": [
       "1"
      ]
     },
     "execution_count": 19,
     "metadata": {},
     "output_type": "execute_result"
    }
   ],
   "source": [
    "a.getSize()"
   ]
  },
  {
   "cell_type": "code",
   "execution_count": 20,
   "id": "b8655684",
   "metadata": {},
   "outputs": [
    {
     "data": {
      "text/plain": [
       "False"
      ]
     },
     "execution_count": 20,
     "metadata": {},
     "output_type": "execute_result"
    }
   ],
   "source": [
    "a.isEmpty()"
   ]
  },
  {
   "cell_type": "code",
   "execution_count": 21,
   "id": "d6b4c1c4",
   "metadata": {},
   "outputs": [],
   "source": [
    "a.push(110)"
   ]
  },
  {
   "cell_type": "code",
   "execution_count": 22,
   "id": "ec9c0ef0",
   "metadata": {},
   "outputs": [
    {
     "data": {
      "text/plain": [
       "110"
      ]
     },
     "execution_count": 22,
     "metadata": {},
     "output_type": "execute_result"
    }
   ],
   "source": [
    "a.top()"
   ]
  },
  {
   "cell_type": "code",
   "execution_count": 23,
   "id": "7d52e6ee",
   "metadata": {},
   "outputs": [],
   "source": [
    "a.pop()"
   ]
  },
  {
   "cell_type": "code",
   "execution_count": 24,
   "id": "3cb7e290",
   "metadata": {},
   "outputs": [],
   "source": [
    "a.push(1000)"
   ]
  },
  {
   "cell_type": "code",
   "execution_count": 25,
   "id": "15c7326f",
   "metadata": {},
   "outputs": [
    {
     "data": {
      "text/plain": [
       "2"
      ]
     },
     "execution_count": 25,
     "metadata": {},
     "output_type": "execute_result"
    }
   ],
   "source": [
    "a.getSize()"
   ]
  },
  {
   "cell_type": "code",
   "execution_count": 26,
   "id": "b4331f8f",
   "metadata": {},
   "outputs": [],
   "source": [
    "a.push(100)"
   ]
  },
  {
   "cell_type": "code",
   "execution_count": 27,
   "id": "9cd25fae",
   "metadata": {},
   "outputs": [
    {
     "data": {
      "text/plain": [
       "100"
      ]
     },
     "execution_count": 27,
     "metadata": {},
     "output_type": "execute_result"
    }
   ],
   "source": [
    "a.top()"
   ]
  },
  {
   "cell_type": "code",
   "execution_count": 28,
   "id": "1b247cd8",
   "metadata": {},
   "outputs": [],
   "source": [
    "a.pop()"
   ]
  },
  {
   "cell_type": "code",
   "execution_count": 29,
   "id": "0c5d7384",
   "metadata": {},
   "outputs": [
    {
     "data": {
      "text/plain": [
       "1000"
      ]
     },
     "execution_count": 29,
     "metadata": {},
     "output_type": "execute_result"
    }
   ],
   "source": [
    "a.top()"
   ]
  },
  {
   "cell_type": "code",
   "execution_count": 30,
   "id": "ae5701ef",
   "metadata": {},
   "outputs": [
    {
     "data": {
      "text/plain": [
       "2"
      ]
     },
     "execution_count": 30,
     "metadata": {},
     "output_type": "execute_result"
    }
   ],
   "source": [
    "a.getSize()"
   ]
  },
  {
   "cell_type": "code",
   "execution_count": 31,
   "id": "5c338c59",
   "metadata": {},
   "outputs": [],
   "source": [
    "a.pop()"
   ]
  },
  {
   "cell_type": "code",
   "execution_count": 32,
   "id": "7d7939a5",
   "metadata": {},
   "outputs": [
    {
     "data": {
      "text/plain": [
       "1"
      ]
     },
     "execution_count": 32,
     "metadata": {},
     "output_type": "execute_result"
    }
   ],
   "source": [
    "a.top()"
   ]
  },
  {
   "cell_type": "code",
   "execution_count": 33,
   "id": "ea3776e2",
   "metadata": {},
   "outputs": [
    {
     "data": {
      "text/plain": [
       "1"
      ]
     },
     "execution_count": 33,
     "metadata": {},
     "output_type": "execute_result"
    }
   ],
   "source": [
    "a.getSize()"
   ]
  },
  {
   "cell_type": "code",
   "execution_count": 34,
   "id": "049cb5ff",
   "metadata": {},
   "outputs": [],
   "source": [
    "a.pop()"
   ]
  },
  {
   "cell_type": "code",
   "execution_count": 35,
   "id": "0906e66f",
   "metadata": {},
   "outputs": [],
   "source": [
    "a.top()"
   ]
  },
  {
   "cell_type": "code",
   "execution_count": 36,
   "id": "37647a24",
   "metadata": {},
   "outputs": [
    {
     "data": {
      "text/plain": [
       "0"
      ]
     },
     "execution_count": 36,
     "metadata": {},
     "output_type": "execute_result"
    }
   ],
   "source": [
    "a.getSize()"
   ]
  },
  {
   "cell_type": "code",
   "execution_count": 37,
   "id": "cafcd9cd",
   "metadata": {},
   "outputs": [
    {
     "data": {
      "text/plain": [
       "True"
      ]
     },
     "execution_count": 37,
     "metadata": {},
     "output_type": "execute_result"
    }
   ],
   "source": [
    "a.isEmpty()"
   ]
  },
  {
   "cell_type": "code",
   "execution_count": null,
   "id": "e9c2beb9",
   "metadata": {},
   "outputs": [],
   "source": []
  }
 ],
 "metadata": {
  "kernelspec": {
   "display_name": "Python 3 (ipykernel)",
   "language": "python",
   "name": "python3"
  },
  "language_info": {
   "codemirror_mode": {
    "name": "ipython",
    "version": 3
   },
   "file_extension": ".py",
   "mimetype": "text/x-python",
   "name": "python",
   "nbconvert_exporter": "python",
   "pygments_lexer": "ipython3",
   "version": "3.11.1"
  }
 },
 "nbformat": 4,
 "nbformat_minor": 5
}
