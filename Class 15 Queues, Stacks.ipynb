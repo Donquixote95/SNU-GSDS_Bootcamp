{
 "cells": [
  {
   "cell_type": "markdown",
   "id": "50dfac8e",
   "metadata": {},
   "source": [
    "Arrays\n",
    " - A sequence of neighboring memory boxes\n",
    " - Know where an arbitrary i-th element is located, by using the neighboring rule\n",
    " - Limitations: Fixed length and Expensive resizing\n",
    " - Make a brand-new array + copy all the existing elements\n",
    " - Imprvoement: Resizing step adjustment\n",
    " \n",
    "Linked lists\n",
    " - A list of nodes each of which has a link to another node\n",
    " - Know where the next element is located, by using the next pointer\n",
    " - Limitaiton: Don't know what is where - Frequent navigation through the list\n",
    " - Improvement: Caching and sentinel"
   ]
  },
  {
   "cell_type": "markdown",
   "id": "765f15df",
   "metadata": {},
   "source": [
    "Queue - a First In and First Out Data Structure\n",
    " - FIFO - First enqueued(대기열에 추가되는 것) element is dequeued(대기열에서 나가는 것) first.\n",
    " - Queue has two methods\n",
    " - enqueue(): add an element to the queue\n",
    " - dequeue(): remove the oldest element\n",
    " - Linked List를 이용해서 구현할 수도 있다."
   ]
  },
  {
   "cell_type": "markdown",
   "id": "7df7e11a",
   "metadata": {},
   "source": [
    "Stacks - a Last In and First Out Data Structure\n",
    " - LIFO - Last pushed element is popped first\n",
    " - Stack has two methods\n",
    " - push(): add an element to the stack\n",
    " - pop(): remove the newest element from the stack\n",
    " \n",
    "Use cases\n",
    " - Undo function: Ctrl + z\n",
    " - Parentheses matching: ((){}[])"
   ]
  }
 ],
 "metadata": {
  "kernelspec": {
   "display_name": "Python 3 (ipykernel)",
   "language": "python",
   "name": "python3"
  },
  "language_info": {
   "codemirror_mode": {
    "name": "ipython",
    "version": 3
   },
   "file_extension": ".py",
   "mimetype": "text/x-python",
   "name": "python",
   "nbconvert_exporter": "python",
   "pygments_lexer": "ipython3",
   "version": "3.11.1"
  }
 },
 "nbformat": 4,
 "nbformat_minor": 5
}
