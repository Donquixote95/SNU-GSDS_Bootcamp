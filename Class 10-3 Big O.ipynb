{
 "cells": [
  {
   "cell_type": "markdown",
   "id": "9e367bb3",
   "metadata": {},
   "source": [
    "Two Types of Program Cost\n",
    "\n",
    "Execution cost (our focus while learning algorithms)\n",
    " - Time complexity of a program (How much time?)\n",
    " - Memory complexity of a program (How much memory?)\n",
    " \n",
    "Programming cost (very important in practice, but not a focus in this course)\n",
    " - Development time\n",
    " - what if you develop a very nice program a year later than your competitor?\n",
    " - Readability, modifiability, and maintainability"
   ]
  },
  {
   "cell_type": "markdown",
   "id": "3730f96b",
   "metadata": {},
   "source": [
    "Measuring Time Complexity\n",
    "\n",
    " - Measure execution time in seconds using a client program(e.g. time module)\n",
    " - Pros: Easy to measure. Gives actual time\n",
    " - Cons: large amounts of time might be required. Results depend on lots of factors\n",
    " \n",
    "Count Possible operations in terms of input list size N\n",
    " - Pros: Machine independent. Gives algoritms' scalability\n",
    " - Cons: Tedious to compute. Does not give actual time\n",
    " \n",
    "Fortunately, we usually care only about asymptotic(점근적) behavior\n",
    " (with a very large N - Big Data!)"
   ]
  },
  {
   "cell_type": "markdown",
   "id": "d31155ae",
   "metadata": {},
   "source": [
    "What is Important for Asymptotic Analysis?\n",
    "\n",
    "function shape\n",
    "Order of growth"
   ]
  },
  {
   "cell_type": "markdown",
   "id": "a616d7a3",
   "metadata": {},
   "source": [
    "Simplification to Find \"Order of Growth\"\n",
    "\n",
    "1. Consider only the worst case\n",
    " - when comparing algorithms, we usually care only about the worst case performance\n",
    "2. Focus on only one operation that has the highest order of growth\n",
    " - there could be multiple good choices. Then, just choose any of tem.\n",
    "3. Remove lower order temrs\n",
    "4. Remove constants\n",
    " - We have already thrown away information at step 2. At this stage, constants are not meaningful.\n",
    "\n",
    "e.g. Worst-case order of growth of selection sort N^2"
   ]
  },
  {
   "cell_type": "markdown",
   "id": "6d0781c4",
   "metadata": {},
   "source": [
    "Formal Definition\n",
    "\n",
    " - If a function T(N) has its order of growth less than or equal to f(N),\n",
    " - we write this as T(N) ∈ O(f(N))\n",
    " - where O is called Big-O notation\n",
    " \n",
    "More mathematically, T(N) ∈ O(f(N)) means that\n",
    "there exists positive constants k such that\n",
    "T(N) <= k * f(N) for all values of N greater than some No (i.e., very large N)\n"
   ]
  },
  {
   "cell_type": "code",
   "execution_count": null,
   "id": "1ce74f2b",
   "metadata": {},
   "outputs": [],
   "source": []
  }
 ],
 "metadata": {
  "kernelspec": {
   "display_name": "Python 3 (ipykernel)",
   "language": "python",
   "name": "python3"
  },
  "language_info": {
   "codemirror_mode": {
    "name": "ipython",
    "version": 3
   },
   "file_extension": ".py",
   "mimetype": "text/x-python",
   "name": "python",
   "nbconvert_exporter": "python",
   "pygments_lexer": "ipython3",
   "version": "3.11.1"
  }
 },
 "nbformat": 4,
 "nbformat_minor": 5
}
