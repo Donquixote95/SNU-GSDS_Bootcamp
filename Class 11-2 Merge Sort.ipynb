{
 "cells": [
  {
   "cell_type": "markdown",
   "id": "e5c260f9",
   "metadata": {},
   "source": [
    "Time Complexity ~ log(n)\n",
    "\n",
    "Merge Sort - Idea\n",
    "\n",
    "Step 1 : Divide the whole list into two sub-lists\n",
    " - sublist1, sublist2\n",
    " \n",
    "Step 2 : Sort the left sublist and the right sublist separately, by using merge sort\n",
    " - Recursion\n",
    "\n",
    "Step 3 : Merge the two sorted sublist in a sorted way"
   ]
  },
  {
   "cell_type": "markdown",
   "id": "7384d7d3",
   "metadata": {},
   "source": [
    "list를 계속 sort하면, element가 1개면 sorting을 할 필요가 없어진다."
   ]
  },
  {
   "cell_type": "markdown",
   "id": "f228080c",
   "metadata": {},
   "source": [
    "Step 3에서 merge할 때 기준은, \n",
    "compare the leftmost items of the two sublists,\n",
    "given that the two lists are already sorted.\n",
    "\n",
    "비교해서 넣고 나면, 나머지 것들 중에, 계속 왼쪽에 있는 것들끼리 비교해서\n",
    "더 작은 것을\n",
    "새로 만들어지는 merge list index 0부터 차례대로 채워 넣는다."
   ]
  },
  {
   "cell_type": "markdown",
   "id": "24fdf06c",
   "metadata": {},
   "source": [
    "Merge Sort는 memory를 더 쓰게 된다. 대신 시간을 더 적게 사용한다.\n",
    "\n",
    "두 개의 list 중에 한 쪽 리스트를 먼저 다 쓰게 되면,\n",
    "나머지 리스트는 전체를 합쳐지는 list에 넣는다."
   ]
  },
  {
   "cell_type": "markdown",
   "id": "2c8f7833",
   "metadata": {},
   "source": [
    "Mergesort - a sorting algorithms using recursion"
   ]
  },
  {
   "cell_type": "code",
   "execution_count": 2,
   "id": "e0d8a215",
   "metadata": {},
   "outputs": [],
   "source": [
    "#Merge Sort - Recurssive Call\n",
    "\n",
    "def merge(L: list, first:int, mid:int, last: int) -> None:\n",
    "    # Initialization\n",
    "    k = first \n",
    "    sub1 = L[first:mid+1] # copy, memory를 사용 # Additional for list copy\n",
    "    sub2 = L[mid+1:last+1]\n",
    "    i = j = 0\n",
    "    \n",
    "    while i < len(sub1) and j < len(sub2): # list 둘 다 살아있는 경우\n",
    "        if sub1[i] <= sub2[j]:\n",
    "            L[k] = sub1[i]\n",
    "            i = i+1\n",
    "        else:\n",
    "            L[k] = sub[j]\n",
    "            j = j+1\n",
    "        k = k + 1\n",
    "    # At least one sublist is finished\n",
    "    if i < len(sub1):\n",
    "        L[k:last+1] = sub1[i:]\n",
    "    elif j < len(sub2):\n",
    "        L[k:last+1] = sub2[j:]\n",
    "        \n",
    "def mergeSortHelp(L: list, first: int, last: int) -> None:\n",
    "    if first == last: # Conditional statements # Base case\n",
    "        return        # element가 1개만 있는 경우, 아무 것도 안 해도 된다.\n",
    "    else: # Recursive case\n",
    "        # Step 1: Divdide it into two sublists\n",
    "        mid = first + (last - first) // 2\n",
    "        # Step 2: Sort the two sublsits\n",
    "        mergeSortHelp(L, first, mid)\n",
    "        mergeSortHelp(L, mid+1, last)\n",
    "        # Step 3: Merge the two \"sorted\" sublists\n",
    "        merge(L, first, mid, last)\n",
    "\n",
    "def mergeSort(L: list) -> None:\n",
    "    mergeSortHelp(L, 0, len(L)-1)"
   ]
  },
  {
   "cell_type": "markdown",
   "id": "ce6fb3a6",
   "metadata": {},
   "source": [
    "def mergeSortHelp(L: list, fisrt: int, last: int) -> None:\n",
    "    if first == last: #Conditional statements\n",
    "        return        #Base case\n",
    "    else:\n",
    "        mid = first + (last-first) // 2\n",
    "        mergeSortHelp(L,first,mid) #Recursive call for sublist1\n",
    "        mergeSortHelp(L+1,mid,last) #Recursive call for sublist2\n",
    "        merge(L, first, mid, last) # mid ; parameters to indicate where are two sublists and the whole list"
   ]
  },
  {
   "cell_type": "markdown",
   "id": "79b4f7d1",
   "metadata": {},
   "source": [
    "sublist 는 원래 list를 copy 해줘야 한다. list와 똑같은 list도 하나 copy 해야 한다. 왜냐하면 이 알고리즘은\n",
    "원본 리스트를 바로 손대면 안 되기 때문. 이유는..?\n",
    "\n",
    "Merge(L, first, mid, last)\n",
    " -> Memory complexity ; O(len(L)) for subL(1) = L[first:mid+1] and \n",
    "     subL2 = [mid+1:last+1]\n",
    " -> k는 first부터 시작, i, j는 0부터 시작\n",
    " \n",
    " Time complexity of O(len(L0)), instead of O(len(L)^2)"
   ]
  },
  {
   "cell_type": "markdown",
   "id": "3e79d93a",
   "metadata": {},
   "source": [
    "Summary\n",
    "\n",
    "Memory Complexity\n",
    " - 1 layer 씩만 copy가 일어난다. 따라서 ~N\n",
    " - for copying sublists\n",
    " \n",
    "Time Complexity\n",
    " - ~Nlog2(N) \n",
    " - log2(N)은 생성되는 layer의 개수, N은 merge 때문에\n",
    " - O(logN) levels for recursion\n",
    " - O(N) for merging at each level \n",
    " \n",
    "Mergesort\n",
    " - Divide and recursive calls\n",
    " - Merge sorted sublists\n",
    "\n",
    " \n",
    "c.f. What Sort Algorithm is Used for Python?\n",
    " - Tim Sort in 2002 - a hybrid sorting algorithm (merge sort + insert sort)\n",
    " - Divdie and conquer like merge sort\n",
    " - When a sublist becomes smaller than a threshold, sort the sublist by using insertion sort\n",
    " - list가 작을 때는 merge sort가 insert sort보다 조금 느리다.\n",
    " - element가 32개 이하가 될 때까지는 merge sort, 이후 insertion sort"
   ]
  }
 ],
 "metadata": {
  "kernelspec": {
   "display_name": "Python 3 (ipykernel)",
   "language": "python",
   "name": "python3"
  },
  "language_info": {
   "codemirror_mode": {
    "name": "ipython",
    "version": 3
   },
   "file_extension": ".py",
   "mimetype": "text/x-python",
   "name": "python",
   "nbconvert_exporter": "python",
   "pygments_lexer": "ipython3",
   "version": "3.11.1"
  }
 },
 "nbformat": 4,
 "nbformat_minor": 5
}
