{
 "cells": [
  {
   "cell_type": "code",
   "execution_count": 1,
   "id": "f1667974",
   "metadata": {},
   "outputs": [],
   "source": [
    "# leetcode.com/problems/flipping-an-image"
   ]
  },
  {
   "cell_type": "code",
   "execution_count": 2,
   "id": "1a44f806",
   "metadata": {},
   "outputs": [],
   "source": [
    "# Given a binary matrix A, we want to flip the image horizontally, then invert it, and return the resulting image.\n",
    "# To flip an image horizontally means that each row of the image is reversed.\n",
    "# For example, flipping [1, 1, 0] horizontally results in [0, 1, 1]\n",
    "\n",
    "# To invert an image means that each 0 is replaced by 1, and each 1 is replaced by 0.\n",
    "# For example, inverting [0, 1, 1] results in [1, 0, 0]"
   ]
  },
  {
   "cell_type": "code",
   "execution_count": 6,
   "id": "fa389655",
   "metadata": {},
   "outputs": [],
   "source": [
    "# EX 1.\n",
    "input = [[1,1,0], [1,0,1], [0,0,0]]\n",
    "# output = [[1,0,0], [0,1,0], [1,1,1]]\n",
    "# explanation\n",
    "# First reverse each row: [[0,1,1], [1,0,1], [0,0,0]].\n",
    "# Then, invert the image: [[1,0,0], [0,1,0], [1,1,1]]"
   ]
  },
  {
   "cell_type": "code",
   "execution_count": 22,
   "id": "06cdf6b7",
   "metadata": {},
   "outputs": [],
   "source": [
    "# 내 풀이\n",
    "def transpose_matrix(matrix):\n",
    "    output = matrix[:]\n",
    "    for row_vector in output:\n",
    "        for j in matrix:\n",
    "            for index in range(len(row_vector)):\n",
    "                row_vector[index] = j[len(row_vector)-index-1]\n",
    "    for row_vector in output:\n",
    "        for element in row_vector:\n",
    "            if element == 1:\n",
    "                element = 0\n",
    "            else: \n",
    "                element = 1"
   ]
  },
  {
   "cell_type": "code",
   "execution_count": 25,
   "id": "0b80bf96",
   "metadata": {},
   "outputs": [],
   "source": [
    "transpose_matrix(input)"
   ]
  },
  {
   "cell_type": "code",
   "execution_count": 26,
   "id": "704ac5de",
   "metadata": {},
   "outputs": [
    {
     "data": {
      "text/plain": [
       "[[1, 0, 0], [0, 1, 0], [1, 1, 1]]"
      ]
     },
     "execution_count": 26,
     "metadata": {},
     "output_type": "execute_result"
    }
   ],
   "source": [
    "output"
   ]
  },
  {
   "cell_type": "code",
   "execution_count": 34,
   "id": "cc278bfd",
   "metadata": {},
   "outputs": [],
   "source": [
    "from typing import List\n",
    "def flipAndInvertImage(A: List[List[int]]) -> List[List[int]]:\n",
    "    #<<function body - my code>>\n",
    "    # (1) horizontally flipping\n",
    "    for i in range(len(A)):\n",
    "        for j in range(len(A[0])):\n",
    "            if j < len(A[0])-1-j:\n",
    "                A[i][j], A[i][-1-j] = A[i][-1-j], A[i][j]\n",
    "            else:\n",
    "                break\n",
    "                \n",
    "    # (2) inverting\n",
    "    for i in range(len(A)):\n",
    "        for j in range(len(A[0])):\n",
    "            A[i][j] = 1 - A[i][j]\n",
    "            \n",
    "    # Return\n",
    "    return A "
   ]
  },
  {
   "cell_type": "code",
   "execution_count": 35,
   "id": "3d0c2ee6",
   "metadata": {},
   "outputs": [],
   "source": [
    "# test case\n",
    "input1 = [[1,1,0], [1,0,1], [0,0,0]]\n",
    "input2 = [[1,1,0,0], [1,0,0,1], [0,1,1,1], [1,0,1,0]]"
   ]
  },
  {
   "cell_type": "code",
   "execution_count": 36,
   "id": "cff7e862",
   "metadata": {},
   "outputs": [],
   "source": [
    "output1 = flipAndInvertImage(input1)\n",
    "output2 = flipAndInvertImage(input2)"
   ]
  },
  {
   "cell_type": "code",
   "execution_count": 37,
   "id": "5bf7e91c",
   "metadata": {},
   "outputs": [
    {
     "data": {
      "text/plain": [
       "[[1, 0, 0], [0, 1, 0], [1, 1, 1]]"
      ]
     },
     "execution_count": 37,
     "metadata": {},
     "output_type": "execute_result"
    }
   ],
   "source": [
    "output1"
   ]
  },
  {
   "cell_type": "code",
   "execution_count": 38,
   "id": "80de69e5",
   "metadata": {},
   "outputs": [
    {
     "data": {
      "text/plain": [
       "[[1, 1, 0, 0], [0, 1, 1, 0], [0, 0, 0, 1], [1, 0, 1, 0]]"
      ]
     },
     "execution_count": 38,
     "metadata": {},
     "output_type": "execute_result"
    }
   ],
   "source": [
    "output2"
   ]
  },
  {
   "cell_type": "code",
   "execution_count": 39,
   "id": "dc60906c",
   "metadata": {},
   "outputs": [],
   "source": [
    "from typing import List\n",
    "import copy\n",
    "\n",
    "def flipAndInvertImage(A: List[List[int]]) -> List[List[int]]:\n",
    "    #<<function body - my code>>\n",
    "    # (0) copy the input\n",
    "    B = copy.deepcopy(A)\n",
    "    # shallow copy\n",
    "    B = A[:] # 2-dimention list는 Slice 방식으로 Copy를 해도 조작 시 원본 list(A)가 바뀐다. \n",
    "    # (1) horizontally flipping\n",
    "    for i in range(len(A)):\n",
    "        for j in range(len(A[0])):\n",
    "            if j < len(A[0])-1-j:\n",
    "                A[i][j], A[i][-1-j] = A[i][-1-j], A[i][j]\n",
    "            else:\n",
    "                break\n",
    "                \n",
    "    # (2) inverting\n",
    "    for i in range(len(A)):\n",
    "        for j in range(len(A[0])):\n",
    "            A[i][j] = 1 - A[i][j]\n",
    "            \n",
    "    # Return\n",
    "    return A "
   ]
  },
  {
   "cell_type": "code",
   "execution_count": null,
   "id": "a6400419",
   "metadata": {},
   "outputs": [],
   "source": []
  }
 ],
 "metadata": {
  "kernelspec": {
   "display_name": "Python 3 (ipykernel)",
   "language": "python",
   "name": "python3"
  },
  "language_info": {
   "codemirror_mode": {
    "name": "ipython",
    "version": 3
   },
   "file_extension": ".py",
   "mimetype": "text/x-python",
   "name": "python",
   "nbconvert_exporter": "python",
   "pygments_lexer": "ipython3",
   "version": "3.11.1"
  }
 },
 "nbformat": 4,
 "nbformat_minor": 5
}
