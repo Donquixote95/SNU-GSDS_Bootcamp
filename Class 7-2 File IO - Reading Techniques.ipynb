{
 "cells": [
  {
   "cell_type": "markdown",
   "id": "4a0afa56",
   "metadata": {},
   "source": [
    "Whitespace delmited"
   ]
  },
  {
   "cell_type": "code",
   "execution_count": 43,
   "id": "53829fdc",
   "metadata": {},
   "outputs": [],
   "source": [
    "from typing import TextIO\n",
    "names = []\n",
    "numbers = []\n",
    "grades = []\n",
    "\n",
    "def skip_header(input_file: TextIO) -> str:\n",
    "    line = input_file.readline()\n",
    "    while line.startswith(\"#\"): \n",
    "        line = input_file.readline()\n",
    "    return line \n",
    "    # return을 안 해주면 while loop를 탈출한 시점에서 file cursor가 the second useful line에서 시작하기 때문에 return 필요.\n",
    "\n",
    "def process_file(input_file: TextIO) -> None:\n",
    "    line = skip_header(input_file)\n",
    "    while line:\n",
    "        line = line.strip() # Remove '\\n' at the end of the line\n",
    "        value = line.split() # Break a line into a list of words\n",
    "        names.append(value[0])\n",
    "        numbers.append(value[1])\n",
    "        grades.append(value[2])\n",
    "        line = input_file.readline()\n",
    "\n",
    "with open(\"file_example.txt\", \"r\") as students:\n",
    "    process_file(students)"
   ]
  },
  {
   "cell_type": "code",
   "execution_count": 44,
   "id": "50125ecc",
   "metadata": {},
   "outputs": [
    {
     "data": {
      "text/plain": [
       "['Inhoe', 'Jaewook', 'Hyungsin']"
      ]
     },
     "execution_count": 44,
     "metadata": {},
     "output_type": "execute_result"
    }
   ],
   "source": [
    "names"
   ]
  },
  {
   "cell_type": "code",
   "execution_count": 45,
   "id": "e13717ab",
   "metadata": {},
   "outputs": [
    {
     "data": {
      "text/plain": [
       "['2021-111', '2021-2222', '2022-9999']"
      ]
     },
     "execution_count": 45,
     "metadata": {},
     "output_type": "execute_result"
    }
   ],
   "source": [
    "numbers"
   ]
  },
  {
   "cell_type": "code",
   "execution_count": 46,
   "id": "6e663d98",
   "metadata": {},
   "outputs": [
    {
     "data": {
      "text/plain": [
       "['A+', 'A+', 'C']"
      ]
     },
     "execution_count": 46,
     "metadata": {},
     "output_type": "execute_result"
    }
   ],
   "source": [
    "grades"
   ]
  },
  {
   "cell_type": "code",
   "execution_count": 49,
   "id": "99d7fd86",
   "metadata": {},
   "outputs": [],
   "source": [
    "# Ignore missing values\n",
    "from typing import TextIO\n",
    "names = []\n",
    "numbers = []\n",
    "grades = []\n",
    "\n",
    "def skip_header(input_file: TextIO) -> str:\n",
    "    line = input_file.readline()\n",
    "    while line.startswith(\"#\"): \n",
    "        line = input_file.readline()\n",
    "    return line \n",
    "    # return을 안 해주면 while loop를 탈출한 시점에서 file cursor가 the second useful line에서 시작하기 때문에 return 필요.\n",
    "\n",
    "def process_file(input_file: TextIO) -> None:\n",
    "    line = skip_header(input_file)\n",
    "    while line:\n",
    "        line = line.strip() # Remove '\\n' at the end of the line\n",
    "        if line != '-': # Ignore the error data\n",
    "            value = line.split() # Break a line into a list of words\n",
    "            names.append(value[0])\n",
    "            numbers.append(value[1])\n",
    "            grades.append(value[2])\n",
    "        line = input_file.readline()\n",
    "\n",
    "with open(\"file_example.txt\", \"r\") as students:\n",
    "    process_file(students)"
   ]
  },
  {
   "cell_type": "code",
   "execution_count": 50,
   "id": "692fc9ae",
   "metadata": {},
   "outputs": [
    {
     "data": {
      "text/plain": [
       "['Inhoe', 'Jaewook', 'Hyungsin']"
      ]
     },
     "execution_count": 50,
     "metadata": {},
     "output_type": "execute_result"
    }
   ],
   "source": [
    "names"
   ]
  },
  {
   "cell_type": "code",
   "execution_count": 51,
   "id": "386680ea",
   "metadata": {},
   "outputs": [
    {
     "data": {
      "text/plain": [
       "['2021-111', '2021-2222', '2022-9999']"
      ]
     },
     "execution_count": 51,
     "metadata": {},
     "output_type": "execute_result"
    }
   ],
   "source": [
    "numbers"
   ]
  },
  {
   "cell_type": "code",
   "execution_count": 52,
   "id": "e1044d02",
   "metadata": {},
   "outputs": [
    {
     "data": {
      "text/plain": [
       "['A+', 'A+', 'C']"
      ]
     },
     "execution_count": 52,
     "metadata": {},
     "output_type": "execute_result"
    }
   ],
   "source": [
    "grades"
   ]
  },
  {
   "cell_type": "code",
   "execution_count": null,
   "id": "fcf1c0cc",
   "metadata": {},
   "outputs": [],
   "source": [
    "#TextIO is used in type annotations to indicate an open file"
   ]
  }
 ],
 "metadata": {
  "kernelspec": {
   "display_name": "Python 3 (ipykernel)",
   "language": "python",
   "name": "python3"
  },
  "language_info": {
   "codemirror_mode": {
    "name": "ipython",
    "version": 3
   },
   "file_extension": ".py",
   "mimetype": "text/x-python",
   "name": "python",
   "nbconvert_exporter": "python",
   "pygments_lexer": "ipython3",
   "version": "3.11.1"
  }
 },
 "nbformat": 4,
 "nbformat_minor": 5
}
