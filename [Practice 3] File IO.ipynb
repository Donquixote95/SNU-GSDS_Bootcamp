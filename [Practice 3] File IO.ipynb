{
 "cells": [
  {
   "cell_type": "code",
   "execution_count": 51,
   "id": "ea5fc864",
   "metadata": {},
   "outputs": [],
   "source": [
    "# 내 풀이 ; #과 붙어있는 number만 invalid하다고 생각하고 풀었다. 교수님 풀이는 # 이후 모든 number가 invalid하다고 생각한 것.\n",
    "\n",
    "from typing import TextIO\n",
    "\n",
    "output_list = []\n",
    "\n",
    "def skip_header(input_file: TextIO) -> str:\n",
    "    line = input_file.readline()\n",
    "    while line.startswith(\"#\"):\n",
    "        line = input_file.readline()\n",
    "    return line    \n",
    "\n",
    "def process_file(input_file: TextIO) -> None:\n",
    "    line = skip_header(input_file)\n",
    "    while line:\n",
    "        line = line.strip()\n",
    "        values = line.split()\n",
    "        for value in values:\n",
    "            if value[0] == '#':\n",
    "                values.remove(value)\n",
    "            else:\n",
    "                value = value[:len(value)-1]\n",
    "                if value.isdigit() == True:\n",
    "                    output_list.append(int(value))\n",
    "        line = input_file.readline()\n",
    "\n",
    "with open(\"file_practice.txt\", \"r\") as p_file:\n",
    "    process_file(p_file)"
   ]
  },
  {
   "cell_type": "code",
   "execution_count": 54,
   "id": "112c5ffd",
   "metadata": {},
   "outputs": [
    {
     "data": {
      "text/plain": [
       "6991"
      ]
     },
     "execution_count": 54,
     "metadata": {},
     "output_type": "execute_result"
    }
   ],
   "source": [
    "max(output_list)"
   ]
  },
  {
   "cell_type": "code",
   "execution_count": 55,
   "id": "c5a29b17",
   "metadata": {},
   "outputs": [
    {
     "data": {
      "text/plain": [
       "[269,\n",
       " 321,\n",
       " 585,\n",
       " 871,\n",
       " 1475,\n",
       " 2821,\n",
       " 3928,\n",
       " 4950,\n",
       " 2577,\n",
       " 523,\n",
       " 98,\n",
       " 184,\n",
       " 279,\n",
       " 409,\n",
       " 2285,\n",
       " 2685,\n",
       " 3409,\n",
       " 1824,\n",
       " 409,\n",
       " 151,\n",
       " 45,\n",
       " 68,\n",
       " 213,\n",
       " 546,\n",
       " 1033,\n",
       " 2129,\n",
       " 2536,\n",
       " 957,\n",
       " 361,\n",
       " 377,\n",
       " 225,\n",
       " 360,\n",
       " 731,\n",
       " 1638,\n",
       " 2725,\n",
       " 2871,\n",
       " 2119,\n",
       " 684,\n",
       " 299,\n",
       " 236,\n",
       " 245,\n",
       " 552,\n",
       " 1623,\n",
       " 3311,\n",
       " 6721,\n",
       " 4245,\n",
       " 687,\n",
       " 255,\n",
       " 473,\n",
       " 358,\n",
       " 784,\n",
       " 1594,\n",
       " 1676,\n",
       " 2251,\n",
       " 1426,\n",
       " 756,\n",
       " 299,\n",
       " 201,\n",
       " 229,\n",
       " 469,\n",
       " 736,\n",
       " 2042,\n",
       " 2811,\n",
       " 4431,\n",
       " 2511,\n",
       " 389,\n",
       " 73,\n",
       " 39,\n",
       " 49,\n",
       " 59,\n",
       " 188,\n",
       " 377,\n",
       " 1292,\n",
       " 4031,\n",
       " 3495,\n",
       " 587,\n",
       " 105,\n",
       " 153,\n",
       " 387,\n",
       " 758,\n",
       " 1307,\n",
       " 6991,\n",
       " 6313,\n",
       " 3794,\n",
       " 1836,\n",
       " 345,\n",
       " 382,\n",
       " 808,\n",
       " 1388,\n",
       " 2713,\n",
       " 3800,\n",
       " 3091,\n",
       " 2985,\n",
       " 3790,\n",
       " 674,\n",
       " 81,\n",
       " 80,\n",
       " 108,\n",
       " 229,\n",
       " 399,\n",
       " 1132,\n",
       " 2432,\n",
       " 3574,\n",
       " 2935,\n",
       " 1537,\n",
       " 529,\n",
       " 485,\n",
       " 662,\n",
       " 1000,\n",
       " 1590,\n",
       " 2657,\n",
       " 3396]"
      ]
     },
     "execution_count": 55,
     "metadata": {},
     "output_type": "execute_result"
    }
   ],
   "source": [
    "output_list"
   ]
  },
  {
   "cell_type": "code",
   "execution_count": 72,
   "id": "caaf9aaa",
   "metadata": {},
   "outputs": [
    {
     "name": "stdout",
     "output_type": "stream",
     "text": [
      "6721.0\n"
     ]
    }
   ],
   "source": [
    "# 교수님 풀이 \n",
    "\n",
    "# (2) process_file\n",
    "from typing import TextIO\n",
    "def process_file(input_file: TextIO) -> float:\n",
    "    max_num = 0 # Initialization\n",
    "    line = input_file.readline()\n",
    "    while line: #line이 유효하면\n",
    "        if not line.startswith('#'): # filter comments\n",
    "            # Do something useful with a line\n",
    "            valid_line = line.split('#')[0].strip() # filter comments again\n",
    "            numStrings = valid_line.split('.') # Extract many numStrings\n",
    "            for numStr in numStrings:\n",
    "                if numStr: # numStr이 유효하면, 공백이 있는 경우도 있을 수 있기 때문이다.\n",
    "                           # while line도 그렇고 if 문의 numStr도 그렇고, 유효하다는 게 무슨 뜻인지..\n",
    "                           # 엄밀하게 말하면 numStr != \"\" 이다. Python에서는 empty string(\"\")이면 False로 번역된다.\n",
    "                            # 예를 들어, if 5: 에서 5는 True로 번역, if 0: 에서 0은 False로 번역한다.\n",
    "                            # list도 비어 있으면 False로 번역\n",
    "                           # Filter empty string\n",
    "                    num = float(numStr.strip()) # Convert str into real number!\n",
    "                    if max_num < num: # Update max_num\n",
    "                        max_num = num\n",
    "        line = input_file.readline() # Read nextline\n",
    "    return max_num\n",
    "\n",
    "# (1) Open file\n",
    "with open(\"file_practice.txt\", \"r\") as file:\n",
    "    output = process_file(file)\n",
    "print(output)"
   ]
  },
  {
   "cell_type": "markdown",
   "id": "e5904d89",
   "metadata": {},
   "source": [
    "\"#5943\".split('#')"
   ]
  },
  {
   "cell_type": "code",
   "execution_count": 62,
   "id": "e1050e46",
   "metadata": {},
   "outputs": [
    {
     "data": {
      "text/plain": [
       "''"
      ]
     },
     "execution_count": 62,
     "metadata": {},
     "output_type": "execute_result"
    }
   ],
   "source": [
    "\"#5943\".split('#')[0]"
   ]
  },
  {
   "cell_type": "code",
   "execution_count": 63,
   "id": "2e8a0d06",
   "metadata": {},
   "outputs": [
    {
     "data": {
      "text/plain": [
       "''"
      ]
     },
     "execution_count": 63,
     "metadata": {},
     "output_type": "execute_result"
    }
   ],
   "source": [
    "\"#5943\".split('#')[0].strip()"
   ]
  },
  {
   "cell_type": "code",
   "execution_count": null,
   "id": "30aba0ba",
   "metadata": {},
   "outputs": [],
   "source": []
  }
 ],
 "metadata": {
  "kernelspec": {
   "display_name": "Python 3 (ipykernel)",
   "language": "python",
   "name": "python3"
  },
  "language_info": {
   "codemirror_mode": {
    "name": "ipython",
    "version": 3
   },
   "file_extension": ".py",
   "mimetype": "text/x-python",
   "name": "python",
   "nbconvert_exporter": "python",
   "pygments_lexer": "ipython3",
   "version": "3.11.1"
  }
 },
 "nbformat": 4,
 "nbformat_minor": 5
}
