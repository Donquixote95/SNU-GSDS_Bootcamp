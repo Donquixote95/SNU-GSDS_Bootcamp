{
 "cells": [
  {
   "cell_type": "markdown",
   "id": "805b9c68",
   "metadata": {},
   "source": [
    "Abstraction (추상화)"
   ]
  },
  {
   "cell_type": "markdown",
   "id": "df89b9c5",
   "metadata": {},
   "source": [
    "List is a type of object (i.e. class) that contains a list of ordered items\n",
    "List, as a class, has its own methods"
   ]
  },
  {
   "cell_type": "code",
   "execution_count": 1,
   "id": "1bd097c3",
   "metadata": {},
   "outputs": [
    {
     "data": {
      "text/plain": [
       "[1, 3, 2, 4]"
      ]
     },
     "execution_count": 1,
     "metadata": {},
     "output_type": "execute_result"
    }
   ],
   "source": [
    "[1,3,2,4]"
   ]
  },
  {
   "cell_type": "code",
   "execution_count": 2,
   "id": "571ff2b8",
   "metadata": {},
   "outputs": [
    {
     "data": {
      "text/plain": [
       "[]"
      ]
     },
     "execution_count": 2,
     "metadata": {},
     "output_type": "execute_result"
    }
   ],
   "source": [
    "[] # empty list"
   ]
  },
  {
   "cell_type": "code",
   "execution_count": 3,
   "id": "e90bcf60",
   "metadata": {},
   "outputs": [],
   "source": [
    "students = [\"inhoe\", \"yesong\", \"yeha\", \"suun\", \"nayeon\"]"
   ]
  },
  {
   "cell_type": "code",
   "execution_count": 4,
   "id": "60baf5b7",
   "metadata": {},
   "outputs": [
    {
     "data": {
      "text/plain": [
       "['inhoe', 'yesong', 'yeha', 'suun', 'nayeon']"
      ]
     },
     "execution_count": 4,
     "metadata": {},
     "output_type": "execute_result"
    }
   ],
   "source": [
    "students"
   ]
  },
  {
   "cell_type": "code",
   "execution_count": 5,
   "id": "eeb31dff",
   "metadata": {},
   "outputs": [
    {
     "data": {
      "text/plain": [
       "list"
      ]
     },
     "execution_count": 5,
     "metadata": {},
     "output_type": "execute_result"
    }
   ],
   "source": [
    "type(students)"
   ]
  },
  {
   "cell_type": "code",
   "execution_count": 6,
   "id": "d4b5fcfb",
   "metadata": {},
   "outputs": [
    {
     "data": {
      "text/plain": [
       "str"
      ]
     },
     "execution_count": 6,
     "metadata": {},
     "output_type": "execute_result"
    }
   ],
   "source": [
    "type(students[1])"
   ]
  },
  {
   "cell_type": "code",
   "execution_count": 8,
   "id": "b8c55d0e",
   "metadata": {},
   "outputs": [
    {
     "data": {
      "text/plain": [
       "'nayeon'"
      ]
     },
     "execution_count": 8,
     "metadata": {},
     "output_type": "execute_result"
    }
   ],
   "source": [
    "students[-1]"
   ]
  },
  {
   "cell_type": "code",
   "execution_count": 9,
   "id": "783d6464",
   "metadata": {},
   "outputs": [
    {
     "data": {
      "text/plain": [
       "'inhoe'"
      ]
     },
     "execution_count": 9,
     "metadata": {},
     "output_type": "execute_result"
    }
   ],
   "source": [
    "students[0]"
   ]
  },
  {
   "cell_type": "code",
   "execution_count": 10,
   "id": "130f56c6",
   "metadata": {},
   "outputs": [
    {
     "data": {
      "text/plain": [
       "'suun'"
      ]
     },
     "execution_count": 10,
     "metadata": {},
     "output_type": "execute_result"
    }
   ],
   "source": [
    "students[3]"
   ]
  },
  {
   "cell_type": "code",
   "execution_count": 14,
   "id": "99533a55",
   "metadata": {},
   "outputs": [],
   "source": [
    "students[1] = \"kakyeong\" #reassignment"
   ]
  },
  {
   "cell_type": "code",
   "execution_count": 12,
   "id": "1f4e9019",
   "metadata": {},
   "outputs": [
    {
     "data": {
      "text/plain": [
       "'kakyeong'"
      ]
     },
     "execution_count": 12,
     "metadata": {},
     "output_type": "execute_result"
    }
   ],
   "source": [
    "students[1]"
   ]
  },
  {
   "cell_type": "code",
   "execution_count": 15,
   "id": "9b11d7f4",
   "metadata": {},
   "outputs": [],
   "source": [
    "# reassignment를 할 때 새로운 메모리집을 만들어서 pointing을 바꿔주는 것이다. 기존의 메모리집을 없애는 개념이 아니다."
   ]
  },
  {
   "cell_type": "code",
   "execution_count": 16,
   "id": "59849f7a",
   "metadata": {},
   "outputs": [],
   "source": [
    "# 파이썬은 메모리 관리를 위해 오랫동안 사용하지 않은 메모리집 내 값은 주기적으로 삭제한다."
   ]
  },
  {
   "cell_type": "code",
   "execution_count": 17,
   "id": "071eae2e",
   "metadata": {},
   "outputs": [],
   "source": [
    "jaesuk_info = [\"MC\", \"1972.8.14\", 178, 65]"
   ]
  },
  {
   "cell_type": "markdown",
   "id": "db1f7bdf",
   "metadata": {},
   "source": [
    "But this is error prone, since we need to remember what is where\n",
    "Lists are usually used for containing a single type of objects\n",
    "\n",
    "Recommendation: Specify what type a list expects\n",
    "EX)\n",
    "from typing import Lists\n",
    "def average(L: List[float]) -> float:"
   ]
  },
  {
   "cell_type": "code",
   "execution_count": 18,
   "id": "85ca7bb0",
   "metadata": {},
   "outputs": [],
   "source": [
    "#List of Lists"
   ]
  },
  {
   "cell_type": "code",
   "execution_count": 19,
   "id": "e3d5e77e",
   "metadata": {},
   "outputs": [],
   "source": [
    "A = [1,3,5,2,-2,-100,5235] "
   ]
  },
  {
   "cell_type": "code",
   "execution_count": 20,
   "id": "d0cfc1f8",
   "metadata": {},
   "outputs": [
    {
     "data": {
      "text/plain": [
       "7"
      ]
     },
     "execution_count": 20,
     "metadata": {},
     "output_type": "execute_result"
    }
   ],
   "source": [
    "len(A)"
   ]
  },
  {
   "cell_type": "code",
   "execution_count": 21,
   "id": "2ee2577d",
   "metadata": {},
   "outputs": [
    {
     "data": {
      "text/plain": [
       "5235"
      ]
     },
     "execution_count": 21,
     "metadata": {},
     "output_type": "execute_result"
    }
   ],
   "source": [
    "max(A)"
   ]
  },
  {
   "cell_type": "code",
   "execution_count": 22,
   "id": "cd6fbe4c",
   "metadata": {},
   "outputs": [
    {
     "data": {
      "text/plain": [
       "-100"
      ]
     },
     "execution_count": 22,
     "metadata": {},
     "output_type": "execute_result"
    }
   ],
   "source": [
    "min(A)"
   ]
  },
  {
   "cell_type": "code",
   "execution_count": 23,
   "id": "9cbd33d2",
   "metadata": {},
   "outputs": [
    {
     "data": {
      "text/plain": [
       "5144"
      ]
     },
     "execution_count": 23,
     "metadata": {},
     "output_type": "execute_result"
    }
   ],
   "source": [
    "sum(A)"
   ]
  },
  {
   "cell_type": "code",
   "execution_count": 25,
   "id": "4295cbe7",
   "metadata": {},
   "outputs": [
    {
     "data": {
      "text/plain": [
       "[-100, -2, 1, 2, 3, 5, 5235]"
      ]
     },
     "execution_count": 25,
     "metadata": {},
     "output_type": "execute_result"
    }
   ],
   "source": [
    "sorted(A)"
   ]
  },
  {
   "cell_type": "code",
   "execution_count": 26,
   "id": "27f7f43d",
   "metadata": {},
   "outputs": [
    {
     "data": {
      "text/plain": [
       "[1, 3, 5, 2, -2, -100, 5235, 2, 3, 5]"
      ]
     },
     "execution_count": 26,
     "metadata": {},
     "output_type": "execute_result"
    }
   ],
   "source": [
    "A + [2,3,5]"
   ]
  },
  {
   "cell_type": "code",
   "execution_count": 27,
   "id": "fbf08166",
   "metadata": {},
   "outputs": [
    {
     "data": {
      "text/plain": [
       "[1, 3, 5, 2, -2, -100, 5235, 1, 3, 5, 2, -2, -100, 5235]"
      ]
     },
     "execution_count": 27,
     "metadata": {},
     "output_type": "execute_result"
    }
   ],
   "source": [
    "A*2"
   ]
  },
  {
   "cell_type": "code",
   "execution_count": 32,
   "id": "0e295c4c",
   "metadata": {},
   "outputs": [],
   "source": [
    "B = [100, 101, 102]"
   ]
  },
  {
   "cell_type": "code",
   "execution_count": 33,
   "id": "2294b146",
   "metadata": {},
   "outputs": [
    {
     "data": {
      "text/plain": [
       "[100, 101, 102, 1, 3, 5, 2, -2, -100, 5235]"
      ]
     },
     "execution_count": 33,
     "metadata": {},
     "output_type": "execute_result"
    }
   ],
   "source": [
    "B + A"
   ]
  },
  {
   "cell_type": "code",
   "execution_count": 34,
   "id": "086bd749",
   "metadata": {},
   "outputs": [],
   "source": [
    "del A[1]"
   ]
  },
  {
   "cell_type": "code",
   "execution_count": 35,
   "id": "f762c156",
   "metadata": {},
   "outputs": [],
   "source": [
    "del B[2]"
   ]
  },
  {
   "cell_type": "code",
   "execution_count": 36,
   "id": "60249a03",
   "metadata": {},
   "outputs": [
    {
     "data": {
      "text/plain": [
       "[100, 101]"
      ]
     },
     "execution_count": 36,
     "metadata": {},
     "output_type": "execute_result"
    }
   ],
   "source": [
    "B"
   ]
  },
  {
   "cell_type": "markdown",
   "id": "e3ea7c48",
   "metadata": {},
   "source": [
    "List is also a class having several methods, such as str\n",
    "these methods modify the list but does not return anything(None)"
   ]
  },
  {
   "cell_type": "code",
   "execution_count": 38,
   "id": "583a85ee",
   "metadata": {},
   "outputs": [],
   "source": [
    "students.append(\"kangsuk\")"
   ]
  },
  {
   "cell_type": "code",
   "execution_count": 39,
   "id": "4ad52e75",
   "metadata": {},
   "outputs": [
    {
     "data": {
      "text/plain": [
       "['inhoe', 'kakyeong', 'yeha', 'suun', 'nayeon', 'kangsuk']"
      ]
     },
     "execution_count": 39,
     "metadata": {},
     "output_type": "execute_result"
    }
   ],
   "source": [
    "students"
   ]
  },
  {
   "cell_type": "code",
   "execution_count": 40,
   "id": "67531b70",
   "metadata": {},
   "outputs": [],
   "source": [
    "# students.clear() ; 모두 지워진다."
   ]
  },
  {
   "cell_type": "code",
   "execution_count": 42,
   "id": "8f8e04a2",
   "metadata": {},
   "outputs": [
    {
     "data": {
      "text/plain": [
       "5"
      ]
     },
     "execution_count": 42,
     "metadata": {},
     "output_type": "execute_result"
    }
   ],
   "source": [
    "students.index(\"kangsuk\")"
   ]
  },
  {
   "cell_type": "code",
   "execution_count": 43,
   "id": "c73c9821",
   "metadata": {},
   "outputs": [
    {
     "data": {
      "text/plain": [
       "1"
      ]
     },
     "execution_count": 43,
     "metadata": {},
     "output_type": "execute_result"
    }
   ],
   "source": [
    "students.count(\"suun\")"
   ]
  },
  {
   "cell_type": "code",
   "execution_count": 45,
   "id": "7a407415",
   "metadata": {},
   "outputs": [],
   "source": [
    "students.insert(2,\"sunwoo\")"
   ]
  },
  {
   "cell_type": "code",
   "execution_count": 46,
   "id": "dae8b2df",
   "metadata": {},
   "outputs": [
    {
     "data": {
      "text/plain": [
       "['inhoe', 'kakyeong', 'sunwoo', 'yeha', 'suun', 'nayeon', 'kangsuk']"
      ]
     },
     "execution_count": 46,
     "metadata": {},
     "output_type": "execute_result"
    }
   ],
   "source": [
    "students"
   ]
  },
  {
   "cell_type": "code",
   "execution_count": 47,
   "id": "1c49bf47",
   "metadata": {},
   "outputs": [
    {
     "data": {
      "text/plain": [
       "'kangsuk'"
      ]
     },
     "execution_count": 47,
     "metadata": {},
     "output_type": "execute_result"
    }
   ],
   "source": [
    "students.pop()"
   ]
  },
  {
   "cell_type": "code",
   "execution_count": 48,
   "id": "763ce715",
   "metadata": {},
   "outputs": [],
   "source": [
    "students.reverse()"
   ]
  },
  {
   "cell_type": "code",
   "execution_count": 49,
   "id": "ad6210e0",
   "metadata": {},
   "outputs": [
    {
     "data": {
      "text/plain": [
       "['nayeon', 'suun', 'yeha', 'sunwoo', 'kakyeong', 'inhoe']"
      ]
     },
     "execution_count": 49,
     "metadata": {},
     "output_type": "execute_result"
    }
   ],
   "source": [
    "students"
   ]
  },
  {
   "cell_type": "code",
   "execution_count": 50,
   "id": "bf2b3562",
   "metadata": {},
   "outputs": [],
   "source": [
    "students.sort()"
   ]
  },
  {
   "cell_type": "code",
   "execution_count": 51,
   "id": "f6310b94",
   "metadata": {},
   "outputs": [
    {
     "data": {
      "text/plain": [
       "['inhoe', 'kakyeong', 'nayeon', 'sunwoo', 'suun', 'yeha']"
      ]
     },
     "execution_count": 51,
     "metadata": {},
     "output_type": "execute_result"
    }
   ],
   "source": [
    "students"
   ]
  },
  {
   "cell_type": "code",
   "execution_count": 52,
   "id": "591b7fda",
   "metadata": {},
   "outputs": [],
   "source": [
    "students.sort(reverse=True)"
   ]
  },
  {
   "cell_type": "code",
   "execution_count": 53,
   "id": "146b9a55",
   "metadata": {},
   "outputs": [
    {
     "data": {
      "text/plain": [
       "['yeha', 'suun', 'sunwoo', 'nayeon', 'kakyeong', 'inhoe']"
      ]
     },
     "execution_count": 53,
     "metadata": {},
     "output_type": "execute_result"
    }
   ],
   "source": [
    "students"
   ]
  },
  {
   "cell_type": "code",
   "execution_count": 54,
   "id": "4ddd9cde",
   "metadata": {},
   "outputs": [],
   "source": [
    "# Slicing"
   ]
  },
  {
   "cell_type": "markdown",
   "id": "8df8499f",
   "metadata": {},
   "source": [
    "A[i:j] : A list comprised of i-th element to (j-1)-th element of list A"
   ]
  },
  {
   "cell_type": "code",
   "execution_count": 56,
   "id": "b5eeadee",
   "metadata": {},
   "outputs": [
    {
     "data": {
      "text/plain": [
       "['sunwoo', 'nayeon']"
      ]
     },
     "execution_count": 56,
     "metadata": {},
     "output_type": "execute_result"
    }
   ],
   "source": [
    "students[2:4]"
   ]
  },
  {
   "cell_type": "code",
   "execution_count": 57,
   "id": "9b36444f",
   "metadata": {},
   "outputs": [
    {
     "data": {
      "text/plain": [
       "['yeha', 'suun', 'sunwoo', 'nayeon', 'kakyeong', 'inhoe']"
      ]
     },
     "execution_count": 57,
     "metadata": {},
     "output_type": "execute_result"
    }
   ],
   "source": [
    "students[:]"
   ]
  },
  {
   "cell_type": "code",
   "execution_count": 58,
   "id": "d6093661",
   "metadata": {},
   "outputs": [
    {
     "data": {
      "text/plain": [
       "['yeha', 'suun']"
      ]
     },
     "execution_count": 58,
     "metadata": {},
     "output_type": "execute_result"
    }
   ],
   "source": [
    "students[:2]"
   ]
  },
  {
   "cell_type": "code",
   "execution_count": 59,
   "id": "f9e93db2",
   "metadata": {},
   "outputs": [
    {
     "data": {
      "text/plain": [
       "['sunwoo', 'nayeon', 'kakyeong', 'inhoe']"
      ]
     },
     "execution_count": 59,
     "metadata": {},
     "output_type": "execute_result"
    }
   ],
   "source": [
    "students[2:]"
   ]
  },
  {
   "cell_type": "markdown",
   "id": "8390b91f",
   "metadata": {},
   "source": [
    "Copy : students_copy = students[:]\n",
    " - An independent list with the same elements\n",
    " - Modifying students_copy does NOT impact students\n",
    "\n",
    "Alias : students_alias = students (having many alias is not a good idea)\n",
    "\n",
    "# 조작을 할 때, copy는 원본 리스트에 영향이 없지만, \n",
    "# Alias는 원본 리스트에 영향을 준다."
   ]
  },
  {
   "cell_type": "code",
   "execution_count": 60,
   "id": "6bbe287a",
   "metadata": {},
   "outputs": [],
   "source": [
    "gsds_courses = [\"Math/Stat\", \"CFDS\", \"ML/DL 1\", \"Computing 1\", \"Big Data 1\"]"
   ]
  },
  {
   "cell_type": "code",
   "execution_count": 62,
   "id": "ba320bcf",
   "metadata": {},
   "outputs": [
    {
     "name": "stdout",
     "output_type": "stream",
     "text": [
      "GSDS offers Math/Stat courses in Spring 2023.\n",
      "GSDS offers CFDS courses in Spring 2023.\n",
      "GSDS offers ML/DL 1 courses in Spring 2023.\n",
      "GSDS offers Computing 1 courses in Spring 2023.\n",
      "GSDS offers Big Data 1 courses in Spring 2023.\n"
     ]
    }
   ],
   "source": [
    "for i in gsds_courses:\n",
    "    print(\"GSDS offers\", i, \"courses in Spring 2023.\")"
   ]
  },
  {
   "cell_type": "code",
   "execution_count": 63,
   "id": "04a46b9a",
   "metadata": {},
   "outputs": [],
   "source": [
    "name = \"Do-Eon Lim\""
   ]
  },
  {
   "cell_type": "code",
   "execution_count": 64,
   "id": "3c32fc3d",
   "metadata": {},
   "outputs": [
    {
     "name": "stdout",
     "output_type": "stream",
     "text": [
      "D\n",
      "E\n",
      "L\n"
     ]
    }
   ],
   "source": [
    "for ch in name:\n",
    "    if ch.isupper():\n",
    "        print(ch)"
   ]
  },
  {
   "cell_type": "code",
   "execution_count": 65,
   "id": "e6840fe4",
   "metadata": {},
   "outputs": [
    {
     "name": "stdout",
     "output_type": "stream",
     "text": [
      "o\n",
      "o\n",
      "n\n",
      "i\n",
      "m\n"
     ]
    }
   ],
   "source": [
    "for ch in name:\n",
    "    if ch.islower():\n",
    "        print(ch)"
   ]
  },
  {
   "cell_type": "code",
   "execution_count": null,
   "id": "eb4f13d2",
   "metadata": {},
   "outputs": [],
   "source": [
    " "
   ]
  }
 ],
 "metadata": {
  "kernelspec": {
   "display_name": "Python 3 (ipykernel)",
   "language": "python",
   "name": "python3"
  },
  "language_info": {
   "codemirror_mode": {
    "name": "ipython",
    "version": 3
   },
   "file_extension": ".py",
   "mimetype": "text/x-python",
   "name": "python",
   "nbconvert_exporter": "python",
   "pygments_lexer": "ipython3",
   "version": "3.11.1"
  }
 },
 "nbformat": 4,
 "nbformat_minor": 5
}
