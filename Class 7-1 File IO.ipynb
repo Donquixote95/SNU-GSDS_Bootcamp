{
 "cells": [
  {
   "cell_type": "markdown",
   "id": "fbf8b1f8",
   "metadata": {},
   "source": [
    "File IO\n",
    "I : Input\n",
    "O: Output"
   ]
  },
  {
   "cell_type": "code",
   "execution_count": 2,
   "id": "e258b639",
   "metadata": {},
   "outputs": [
    {
     "name": "stdout",
     "output_type": "stream",
     "text": [
      "First line of text\n",
      "Second line of text\n",
      "Third line of text\n"
     ]
    }
   ],
   "source": [
    "file = open(\"file_example.txt\", \"r\")\n",
    "contents = file.read()\n",
    "file.close()\n",
    "print(contents)"
   ]
  },
  {
   "cell_type": "markdown",
   "id": "d7f95bcc",
   "metadata": {},
   "source": [
    "File cursor : The marker that keeps track of the current location in the file\n",
    "(initially at the beginning of the file and moving to the end as you read or write data)"
   ]
  },
  {
   "cell_type": "markdown",
   "id": "0cb1cb7f",
   "metadata": {},
   "source": [
    "open a file and return an object that knows how to get information from the file\n",
    "\n",
    "this object also keeps track of current location: how much you've read and which part of the file you are about to read next"
   ]
  },
  {
   "cell_type": "markdown",
   "id": "ad5b9b87",
   "metadata": {},
   "source": [
    "처음 파일을 열면, 위 파일 기준으로,\n",
    "First 단어 앞에 File cursor가 있다.\n",
    "그리고 파일을 읽어 가다가 모두 읽으면 text 단어 뒤에 있게 된다."
   ]
  },
  {
   "cell_type": "markdown",
   "id": "94648bf7",
   "metadata": {},
   "source": [
    "file = open(<<file_name>>, mode)\n",
    "Mode : 'r' is reading, 'w' is for writing, and 'a' for appending"
   ]
  },
  {
   "cell_type": "markdown",
   "id": "5c562c05",
   "metadata": {},
   "source": [
    "file.read()\n",
    " - file을 불러오면 object가 되니까 Method를 사용할 수 있음.\n",
    " - Read the entire file, make the contents into a string, and return the string\n",
    " - File cursor가 처음에 있다가, 끝까지 내려오게 해서 전부 읽고, 하나의 string 으로 만드는 Method"
   ]
  },
  {
   "cell_type": "markdown",
   "id": "97595b61",
   "metadata": {},
   "source": [
    "file.close()\n",
    " - Release all resources associated with the open file object\n",
    " - close를 하지 않으면 Memory에 계속 load 되어 있어서 나중에 메모리가 넘칠 수 있음."
   ]
  },
  {
   "cell_type": "markdown",
   "id": "e803ead4",
   "metadata": {},
   "source": [
    "'with' statement\n",
    "\n",
    "with open('file_example.txt','r') as file:\n",
    "    contents = file.read()\n",
    "print(contents)"
   ]
  },
  {
   "cell_type": "markdown",
   "id": "158306d7",
   "metadata": {},
   "source": [
    "File Path\n",
    "\n",
    " - Absoulte path\n",
    " - Relative path : Starting from the current working directory\n",
    " \n",
    "Python 에서는 경로를 \\이 아니라 /로 구분한다. 왜냐하면 운영체제에 따라 달라지면 안 되기 떄문.\n",
    " - Windows 는 \\을 사용하고\n",
    " - Mac 은 /을 사용한다. \n",
    " 그래서 파이썬에서 통일을 한 것"
   ]
  },
  {
   "cell_type": "code",
   "execution_count": 4,
   "id": "3e83d374",
   "metadata": {},
   "outputs": [],
   "source": [
    "import os\n",
    "# some functions about directory in module 'os'"
   ]
  },
  {
   "cell_type": "code",
   "execution_count": 5,
   "id": "2edc65d6",
   "metadata": {},
   "outputs": [
    {
     "data": {
      "text/plain": [
       "'C:\\\\Users\\\\doeon\\\\practice'"
      ]
     },
     "execution_count": 5,
     "metadata": {},
     "output_type": "execute_result"
    }
   ],
   "source": [
    "os.getcwd()\n",
    "# absolute path를 알려준다.\n",
    "# current location을 알고 싶을 떄"
   ]
  },
  {
   "cell_type": "code",
   "execution_count": 6,
   "id": "bf901a29",
   "metadata": {},
   "outputs": [],
   "source": [
    "os.chdir(\"../\")\n",
    "# change directory의 뜻.\n",
    "# .. 상위 폴더로 이동"
   ]
  },
  {
   "cell_type": "code",
   "execution_count": 7,
   "id": "c6e2c504",
   "metadata": {},
   "outputs": [
    {
     "data": {
      "text/plain": [
       "'C:\\\\Users\\\\doeon'"
      ]
     },
     "execution_count": 7,
     "metadata": {},
     "output_type": "execute_result"
    }
   ],
   "source": [
    "os.getcwd()"
   ]
  },
  {
   "cell_type": "code",
   "execution_count": 8,
   "id": "5726448e",
   "metadata": {},
   "outputs": [],
   "source": [
    "os.chdir(\"../\")"
   ]
  },
  {
   "cell_type": "code",
   "execution_count": 9,
   "id": "127a5491",
   "metadata": {},
   "outputs": [
    {
     "data": {
      "text/plain": [
       "'C:\\\\Users'"
      ]
     },
     "execution_count": 9,
     "metadata": {},
     "output_type": "execute_result"
    }
   ],
   "source": [
    "os.getcwd()"
   ]
  },
  {
   "cell_type": "code",
   "execution_count": 10,
   "id": "bcea9860",
   "metadata": {},
   "outputs": [],
   "source": [
    "os.chdir(\"doeon/practice\")"
   ]
  },
  {
   "cell_type": "code",
   "execution_count": 11,
   "id": "43b41ece",
   "metadata": {},
   "outputs": [
    {
     "data": {
      "text/plain": [
       "'C:\\\\Users\\\\doeon\\\\practice'"
      ]
     },
     "execution_count": 11,
     "metadata": {},
     "output_type": "execute_result"
    }
   ],
   "source": [
    "os.getcwd()"
   ]
  },
  {
   "cell_type": "code",
   "execution_count": 12,
   "id": "58dd926b",
   "metadata": {},
   "outputs": [],
   "source": [
    "os.chdir(\"../\")"
   ]
  },
  {
   "cell_type": "code",
   "execution_count": 13,
   "id": "481e561e",
   "metadata": {},
   "outputs": [
    {
     "ename": "FileNotFoundError",
     "evalue": "[Errno 2] No such file or directory: 'file_example.txt'",
     "output_type": "error",
     "traceback": [
      "\u001b[1;31m---------------------------------------------------------------------------\u001b[0m",
      "\u001b[1;31mFileNotFoundError\u001b[0m                         Traceback (most recent call last)",
      "Cell \u001b[1;32mIn[13], line 1\u001b[0m\n\u001b[1;32m----> 1\u001b[0m file \u001b[38;5;241m=\u001b[39m \u001b[38;5;28;43mopen\u001b[39;49m\u001b[43m(\u001b[49m\u001b[38;5;124;43m\"\u001b[39;49m\u001b[38;5;124;43mfile_example.txt\u001b[39;49m\u001b[38;5;124;43m\"\u001b[39;49m\u001b[43m,\u001b[49m\u001b[43m \u001b[49m\u001b[38;5;124;43m\"\u001b[39;49m\u001b[38;5;124;43mr\u001b[39;49m\u001b[38;5;124;43m\"\u001b[39;49m\u001b[43m)\u001b[49m\n\u001b[0;32m      2\u001b[0m contents \u001b[38;5;241m=\u001b[39m file\u001b[38;5;241m.\u001b[39mread()\n\u001b[0;32m      3\u001b[0m file\u001b[38;5;241m.\u001b[39mclose()\n",
      "File \u001b[1;32m~\\AppData\\Local\\Programs\\Python\\Python311\\Lib\\site-packages\\IPython\\core\\interactiveshell.py:282\u001b[0m, in \u001b[0;36m_modified_open\u001b[1;34m(file, *args, **kwargs)\u001b[0m\n\u001b[0;32m    275\u001b[0m \u001b[38;5;28;01mif\u001b[39;00m file \u001b[38;5;129;01min\u001b[39;00m {\u001b[38;5;241m0\u001b[39m, \u001b[38;5;241m1\u001b[39m, \u001b[38;5;241m2\u001b[39m}:\n\u001b[0;32m    276\u001b[0m     \u001b[38;5;28;01mraise\u001b[39;00m \u001b[38;5;167;01mValueError\u001b[39;00m(\n\u001b[0;32m    277\u001b[0m         \u001b[38;5;124mf\u001b[39m\u001b[38;5;124m\"\u001b[39m\u001b[38;5;124mIPython won\u001b[39m\u001b[38;5;124m'\u001b[39m\u001b[38;5;124mt let you open fd=\u001b[39m\u001b[38;5;132;01m{\u001b[39;00mfile\u001b[38;5;132;01m}\u001b[39;00m\u001b[38;5;124m by default \u001b[39m\u001b[38;5;124m\"\u001b[39m\n\u001b[0;32m    278\u001b[0m         \u001b[38;5;124m\"\u001b[39m\u001b[38;5;124mas it is likely to crash IPython. If you know what you are doing, \u001b[39m\u001b[38;5;124m\"\u001b[39m\n\u001b[0;32m    279\u001b[0m         \u001b[38;5;124m\"\u001b[39m\u001b[38;5;124myou can use builtins\u001b[39m\u001b[38;5;124m'\u001b[39m\u001b[38;5;124m open.\u001b[39m\u001b[38;5;124m\"\u001b[39m\n\u001b[0;32m    280\u001b[0m     )\n\u001b[1;32m--> 282\u001b[0m \u001b[38;5;28;01mreturn\u001b[39;00m \u001b[43mio_open\u001b[49m\u001b[43m(\u001b[49m\u001b[43mfile\u001b[49m\u001b[43m,\u001b[49m\u001b[43m \u001b[49m\u001b[38;5;241;43m*\u001b[39;49m\u001b[43margs\u001b[49m\u001b[43m,\u001b[49m\u001b[43m \u001b[49m\u001b[38;5;241;43m*\u001b[39;49m\u001b[38;5;241;43m*\u001b[39;49m\u001b[43mkwargs\u001b[49m\u001b[43m)\u001b[49m\n",
      "\u001b[1;31mFileNotFoundError\u001b[0m: [Errno 2] No such file or directory: 'file_example.txt'"
     ]
    }
   ],
   "source": [
    "file = open(\"file_example.txt\", \"r\")\n",
    "contents = file.read()\n",
    "file.close()\n",
    "print(contents)"
   ]
  },
  {
   "cell_type": "code",
   "execution_count": 14,
   "id": "532ad5b5",
   "metadata": {},
   "outputs": [
    {
     "name": "stdout",
     "output_type": "stream",
     "text": [
      "First line of text\n",
      "Second line of text\n",
      "Third line of text\n"
     ]
    }
   ],
   "source": [
    "file = open(\"practice/file_example.txt\", \"r\")\n",
    "contents = file.read()\n",
    "file.close()\n",
    "print(contents)"
   ]
  },
  {
   "cell_type": "code",
   "execution_count": 15,
   "id": "83f6d856",
   "metadata": {},
   "outputs": [],
   "source": [
    "os.chdir(\"practice\")"
   ]
  },
  {
   "cell_type": "code",
   "execution_count": 17,
   "id": "352969cd",
   "metadata": {},
   "outputs": [
    {
     "name": "stdout",
     "output_type": "stream",
     "text": [
      "First line\n"
     ]
    }
   ],
   "source": [
    "with open(\"file_example.txt\", \"r\") as file:\n",
    "    contents = file.read(10) # Read 10 characters from the current cursor location, the file cursor moves to the 11-th character\n",
    "print(contents)"
   ]
  },
  {
   "cell_type": "markdown",
   "id": "bfb2414a",
   "metadata": {},
   "source": [
    "If you want to read what you have already read agian, close and open the file again\n",
    "\n",
    "File cursors는 후퇴하지 않는다. 다시 뒤로 돌아가지 않기 때문에,\n",
    "전진만 하기 때문에 이미 파일 커서가 지나친 곳을 다시 읽고 싶으면 닫았다가 다시 열어야 한다."
   ]
  },
  {
   "cell_type": "markdown",
   "id": "3f3bd476",
   "metadata": {},
   "source": [
    "when you want to make a list of strings containing individual lines\n",
    " - lines = file.readlines()\n",
    " - ex ; ['First.\\n', 'Second.\\n]\n",
    " - output contains whitespace characters. To remove them, strip method: lines.strip()\n",
    " - Now that we have a list of strings, we can do reversed(items) or sorted(lines)"
   ]
  },
  {
   "cell_type": "code",
   "execution_count": 18,
   "id": "615d8c87",
   "metadata": {},
   "outputs": [],
   "source": [
    "with open(\"file_example.txt\", \"r\") as file:\n",
    "    line = file.readline()\n",
    "# single line을 읽고 싶을 때 lines 에서 s를 빼면 된다."
   ]
  },
  {
   "cell_type": "code",
   "execution_count": 19,
   "id": "63304073",
   "metadata": {},
   "outputs": [
    {
     "ename": "SyntaxError",
     "evalue": "incomplete input (2818081058.py, line 4)",
     "output_type": "error",
     "traceback": [
      "\u001b[1;36m  Cell \u001b[1;32mIn[19], line 4\u001b[1;36m\u001b[0m\n\u001b[1;33m    # variable에 mapping 되는 것 : each line, 줄을 하나씩 바꾸면서 라인 별로 맵핑되는 특징이 있다.\u001b[0m\n\u001b[1;37m                                                                        ^\u001b[0m\n\u001b[1;31mSyntaxError\u001b[0m\u001b[1;31m:\u001b[0m incomplete input\n"
     ]
    }
   ],
   "source": [
    "# repeat something for every line\n",
    "with open(\"file_example.txt\", 'r') as file:\n",
    "    for line in file:\n",
    "        # variable에 mapping 되는 것 : each line, 줄을 하나씩 바꾸면서 라인 별로 맵핑되는 특징이 있다."
   ]
  },
  {
   "cell_type": "code",
   "execution_count": 25,
   "id": "5223fd69",
   "metadata": {},
   "outputs": [
    {
     "name": "stdout",
     "output_type": "stream",
     "text": [
      "Coloured fox fur production, HOPEDALE, Labrador,, 1834-1925\n",
      "#Source: C. Elton (1942) \"Voles, Mice and Lemmings\", Oxford Univ. Press\n",
      "#Table 17, p.265--266\n",
      "22\n",
      "29\n",
      "2\n",
      "16\n",
      "12\n",
      "35\n",
      "8\n",
      "83\n",
      "166\n",
      "62\n",
      "77\n",
      "42\n",
      "54\n",
      "56\n",
      "5\n",
      "9\n",
      "78\n",
      "151\n",
      "27\n",
      "14\n",
      "71\n",
      "261\n",
      "22\n",
      "3\n",
      "16\n",
      "70\n",
      "7\n",
      "2\n",
      "26\n",
      "27\n",
      "35\n",
      "9\n",
      "11\n",
      "73\n",
      "39\n",
      "22\n",
      "41\n",
      "31\n",
      "60\n",
      "7\n",
      "28\n",
      "43\n",
      "17\n",
      "26\n",
      "35\n",
      "60\n",
      "75\n",
      "18\n",
      "58\n",
      "38\n",
      "28\n",
      "26\n",
      "29\n",
      "43\n",
      "16\n",
      "40\n",
      "25\n",
      "28\n",
      "12\n",
      "22\n",
      "13\n",
      "52\n",
      "90\n",
      "103\n",
      "15\n",
      "26\n",
      "29\n",
      "102\n",
      "31\n",
      "9\n",
      "33\n",
      "90\n",
      "95\n",
      "17\n",
      "35\n",
      "59\n",
      "115\n",
      "12\n",
      "26\n",
      "38\n",
      "202\n",
      "25\n",
      "83\n",
      "92\n",
      "58\n",
      "0\n",
      "19\n",
      "63\n",
      "108\n",
      "25\n",
      "38\n",
      "231\n"
     ]
    }
   ],
   "source": [
    "import urllib.request\n",
    "url = \"https://robjhyndman.com/tsdldata/ecology1/hopedale.dat\"\n",
    "with urllib.request.urlopen(url) as file:\n",
    "    for line in file:\n",
    "        line = line.strip() # 빈칸을 지운다.\n",
    "        line = line.decode(\"utf-8\") # 인터넷에서 읽어온 파일은 text file이라 가정하고 가져올 수 없음.\n",
    "        # Python's read or readline methods return a 'bytes' type, instead of string\n",
    "        # We need to decode bytes type to use it as string\n",
    "        print(line)"
   ]
  },
  {
   "cell_type": "markdown",
   "id": "ed8824b0",
   "metadata": {},
   "source": [
    "Bit\n",
    " - to a computer, information is nothing but bits 0 or 1\n",
    " - all data are represented as sequences of bits\n",
    " - binary digit is abbreviated as 'bit' "
   ]
  },
  {
   "cell_type": "markdown",
   "id": "23453a19",
   "metadata": {},
   "source": [
    "Byte\n",
    " - A larger unit of data - 8bit\n",
    " - Programming  languages interpret bytes for users to think them as integers, strings, functions, and documents etc.\n",
    " - Since Byte is the fundamental data unit, regardless of data types, Python reads information on a webpage as Bytes"
   ]
  },
  {
   "cell_type": "code",
   "execution_count": 26,
   "id": "05bb87ac",
   "metadata": {},
   "outputs": [],
   "source": [
    "# Writing Files\n",
    "with open(\"file_example.txt\", \"w\") as output_file:\n",
    "    output_file.write(\"programming for Data Science\")"
   ]
  },
  {
   "cell_type": "code",
   "execution_count": 27,
   "id": "43ebffc6",
   "metadata": {},
   "outputs": [],
   "source": [
    "# File cursors는 좌측 최상단으로 가있고, 그 전에 써져있는 파일은 무시되고 새로 쓰게 됨."
   ]
  },
  {
   "cell_type": "code",
   "execution_count": 32,
   "id": "c83dcdd7",
   "metadata": {},
   "outputs": [],
   "source": [
    "# Appending Files\n",
    "with open(\"file_example.txt\", \"a\") as output_file:\n",
    "    output_file.write(\" Is fun\\n..?\")"
   ]
  },
  {
   "cell_type": "code",
   "execution_count": 33,
   "id": "f4bf02da",
   "metadata": {},
   "outputs": [],
   "source": [
    "# We need to manually add \"\\n\" to change the line"
   ]
  },
  {
   "cell_type": "code",
   "execution_count": null,
   "id": "4c012433",
   "metadata": {},
   "outputs": [],
   "source": [
    "# Reading and Writing Together\n",
    "with open('file_input.txt', 'r') as input_file, open('file_output.txt', 'w') as output_file:\n",
    "    <<read input_file, do something, and write to output_file>>"
   ]
  }
 ],
 "metadata": {
  "kernelspec": {
   "display_name": "Python 3 (ipykernel)",
   "language": "python",
   "name": "python3"
  },
  "language_info": {
   "codemirror_mode": {
    "name": "ipython",
    "version": 3
   },
   "file_extension": ".py",
   "mimetype": "text/x-python",
   "name": "python",
   "nbconvert_exporter": "python",
   "pygments_lexer": "ipython3",
   "version": "3.11.1"
  }
 },
 "nbformat": 4,
 "nbformat_minor": 5
}
