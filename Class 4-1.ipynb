{
 "cells": [
  {
   "cell_type": "markdown",
   "id": "66a7dec4",
   "metadata": {},
   "source": [
    "Module\n",
    "A package of (reusalbe) variables and functions, grouped together in a single file\n",
    "\n",
    "Once you import a module, you can use all the functions and variables in the module\n",
    "import math"
   ]
  },
  {
   "cell_type": "code",
   "execution_count": 1,
   "id": "2459c50b",
   "metadata": {},
   "outputs": [],
   "source": [
    "import math"
   ]
  },
  {
   "cell_type": "markdown",
   "id": "3b50f601",
   "metadata": {},
   "source": [
    "Create a variable called math that refers to the math module object"
   ]
  },
  {
   "cell_type": "code",
   "execution_count": 2,
   "id": "6f1cfc79",
   "metadata": {},
   "outputs": [],
   "source": [
    "import math as my_math"
   ]
  },
  {
   "cell_type": "markdown",
   "id": "5c828666",
   "metadata": {},
   "source": [
    "global namespace에 나오는 이름이 my_math로 바뀌는 것"
   ]
  },
  {
   "cell_type": "code",
   "execution_count": 3,
   "id": "dc8a9eae",
   "metadata": {},
   "outputs": [
    {
     "data": {
      "text/plain": [
       "<module 'math' (built-in)>"
      ]
     },
     "execution_count": 3,
     "metadata": {},
     "output_type": "execute_result"
    }
   ],
   "source": [
    "math"
   ]
  },
  {
   "cell_type": "markdown",
   "id": "09cfd47d",
   "metadata": {},
   "source": [
    "math.xxxx"
   ]
  },
  {
   "cell_type": "code",
   "execution_count": 2,
   "id": "06dd6b8a",
   "metadata": {},
   "outputs": [
    {
     "data": {
      "text/plain": [
       "3.141592653589793"
      ]
     },
     "execution_count": 2,
     "metadata": {},
     "output_type": "execute_result"
    }
   ],
   "source": [
    "math.pi"
   ]
  },
  {
   "cell_type": "code",
   "execution_count": 3,
   "id": "4eeb9a1f",
   "metadata": {},
   "outputs": [
    {
     "data": {
      "text/plain": [
       "3.0"
      ]
     },
     "execution_count": 3,
     "metadata": {},
     "output_type": "execute_result"
    }
   ],
   "source": [
    "math.sqrt(9)"
   ]
  },
  {
   "cell_type": "code",
   "execution_count": 4,
   "id": "4daa4327",
   "metadata": {},
   "outputs": [
    {
     "ename": "NameError",
     "evalue": "name 'pi' is not defined",
     "output_type": "error",
     "traceback": [
      "\u001b[1;31m---------------------------------------------------------------------------\u001b[0m",
      "\u001b[1;31mNameError\u001b[0m                                 Traceback (most recent call last)",
      "Cell \u001b[1;32mIn[4], line 1\u001b[0m\n\u001b[1;32m----> 1\u001b[0m \u001b[43mpi\u001b[49m\n",
      "\u001b[1;31mNameError\u001b[0m: name 'pi' is not defined"
     ]
    }
   ],
   "source": [
    "pi"
   ]
  },
  {
   "cell_type": "code",
   "execution_count": 5,
   "id": "356595ce",
   "metadata": {},
   "outputs": [
    {
     "ename": "NameError",
     "evalue": "name 'sqrt' is not defined",
     "output_type": "error",
     "traceback": [
      "\u001b[1;31m---------------------------------------------------------------------------\u001b[0m",
      "\u001b[1;31mNameError\u001b[0m                                 Traceback (most recent call last)",
      "Cell \u001b[1;32mIn[5], line 1\u001b[0m\n\u001b[1;32m----> 1\u001b[0m \u001b[43msqrt\u001b[49m\n",
      "\u001b[1;31mNameError\u001b[0m: name 'sqrt' is not defined"
     ]
    }
   ],
   "source": [
    "sqrt"
   ]
  },
  {
   "cell_type": "markdown",
   "id": "64a32f79",
   "metadata": {},
   "source": [
    "Dot is an operator like + and *\n",
    "A.B\n",
    "step 1. Look up the object that the variable A refers to\n",
    "step 2. In that object, find the name B"
   ]
  },
  {
   "cell_type": "code",
   "execution_count": 7,
   "id": "ea5e2356",
   "metadata": {},
   "outputs": [],
   "source": [
    "from math import sqrt, pi"
   ]
  },
  {
   "cell_type": "markdown",
   "id": "ae90d607",
   "metadata": {},
   "source": [
    "위와 같이 하면 global namespace에 직접 sqrt, pi가 불려온다. math.pi, math.sqrt처럼 할 필요가 없어진다."
   ]
  },
  {
   "cell_type": "code",
   "execution_count": 8,
   "id": "0f67e0fa",
   "metadata": {},
   "outputs": [
    {
     "data": {
      "text/plain": [
       "3.141592653589793"
      ]
     },
     "execution_count": 8,
     "metadata": {},
     "output_type": "execute_result"
    }
   ],
   "source": [
    "pi"
   ]
  },
  {
   "cell_type": "code",
   "execution_count": 9,
   "id": "13e2b59b",
   "metadata": {},
   "outputs": [
    {
     "data": {
      "text/plain": [
       "3.141592653589793"
      ]
     },
     "execution_count": 9,
     "metadata": {},
     "output_type": "execute_result"
    }
   ],
   "source": [
    "math.pi"
   ]
  },
  {
   "cell_type": "code",
   "execution_count": 10,
   "id": "66fbc909",
   "metadata": {},
   "outputs": [],
   "source": [
    "from math import *"
   ]
  },
  {
   "cell_type": "markdown",
   "id": "7f6d0160",
   "metadata": {},
   "source": [
    "But this is not a good idea.\n",
    "Python library contains several hndereds modules\n",
    "Multiple modules might have functions or variables having same name\n",
    "\n",
    "Error가 발생했을 때 어디서 발생했는지 알기 어려울 수 있음.\n",
    "reassignment가 어떻게, 왜 발생했는지..\n",
    "\n",
    "Python은 Constant가 아니라 Variable로 저장한다.\n",
    "Variable을 실수로 바꿀 수 있음.\n",
    "math.pi = -1.5 와 같은 자유가 있지만, 그렇게 하지 않는 것을 강하게 추천"
   ]
  },
  {
   "cell_type": "markdown",
   "id": "e327f554",
   "metadata": {},
   "source": [
    "Memory 관점에서는 import 할 때 \n",
    "Entire module와 specific function / variable 은 동일하다.\n",
    "memory saving은 불가능. 모두 memory에 load됨."
   ]
  },
  {
   "cell_type": "markdown",
   "id": "f4ab3289",
   "metadata": {},
   "source": [
    "Namespace 관점에서는 module을 import할 때 \n",
    "Entire module과 specific function은 다르다.\n",
    "reassignment로 인한 Error 발생을 고려해서 specific function만 import하기를 권함."
   ]
  },
  {
   "cell_type": "code",
   "execution_count": 14,
   "id": "6274d1ce",
   "metadata": {},
   "outputs": [],
   "source": [
    "import temperature"
   ]
  },
  {
   "cell_type": "code",
   "execution_count": 16,
   "id": "4fada9c7",
   "metadata": {},
   "outputs": [
    {
     "data": {
      "text/plain": [
       "<module 'temperature' from 'C:\\\\Users\\\\doeon\\\\temperature.py'>"
      ]
     },
     "execution_count": 16,
     "metadata": {},
     "output_type": "execute_result"
    }
   ],
   "source": [
    "temperature # not built-in module"
   ]
  },
  {
   "cell_type": "code",
   "execution_count": 17,
   "id": "60ec117b",
   "metadata": {},
   "outputs": [
    {
     "data": {
      "text/plain": [
       "5.0"
      ]
     },
     "execution_count": 17,
     "metadata": {},
     "output_type": "execute_result"
    }
   ],
   "source": [
    "temperature.a"
   ]
  },
  {
   "cell_type": "code",
   "execution_count": 18,
   "id": "afea72f6",
   "metadata": {},
   "outputs": [
    {
     "data": {
      "text/plain": [
       "32.0"
      ]
     },
     "execution_count": 18,
     "metadata": {},
     "output_type": "execute_result"
    }
   ],
   "source": [
    "temperature.c"
   ]
  },
  {
   "cell_type": "code",
   "execution_count": 19,
   "id": "512396f0",
   "metadata": {},
   "outputs": [
    {
     "data": {
      "text/plain": [
       "32.22222222222222"
      ]
     },
     "execution_count": 19,
     "metadata": {},
     "output_type": "execute_result"
    }
   ],
   "source": [
    "temperature.convert_to_celsius(90)"
   ]
  },
  {
   "cell_type": "code",
   "execution_count": null,
   "id": "8619d409",
   "metadata": {},
   "outputs": [],
   "source": []
  }
 ],
 "metadata": {
  "kernelspec": {
   "display_name": "Python 3 (ipykernel)",
   "language": "python",
   "name": "python3"
  },
  "language_info": {
   "codemirror_mode": {
    "name": "ipython",
    "version": 3
   },
   "file_extension": ".py",
   "mimetype": "text/x-python",
   "name": "python",
   "nbconvert_exporter": "python",
   "pygments_lexer": "ipython3",
   "version": "3.11.1"
  }
 },
 "nbformat": 4,
 "nbformat_minor": 5
}
