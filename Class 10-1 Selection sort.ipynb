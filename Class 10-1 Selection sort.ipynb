{
 "cells": [
  {
   "cell_type": "markdown",
   "id": "e23276ab",
   "metadata": {},
   "source": [
    "Selection Sort\n",
    "\n",
    "Find the minimum value of the unsorted list and swap it with the leftmost entry\n",
    "\n",
    "def selection_sort(L:list) -> None:\n",
    "    for i range(len(L)):\n",
    "        # Find the index of the smallest item in L[i:]: samllest\n",
    "        smallest = find_min(L, i)\n",
    "        L[i], L[smallest] = L[smallest], L[i] #swap\n",
    "        \n",
    "        # 아래와 같이 slice를 parameter로 넣으면, copy가 생겨서 memory를 더 쓰게 된다.\n",
    "          또한 slice를 넣으면 i의 존재가 없어지고, 0부터 시작하게 된다.\n",
    "          전체에서는 5번째라도 내부에선 0번쨰. 그래서 i를 마지막에 더해줘야 하는 문제가 생긴다.\n",
    "        min_sub_list = min(L[i:len(L)-1])\n",
    "        min_index = min_sub_list.index()\n",
    "        list[i], list[min_index] = list[min_index], list[i]"
   ]
  },
  {
   "cell_type": "markdown",
   "id": "d748f6c6",
   "metadata": {},
   "source": [
    "def find_min(L:list, start_idx: int) -> int:\n",
    "    smallest = start_idx # (1) Initialize smallest\n",
    "    for i in range(start_idx+1, len(L)): # (2) Update samllest \n",
    "        if L[i] < L[smallest]:\n",
    "            smallest = i\n",
    "        return smallest # (3) return\n",
    "\n",
    "def selection_sort(L:list) -> None:\n",
    "    for i range(len(L)):\n",
    "        # Find the index of the smallest item in L[i:]: samllest\n",
    "        smallest = find_min(L, i)\n",
    "        L[i], L[smallest] = L[smallest], L[i] #swap\n"
   ]
  },
  {
   "cell_type": "code",
   "execution_count": 4,
   "id": "992f6552",
   "metadata": {},
   "outputs": [],
   "source": [
    "def selection_sort(L:list) -> None:\n",
    "    for i in range(len(L)):\n",
    "        # Find the index of the smallest item in L[i:]: samllest\n",
    "        smallest = i\n",
    "        for j in range(i+1, len(L)):\n",
    "            if L[j] < L[smallest]:\n",
    "                smallest = j\n",
    "        L[i], L[smallest] = L[smallest], L[i] #swap"
   ]
  },
  {
   "cell_type": "code",
   "execution_count": 7,
   "id": "7c0adc3a",
   "metadata": {},
   "outputs": [],
   "source": [
    "A = [3, 2, -1 , 5, -7, 230401023, -172727, 29292]"
   ]
  },
  {
   "cell_type": "code",
   "execution_count": 8,
   "id": "e1214442",
   "metadata": {},
   "outputs": [],
   "source": [
    "selection_sort(A)"
   ]
  },
  {
   "cell_type": "code",
   "execution_count": 9,
   "id": "cadc2ed6",
   "metadata": {},
   "outputs": [
    {
     "data": {
      "text/plain": [
       "[-172727, -7, -1, 2, 3, 5, 29292, 230401023]"
      ]
     },
     "execution_count": 9,
     "metadata": {},
     "output_type": "execute_result"
    }
   ],
   "source": [
    "A"
   ]
  },
  {
   "cell_type": "code",
   "execution_count": 10,
   "id": "3236bf71",
   "metadata": {},
   "outputs": [
    {
     "data": {
      "text/plain": [
       "8"
      ]
     },
     "execution_count": 10,
     "metadata": {},
     "output_type": "execute_result"
    }
   ],
   "source": [
    "len(A)"
   ]
  },
  {
   "cell_type": "code",
   "execution_count": 12,
   "id": "9787707c",
   "metadata": {},
   "outputs": [
    {
     "data": {
      "text/plain": [
       "[]"
      ]
     },
     "execution_count": 12,
     "metadata": {},
     "output_type": "execute_result"
    }
   ],
   "source": [
    "A[8:] # For,if 문에 들어가면 False, 참이 아니기 때문에 반복,조건문이 실행되지 않는다."
   ]
  },
  {
   "cell_type": "markdown",
   "id": "ab1bfb45",
   "metadata": {},
   "source": [
    "#Time Complexity\n",
    "At i-th iteration, its inner loop func find_min needs to look up (N+1-i) items # N-i 아닌가?\n",
    "when N = len(L)\n",
    "\n",
    "찾아야 하는 갯수 ; N + (N-1) + ... + 2 + 1 = N*(N+1)/2 \n",
    "따라서 N^2에 비례하기 때문에 (linear) search 보다 sort하는 게 더 오래 걸린다."
   ]
  }
 ],
 "metadata": {
  "kernelspec": {
   "display_name": "Python 3 (ipykernel)",
   "language": "python",
   "name": "python3"
  },
  "language_info": {
   "codemirror_mode": {
    "name": "ipython",
    "version": 3
   },
   "file_extension": ".py",
   "mimetype": "text/x-python",
   "name": "python",
   "nbconvert_exporter": "python",
   "pygments_lexer": "ipython3",
   "version": "3.11.1"
  }
 },
 "nbformat": 4,
 "nbformat_minor": 5
}
