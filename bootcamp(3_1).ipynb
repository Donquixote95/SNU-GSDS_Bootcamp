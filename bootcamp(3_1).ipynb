{
 "cells": [
  {
   "cell_type": "code",
   "execution_count": 2,
   "id": "356d8cce",
   "metadata": {},
   "outputs": [
    {
     "data": {
      "text/plain": [
       "'Programming Foundations'"
      ]
     },
     "execution_count": 2,
     "metadata": {},
     "output_type": "execute_result"
    }
   ],
   "source": [
    "\"Programming Foundations\""
   ]
  },
  {
   "cell_type": "code",
   "execution_count": 3,
   "id": "44464c3a",
   "metadata": {},
   "outputs": [
    {
     "data": {
      "text/plain": [
       "19"
      ]
     },
     "execution_count": 3,
     "metadata": {},
     "output_type": "execute_result"
    }
   ],
   "source": [
    "19"
   ]
  },
  {
   "cell_type": "code",
   "execution_count": 4,
   "id": "f1d4e5b7",
   "metadata": {},
   "outputs": [
    {
     "data": {
      "text/plain": [
       "'19'"
      ]
     },
     "execution_count": 4,
     "metadata": {},
     "output_type": "execute_result"
    }
   ],
   "source": [
    "\"19\""
   ]
  },
  {
   "cell_type": "code",
   "execution_count": 5,
   "id": "21791061",
   "metadata": {},
   "outputs": [
    {
     "data": {
      "text/plain": [
       "str"
      ]
     },
     "execution_count": 5,
     "metadata": {},
     "output_type": "execute_result"
    }
   ],
   "source": [
    "type(\"19\")"
   ]
  },
  {
   "cell_type": "code",
   "execution_count": 6,
   "id": "ed868e10",
   "metadata": {},
   "outputs": [
    {
     "data": {
      "text/plain": [
       "int"
      ]
     },
     "execution_count": 6,
     "metadata": {},
     "output_type": "execute_result"
    }
   ],
   "source": [
    "type(19)"
   ]
  },
  {
   "cell_type": "code",
   "execution_count": 7,
   "id": "ba0ce030",
   "metadata": {},
   "outputs": [
    {
     "data": {
      "text/plain": [
       "2"
      ]
     },
     "execution_count": 7,
     "metadata": {},
     "output_type": "execute_result"
    }
   ],
   "source": [
    "len(\"19\")"
   ]
  },
  {
   "cell_type": "code",
   "execution_count": 9,
   "id": "c4eaf088",
   "metadata": {},
   "outputs": [
    {
     "data": {
      "text/plain": [
       "13"
      ]
     },
     "execution_count": 9,
     "metadata": {},
     "output_type": "execute_result"
    }
   ],
   "source": [
    "len(\"Hyung-sin Kim\")"
   ]
  },
  {
   "cell_type": "code",
   "execution_count": 10,
   "id": "c4d63f4f",
   "metadata": {},
   "outputs": [
    {
     "data": {
      "text/plain": [
       "'1929'"
      ]
     },
     "execution_count": 10,
     "metadata": {},
     "output_type": "execute_result"
    }
   ],
   "source": [
    "\"19\" + \"29\""
   ]
  },
  {
   "cell_type": "code",
   "execution_count": 11,
   "id": "8895f8b1",
   "metadata": {},
   "outputs": [
    {
     "data": {
      "text/plain": [
       "48"
      ]
     },
     "execution_count": 11,
     "metadata": {},
     "output_type": "execute_result"
    }
   ],
   "source": [
    "19+29"
   ]
  },
  {
   "cell_type": "code",
   "execution_count": 13,
   "id": "30058605",
   "metadata": {},
   "outputs": [
    {
     "data": {
      "text/plain": [
       "\"I don't like COVID-19\""
      ]
     },
     "execution_count": 13,
     "metadata": {},
     "output_type": "execute_result"
    }
   ],
   "source": [
    "\"I\" + \" \" + \"don'\" + \"t\" + \" \" +\"like\" + \" \" + \"COVID\"+\"-\"+\"19\""
   ]
  },
  {
   "cell_type": "code",
   "execution_count": 14,
   "id": "18ae9750",
   "metadata": {},
   "outputs": [
    {
     "data": {
      "text/plain": [
       "'(--)(__)(--)(__)(--)(__)(--)(__)(--)(__)(--)(__)(--)(__)(--)(__)(--)(__)(--)(__)'"
      ]
     },
     "execution_count": 14,
     "metadata": {},
     "output_type": "execute_result"
    }
   ],
   "source": [
    "\"(--)(__)\" *10"
   ]
  },
  {
   "cell_type": "code",
   "execution_count": 18,
   "id": "d7e9fce8",
   "metadata": {},
   "outputs": [
    {
     "data": {
      "text/plain": [
       "'(__)(--)(__)(--)(__)(--)(__)(--)(__)(--)'"
      ]
     },
     "execution_count": 18,
     "metadata": {},
     "output_type": "execute_result"
    }
   ],
   "source": [
    "((\"(__)\" + \"(--)\")) * 5"
   ]
  },
  {
   "cell_type": "code",
   "execution_count": 19,
   "id": "cdd5cfda",
   "metadata": {},
   "outputs": [
    {
     "data": {
      "text/plain": [
       "1"
      ]
     },
     "execution_count": 19,
     "metadata": {},
     "output_type": "execute_result"
    }
   ],
   "source": [
    "int(\"1\")"
   ]
  },
  {
   "cell_type": "code",
   "execution_count": 20,
   "id": "f7091c6f",
   "metadata": {},
   "outputs": [
    {
     "data": {
      "text/plain": [
       "1"
      ]
     },
     "execution_count": 20,
     "metadata": {},
     "output_type": "execute_result"
    }
   ],
   "source": [
    "1"
   ]
  },
  {
   "cell_type": "code",
   "execution_count": 21,
   "id": "8df530fa",
   "metadata": {},
   "outputs": [
    {
     "data": {
      "text/plain": [
       "'1'"
      ]
     },
     "execution_count": 21,
     "metadata": {},
     "output_type": "execute_result"
    }
   ],
   "source": [
    "\"1\""
   ]
  },
  {
   "cell_type": "code",
   "execution_count": 22,
   "id": "23226606",
   "metadata": {},
   "outputs": [
    {
     "data": {
      "text/plain": [
       "'11'"
      ]
     },
     "execution_count": 22,
     "metadata": {},
     "output_type": "execute_result"
    }
   ],
   "source": [
    "\"1\" + \"1\""
   ]
  },
  {
   "cell_type": "code",
   "execution_count": 24,
   "id": "1516073d",
   "metadata": {},
   "outputs": [
    {
     "data": {
      "text/plain": [
       "2"
      ]
     },
     "execution_count": 24,
     "metadata": {},
     "output_type": "execute_result"
    }
   ],
   "source": [
    "int(\"1\") + int(\"1\")"
   ]
  },
  {
   "cell_type": "code",
   "execution_count": 25,
   "id": "e02f139d",
   "metadata": {},
   "outputs": [
    {
     "data": {
      "text/plain": [
       "'55'"
      ]
     },
     "execution_count": 25,
     "metadata": {},
     "output_type": "execute_result"
    }
   ],
   "source": [
    "str(5) + str(5)"
   ]
  },
  {
   "cell_type": "code",
   "execution_count": 26,
   "id": "cd418693",
   "metadata": {},
   "outputs": [],
   "source": [
    "my_name = \"Do-Eon Lim\""
   ]
  },
  {
   "cell_type": "code",
   "execution_count": 27,
   "id": "6697b337",
   "metadata": {},
   "outputs": [
    {
     "data": {
      "text/plain": [
       "'Do-Eon Lim'"
      ]
     },
     "execution_count": 27,
     "metadata": {},
     "output_type": "execute_result"
    }
   ],
   "source": [
    "my_name"
   ]
  },
  {
   "cell_type": "code",
   "execution_count": 28,
   "id": "62999b56",
   "metadata": {},
   "outputs": [
    {
     "data": {
      "text/plain": [
       "10"
      ]
     },
     "execution_count": 28,
     "metadata": {},
     "output_type": "execute_result"
    }
   ],
   "source": [
    "len(my_name)"
   ]
  },
  {
   "cell_type": "code",
   "execution_count": 29,
   "id": "393d2979",
   "metadata": {},
   "outputs": [
    {
     "data": {
      "text/plain": [
       "'Do-Eon LimDo-Eon Lim'"
      ]
     },
     "execution_count": 29,
     "metadata": {},
     "output_type": "execute_result"
    }
   ],
   "source": [
    "my_name*2"
   ]
  },
  {
   "cell_type": "code",
   "execution_count": 30,
   "id": "77ca19e1",
   "metadata": {},
   "outputs": [
    {
     "data": {
      "text/plain": [
       "\"I'm studying\""
      ]
     },
     "execution_count": 30,
     "metadata": {},
     "output_type": "execute_result"
    }
   ],
   "source": [
    "\"I'm studying\""
   ]
  },
  {
   "cell_type": "code",
   "execution_count": 32,
   "id": "74c59a92",
   "metadata": {},
   "outputs": [
    {
     "data": {
      "text/plain": [
       "'I said \"I\\'m studying\"'"
      ]
     },
     "execution_count": 32,
     "metadata": {},
     "output_type": "execute_result"
    }
   ],
   "source": [
    "\"I said \\\"I\\'m studying\\\"\""
   ]
  },
  {
   "cell_type": "markdown",
   "id": "a9e52238",
   "metadata": {},
   "source": [
    "\\\\ : Backslash\n",
    "\\t : Tab\n",
    "\\n : Newline\n",
    "\\r : Carriage return\n",
    "\\' : single quote\n",
    "\\\" : double quote"
   ]
  },
  {
   "cell_type": "code",
   "execution_count": 34,
   "id": "664551de",
   "metadata": {},
   "outputs": [
    {
     "name": "stdout",
     "output_type": "stream",
     "text": [
      "2\n"
     ]
    }
   ],
   "source": [
    " print(2)"
   ]
  },
  {
   "cell_type": "code",
   "execution_count": 36,
   "id": "45ed1f5b",
   "metadata": {},
   "outputs": [
    {
     "name": "stdout",
     "output_type": "stream",
     "text": [
      "I like this.\n"
     ]
    }
   ],
   "source": [
    "print(\"I like this.\")"
   ]
  },
  {
   "cell_type": "code",
   "execution_count": 38,
   "id": "fbf3b27f",
   "metadata": {},
   "outputs": [
    {
     "name": "stdout",
     "output_type": "stream",
     "text": [
      "1 2 3\n"
     ]
    }
   ],
   "source": [
    "print(1,2,3)"
   ]
  },
  {
   "cell_type": "code",
   "execution_count": 41,
   "id": "077d1acc",
   "metadata": {},
   "outputs": [
    {
     "name": "stdout",
     "output_type": "stream",
     "text": [
      "The diameter of the circle is 6 m.\n"
     ]
    }
   ],
   "source": [
    "radius = 3\n",
    "print(\"The diameter of the circle is\", radius *2, \"m.\")"
   ]
  },
  {
   "cell_type": "code",
   "execution_count": 43,
   "id": "f0a5992e",
   "metadata": {},
   "outputs": [
    {
     "name": "stdout",
     "output_type": "stream",
     "text": [
      "Name\tNationality\n",
      "Kim\tKorean\n",
      "Culler\tAmerican\n"
     ]
    }
   ],
   "source": [
    "print(\"Name\\tNationality\\nKim\\tKorean\\nCuller\\tAmerican\")"
   ]
  },
  {
   "cell_type": "code",
   "execution_count": 44,
   "id": "47ab869a",
   "metadata": {},
   "outputs": [
    {
     "name": "stdout",
     "output_type": "stream",
     "text": [
      "123%$mak\n"
     ]
    }
   ],
   "source": [
    "a = input()"
   ]
  },
  {
   "cell_type": "code",
   "execution_count": 45,
   "id": "8e9a2f2c",
   "metadata": {},
   "outputs": [
    {
     "data": {
      "text/plain": [
       "'123%$mak'"
      ]
     },
     "execution_count": 45,
     "metadata": {},
     "output_type": "execute_result"
    }
   ],
   "source": [
    "a"
   ]
  },
  {
   "cell_type": "code",
   "execution_count": 46,
   "id": "db888f14",
   "metadata": {},
   "outputs": [
    {
     "name": "stdout",
     "output_type": "stream",
     "text": [
      "Please enter your name: Do-Eon Lim\n"
     ]
    }
   ],
   "source": [
    "name = input(\"Please enter your name: \")"
   ]
  },
  {
   "cell_type": "code",
   "execution_count": 47,
   "id": "4fb42f83",
   "metadata": {},
   "outputs": [
    {
     "data": {
      "text/plain": [
       "'Do-Eon Lim'"
      ]
     },
     "execution_count": 47,
     "metadata": {},
     "output_type": "execute_result"
    }
   ],
   "source": [
    "name"
   ]
  },
  {
   "cell_type": "code",
   "execution_count": null,
   "id": "3a58e0c2",
   "metadata": {},
   "outputs": [],
   "source": []
  }
 ],
 "metadata": {
  "kernelspec": {
   "display_name": "Python 3 (ipykernel)",
   "language": "python",
   "name": "python3"
  },
  "language_info": {
   "codemirror_mode": {
    "name": "ipython",
    "version": 3
   },
   "file_extension": ".py",
   "mimetype": "text/x-python",
   "name": "python",
   "nbconvert_exporter": "python",
   "pygments_lexer": "ipython3",
   "version": "3.11.1"
  }
 },
 "nbformat": 4,
 "nbformat_minor": 5
}
