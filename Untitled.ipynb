{
 "cells": [
  {
   "cell_type": "code",
   "execution_count": 74,
   "id": "842d288e",
   "metadata": {},
   "outputs": [],
   "source": [
    "# 하노이 탑에서 필요한 요소를 모두 매개변수로 받는다.\n",
    "\n",
    "# (0) Memorization, initialization of global variables\n",
    "\n",
    "pillar_list = [\"pillar_s\", \"pillar_e\", \"pillar_a\"]\n",
    "memo = {}\n",
    "counter = 0\n",
    "\n",
    "# (1) 클래스 선언, initialization\n",
    "class HanoiTower:\n",
    "    def __init__(self, n : int, pillar_s : str, pillar_e : str, pillar_a : str) -> None:\n",
    "        self.n = n\n",
    "        self.pillar_s = pillar_s\n",
    "        self.pillar_e = pillar_e\n",
    "        self.pillar_a = pillar_a\n",
    "\n",
    "# (2) Method, initialization of local variables\n",
    "    def count(self) -> dict:\n",
    "        global memo # Final Result ; {key : n, value : HanoiTower(n).count()} \n",
    "        global counter # Result of value ; HanoiTower(n).count() \n",
    "        n = self.n # n is defined\n",
    "\n",
    "\n",
    "# (4) Algorithms ; Recursion\n",
    "        if n == 1:\n",
    "            counter += 1\n",
    "            print(\"From\", self.pillar_s, \"To\", self.pillar_e)\n",
    "            memo[n] = counter\n",
    "\n",
    "        else:\n",
    "            # (4-1) 아래의 원판을 제외하고, 시작 기둥에서 보조 기둥으로 이동\n",
    "            n -= 1\n",
    "            HanoiTower(n, self.pillar_s, self.pillar_a, self.pillar_e).count()\n",
    "            print(\"From\", self.pillar_s, \"To\", self.pillar_e)\n",
    "\n",
    "            # (4-2) 아래의 원판을 제외하고, 보조 기둥에서 대상 기둥으로 이동\n",
    "            n -= 1\n",
    "            HanoiTower(n, self.pillar_a, self.pillar_e, self.pillar_s).count()"
   ]
  },
  {
   "cell_type": "code",
   "execution_count": 75,
   "id": "6eaa2290",
   "metadata": {},
   "outputs": [
    {
     "name": "stdout",
     "output_type": "stream",
     "text": [
      "From A탑 To C탑\n",
      "From A탑 To B탑\n"
     ]
    },
    {
     "ename": "RecursionError",
     "evalue": "maximum recursion depth exceeded",
     "output_type": "error",
     "traceback": [
      "\u001b[1;31m---------------------------------------------------------------------------\u001b[0m",
      "\u001b[1;31mRecursionError\u001b[0m                            Traceback (most recent call last)",
      "Cell \u001b[1;32mIn[75], line 1\u001b[0m\n\u001b[1;32m----> 1\u001b[0m \u001b[43mHanoiTower\u001b[49m\u001b[43m(\u001b[49m\u001b[38;5;241;43m2\u001b[39;49m\u001b[43m,\u001b[49m\u001b[38;5;124;43m\"\u001b[39;49m\u001b[38;5;124;43mA탑\u001b[39;49m\u001b[38;5;124;43m\"\u001b[39;49m\u001b[43m,\u001b[49m\u001b[38;5;124;43m\"\u001b[39;49m\u001b[38;5;124;43mB탑\u001b[39;49m\u001b[38;5;124;43m\"\u001b[39;49m\u001b[43m,\u001b[49m\u001b[38;5;124;43m\"\u001b[39;49m\u001b[38;5;124;43mC탑\u001b[39;49m\u001b[38;5;124;43m\"\u001b[39;49m\u001b[43m)\u001b[49m\u001b[38;5;241;43m.\u001b[39;49m\u001b[43mcount\u001b[49m\u001b[43m(\u001b[49m\u001b[43m)\u001b[49m\n",
      "Cell \u001b[1;32mIn[74], line 38\u001b[0m, in \u001b[0;36mHanoiTower.count\u001b[1;34m(self)\u001b[0m\n\u001b[0;32m     36\u001b[0m \u001b[38;5;66;03m# (4-2) 아래의 원판을 제외하고, 보조 기둥에서 대상 기둥으로 이동\u001b[39;00m\n\u001b[0;32m     37\u001b[0m n \u001b[38;5;241m-\u001b[39m\u001b[38;5;241m=\u001b[39m \u001b[38;5;241m1\u001b[39m\n\u001b[1;32m---> 38\u001b[0m \u001b[43mHanoiTower\u001b[49m\u001b[43m(\u001b[49m\u001b[43mn\u001b[49m\u001b[43m,\u001b[49m\u001b[43m \u001b[49m\u001b[38;5;28;43mself\u001b[39;49m\u001b[38;5;241;43m.\u001b[39;49m\u001b[43mpillar_a\u001b[49m\u001b[43m,\u001b[49m\u001b[43m \u001b[49m\u001b[38;5;28;43mself\u001b[39;49m\u001b[38;5;241;43m.\u001b[39;49m\u001b[43mpillar_e\u001b[49m\u001b[43m,\u001b[49m\u001b[43m \u001b[49m\u001b[38;5;28;43mself\u001b[39;49m\u001b[38;5;241;43m.\u001b[39;49m\u001b[43mpillar_s\u001b[49m\u001b[43m)\u001b[49m\u001b[38;5;241;43m.\u001b[39;49m\u001b[43mcount\u001b[49m\u001b[43m(\u001b[49m\u001b[43m)\u001b[49m\n",
      "Cell \u001b[1;32mIn[74], line 33\u001b[0m, in \u001b[0;36mHanoiTower.count\u001b[1;34m(self)\u001b[0m\n\u001b[0;32m     30\u001b[0m \u001b[38;5;28;01melse\u001b[39;00m:\n\u001b[0;32m     31\u001b[0m     \u001b[38;5;66;03m# (4-1) 아래의 원판을 제외하고, 시작 기둥에서 보조 기둥으로 이동\u001b[39;00m\n\u001b[0;32m     32\u001b[0m     n \u001b[38;5;241m-\u001b[39m\u001b[38;5;241m=\u001b[39m \u001b[38;5;241m1\u001b[39m\n\u001b[1;32m---> 33\u001b[0m     \u001b[43mHanoiTower\u001b[49m\u001b[43m(\u001b[49m\u001b[43mn\u001b[49m\u001b[43m,\u001b[49m\u001b[43m \u001b[49m\u001b[38;5;28;43mself\u001b[39;49m\u001b[38;5;241;43m.\u001b[39;49m\u001b[43mpillar_s\u001b[49m\u001b[43m,\u001b[49m\u001b[43m \u001b[49m\u001b[38;5;28;43mself\u001b[39;49m\u001b[38;5;241;43m.\u001b[39;49m\u001b[43mpillar_a\u001b[49m\u001b[43m,\u001b[49m\u001b[43m \u001b[49m\u001b[38;5;28;43mself\u001b[39;49m\u001b[38;5;241;43m.\u001b[39;49m\u001b[43mpillar_e\u001b[49m\u001b[43m)\u001b[49m\u001b[38;5;241;43m.\u001b[39;49m\u001b[43mcount\u001b[49m\u001b[43m(\u001b[49m\u001b[43m)\u001b[49m\n\u001b[0;32m     34\u001b[0m     \u001b[38;5;28mprint\u001b[39m(\u001b[38;5;124m\"\u001b[39m\u001b[38;5;124mFrom\u001b[39m\u001b[38;5;124m\"\u001b[39m, \u001b[38;5;28mself\u001b[39m\u001b[38;5;241m.\u001b[39mpillar_s, \u001b[38;5;124m\"\u001b[39m\u001b[38;5;124mTo\u001b[39m\u001b[38;5;124m\"\u001b[39m, \u001b[38;5;28mself\u001b[39m\u001b[38;5;241m.\u001b[39mpillar_e)\n\u001b[0;32m     36\u001b[0m     \u001b[38;5;66;03m# (4-2) 아래의 원판을 제외하고, 보조 기둥에서 대상 기둥으로 이동\u001b[39;00m\n",
      "Cell \u001b[1;32mIn[74], line 33\u001b[0m, in \u001b[0;36mHanoiTower.count\u001b[1;34m(self)\u001b[0m\n\u001b[0;32m     30\u001b[0m \u001b[38;5;28;01melse\u001b[39;00m:\n\u001b[0;32m     31\u001b[0m     \u001b[38;5;66;03m# (4-1) 아래의 원판을 제외하고, 시작 기둥에서 보조 기둥으로 이동\u001b[39;00m\n\u001b[0;32m     32\u001b[0m     n \u001b[38;5;241m-\u001b[39m\u001b[38;5;241m=\u001b[39m \u001b[38;5;241m1\u001b[39m\n\u001b[1;32m---> 33\u001b[0m     \u001b[43mHanoiTower\u001b[49m\u001b[43m(\u001b[49m\u001b[43mn\u001b[49m\u001b[43m,\u001b[49m\u001b[43m \u001b[49m\u001b[38;5;28;43mself\u001b[39;49m\u001b[38;5;241;43m.\u001b[39;49m\u001b[43mpillar_s\u001b[49m\u001b[43m,\u001b[49m\u001b[43m \u001b[49m\u001b[38;5;28;43mself\u001b[39;49m\u001b[38;5;241;43m.\u001b[39;49m\u001b[43mpillar_a\u001b[49m\u001b[43m,\u001b[49m\u001b[43m \u001b[49m\u001b[38;5;28;43mself\u001b[39;49m\u001b[38;5;241;43m.\u001b[39;49m\u001b[43mpillar_e\u001b[49m\u001b[43m)\u001b[49m\u001b[38;5;241;43m.\u001b[39;49m\u001b[43mcount\u001b[49m\u001b[43m(\u001b[49m\u001b[43m)\u001b[49m\n\u001b[0;32m     34\u001b[0m     \u001b[38;5;28mprint\u001b[39m(\u001b[38;5;124m\"\u001b[39m\u001b[38;5;124mFrom\u001b[39m\u001b[38;5;124m\"\u001b[39m, \u001b[38;5;28mself\u001b[39m\u001b[38;5;241m.\u001b[39mpillar_s, \u001b[38;5;124m\"\u001b[39m\u001b[38;5;124mTo\u001b[39m\u001b[38;5;124m\"\u001b[39m, \u001b[38;5;28mself\u001b[39m\u001b[38;5;241m.\u001b[39mpillar_e)\n\u001b[0;32m     36\u001b[0m     \u001b[38;5;66;03m# (4-2) 아래의 원판을 제외하고, 보조 기둥에서 대상 기둥으로 이동\u001b[39;00m\n",
      "    \u001b[1;31m[... skipping similar frames: HanoiTower.count at line 33 (2969 times)]\u001b[0m\n",
      "Cell \u001b[1;32mIn[74], line 33\u001b[0m, in \u001b[0;36mHanoiTower.count\u001b[1;34m(self)\u001b[0m\n\u001b[0;32m     30\u001b[0m \u001b[38;5;28;01melse\u001b[39;00m:\n\u001b[0;32m     31\u001b[0m     \u001b[38;5;66;03m# (4-1) 아래의 원판을 제외하고, 시작 기둥에서 보조 기둥으로 이동\u001b[39;00m\n\u001b[0;32m     32\u001b[0m     n \u001b[38;5;241m-\u001b[39m\u001b[38;5;241m=\u001b[39m \u001b[38;5;241m1\u001b[39m\n\u001b[1;32m---> 33\u001b[0m     \u001b[43mHanoiTower\u001b[49m\u001b[43m(\u001b[49m\u001b[43mn\u001b[49m\u001b[43m,\u001b[49m\u001b[43m \u001b[49m\u001b[38;5;28;43mself\u001b[39;49m\u001b[38;5;241;43m.\u001b[39;49m\u001b[43mpillar_s\u001b[49m\u001b[43m,\u001b[49m\u001b[43m \u001b[49m\u001b[38;5;28;43mself\u001b[39;49m\u001b[38;5;241;43m.\u001b[39;49m\u001b[43mpillar_a\u001b[49m\u001b[43m,\u001b[49m\u001b[43m \u001b[49m\u001b[38;5;28;43mself\u001b[39;49m\u001b[38;5;241;43m.\u001b[39;49m\u001b[43mpillar_e\u001b[49m\u001b[43m)\u001b[49m\u001b[38;5;241m.\u001b[39mcount()\n\u001b[0;32m     34\u001b[0m     \u001b[38;5;28mprint\u001b[39m(\u001b[38;5;124m\"\u001b[39m\u001b[38;5;124mFrom\u001b[39m\u001b[38;5;124m\"\u001b[39m, \u001b[38;5;28mself\u001b[39m\u001b[38;5;241m.\u001b[39mpillar_s, \u001b[38;5;124m\"\u001b[39m\u001b[38;5;124mTo\u001b[39m\u001b[38;5;124m\"\u001b[39m, \u001b[38;5;28mself\u001b[39m\u001b[38;5;241m.\u001b[39mpillar_e)\n\u001b[0;32m     36\u001b[0m     \u001b[38;5;66;03m# (4-2) 아래의 원판을 제외하고, 보조 기둥에서 대상 기둥으로 이동\u001b[39;00m\n",
      "\u001b[1;31mRecursionError\u001b[0m: maximum recursion depth exceeded"
     ]
    }
   ],
   "source": [
    "HanoiTower(2,\"A탑\",\"B탑\",\"C탑\").count()"
   ]
  },
  {
   "cell_type": "code",
   "execution_count": 65,
   "id": "0fd0d835",
   "metadata": {},
   "outputs": [
    {
     "data": {
      "text/plain": [
       "{1: 1, 0: 1, 2: 1, 3: 1, 4: 1}"
      ]
     },
     "execution_count": 65,
     "metadata": {},
     "output_type": "execute_result"
    }
   ],
   "source": [
    "memo"
   ]
  },
  {
   "cell_type": "code",
   "execution_count": null,
   "id": "0437fe4d",
   "metadata": {},
   "outputs": [],
   "source": [
    "횟수 = 0\n",
    "def 하노이탑(이동해야하는원판, 시작기둥, 대상기둥, 보조기둥):\n",
    "    global 횟수\n",
    "    if 이동해야하는원판 == 1:\n",
    "        # print(시작기둥, \"->\", 대상기둥)\n",
    "        횟수 += 1\n",
    "    else:\n",
    "        하노이탑(이동해야하는원판-1, 시작기둥, 보조기둥, 대상기둥)\n",
    "        # print(시작기둥, \"->\", 대상기둥)\n",
    "        하노이탑(이동해야하는원판-1, 보조기둥, 대상기둥, 시작기둥)"
   ]
  }
 ],
 "metadata": {
  "kernelspec": {
   "display_name": "Python 3 (ipykernel)",
   "language": "python",
   "name": "python3"
  },
  "language_info": {
   "codemirror_mode": {
    "name": "ipython",
    "version": 3
   },
   "file_extension": ".py",
   "mimetype": "text/x-python",
   "name": "python",
   "nbconvert_exporter": "python",
   "pygments_lexer": "ipython3",
   "version": "3.11.1"
  }
 },
 "nbformat": 4,
 "nbformat_minor": 5
}
