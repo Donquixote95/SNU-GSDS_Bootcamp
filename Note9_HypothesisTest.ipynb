{
 "cells": [
  {
   "cell_type": "code",
   "execution_count": 1,
   "metadata": {
    "ExecuteTime": {
     "end_time": "2021-02-13T13:03:18.412105Z",
     "start_time": "2021-02-13T13:03:17.672018Z"
    }
   },
   "outputs": [],
   "source": [
    "import numpy as np\n",
    "import pandas as pd\n",
    "import matplotlib.pyplot as plt\n",
    "from scipy.stats import chi2\n",
    "%matplotlib inline"
   ]
  },
  {
   "cell_type": "code",
   "execution_count": 2,
   "metadata": {
    "ExecuteTime": {
     "end_time": "2021-02-13T13:03:18.428814Z",
     "start_time": "2021-02-13T13:03:18.425397Z"
    }
   },
   "outputs": [],
   "source": [
    "plt.rcParams[\"figure.figsize\"] = (12,8) # set figure size"
   ]
  },
  {
   "cell_type": "markdown",
   "metadata": {},
   "source": [
    "# Simulation data\n",
    "## We carry out simulation studies to investigate the behaviors of p-values. Consider a two group test, where each group has n=100 samples. Each sample in the first group follows N(0,1) and each sample in the second group follows N(μ, 1). The following code simulate one dataset with μ = 0.5"
   ]
  },
  {
   "cell_type": "code",
   "execution_count": 7,
   "metadata": {
    "ExecuteTime": {
     "end_time": "2021-02-13T13:03:33.355595Z",
     "start_time": "2021-02-13T13:03:33.337555Z"
    }
   },
   "outputs": [
    {
     "data": {
      "text/plain": [
       "0.00020838453277230432"
      ]
     },
     "execution_count": 7,
     "metadata": {},
     "output_type": "execute_result"
    }
   ],
   "source": [
    "np.random.seed(100)\n",
    "def WaldTest(x1, x2):\n",
    "    n1, n2 = len(x1), len(x2)\n",
    "    Mu1, Mu2 = np.mean(x1), np.mean(x2)\n",
    "    Var1, Var2 = np.mean((x1-Mu1)**2), np.mean((x2-Mu2)**2)\n",
    "    Theta = Mu2 - Mu1\n",
    "    SE = np.sqrt(Var1/n1 + Var2/n2)\n",
    "    W = Theta/SE\n",
    "    Pvalue = chi2.sf(W**2, df=1)\n",
    "    return Pvalue\n",
    "\n",
    "mu = 0.5\n",
    "n = 100\n",
    "x1 = np.random.normal(0, 1, size=n)\n",
    "x2 = np.random.normal(mu, 1, size=n)\n",
    "WaldTest(x1, x2)"
   ]
  },
  {
   "cell_type": "markdown",
   "metadata": {},
   "source": [
    "# P-values under the null hypothesis\n",
    "## Now we generate 1000 datasets with μ = 0 and check the distribution of p-values. How does it look like?"
   ]
  },
  {
   "cell_type": "code",
   "execution_count": 8,
   "metadata": {
    "ExecuteTime": {
     "end_time": "2021-02-13T13:07:36.127081Z",
     "start_time": "2021-02-13T13:07:35.387028Z"
    }
   },
   "outputs": [
    {
     "data": {
      "image/png": "[encoded data removed]",
      "text/plain": [
       "<Figure size 864x576 with 1 Axes>"
      ]
     },
     "metadata": {
      "needs_background": "light"
     },
     "output_type": "display_data"
    }
   ],
   "source": [
    "mu = 0\n",
    "nSIM = 1000\n",
    "pval_all = np.zeros(nSIM)\n",
    "for i in range(nSIM):\n",
    "    x1 = np.random.normal(0, 1, size=n)\n",
    "    x2 = np.random.normal(mu, 1, size=n)\n",
    "    pval_all[i] = WaldTest(x1, x2)\n",
    "    \n",
    "plt.hist(pval_all, bins=10)\n",
    "plt.xlabel('pval_all')\n",
    "plt.ylabel('Frequency');"
   ]
  },
  {
   "cell_type": "markdown",
   "metadata": {},
   "source": [
    "## Type I error rates\n",
    "If we use α = 0.05 as a cutoff, how many p-valus are significant?  \n",
    "How about changing it to α = 0.05/10, 0.05/1000?"
   ]
  },
  {
   "cell_type": "code",
   "execution_count": 11,
   "metadata": {
    "ExecuteTime": {
     "end_time": "2021-02-13T13:08:01.620772Z",
     "start_time": "2021-02-13T13:08:01.598022Z"
    }
   },
   "outputs": [
    {
     "name": "stdout",
     "output_type": "stream",
     "text": [
      "54\n",
      "8\n",
      "1\n"
     ]
    }
   ],
   "source": [
    "print(sum(pval_all < 0.05))\n",
    "print(sum(pval_all < 0.05/10))\n",
    "print(sum(pval_all < 0.05/1000))"
   ]
  },
  {
   "cell_type": "markdown",
   "metadata": {},
   "source": [
    "# Power\n",
    "## Researchers decide to use α = 0.05/1000, the bonferroni corrected alpha of testing 1000 hypothesis, as the cutoff. Now researchers want to check how the power changes by μ. Carry out simulation studies with μ = 0, 0.1, ..., 1"
   ]
  },
  {
   "cell_type": "code",
   "execution_count": 12,
   "metadata": {
    "ExecuteTime": {
     "end_time": "2021-02-13T13:08:36.048682Z",
     "start_time": "2021-02-13T13:08:33.569294Z"
    }
   },
   "outputs": [
    {
     "data": {
      "image/png": "[encoded data removed]",
      "text/plain": [
       "<Figure size 864x576 with 1 Axes>"
      ]
     },
     "metadata": {
      "needs_background": "light"
     },
     "output_type": "display_data"
    }
   ],
   "source": [
    "mu_candidate = np.arange(11)/10\n",
    "nSIM = 1000\n",
    "cutoff = 0.05/1000\n",
    "Power_a = np.zeros(11)\n",
    "for j in range(11):\n",
    "    pval_all = np.zeros(nSIM)\n",
    "    mu = mu_candidate[j]\n",
    "    for i in range(nSIM):\n",
    "        x1 = np.random.normal(0, 1, size=n)\n",
    "        x2 = np.random.normal(mu, 1, size=n)\n",
    "        pval_all[i] = WaldTest(x1, x2)\n",
    "    Power_a[j] = np.mean(pval_all < cutoff)\n",
    "plt.plot(mu_candidate, Power_a, 'bo-')\n",
    "plt.xlabel('mu_candidate')\n",
    "plt.ylabel('Power_a');"
   ]
  },
  {
   "cell_type": "markdown",
   "metadata": {},
   "source": [
    "# Permutation test\n",
    "## Using the same simulation approach with μ = 0.4 carry out a permutation test with B=10000"
   ]
  },
  {
   "cell_type": "code",
   "execution_count": 23,
   "metadata": {
    "ExecuteTime": {
     "end_time": "2021-02-13T13:19:14.569145Z",
     "start_time": "2021-02-13T13:19:13.842637Z"
    }
   },
   "outputs": [
    {
     "data": {
      "text/plain": [
       "0.04079592040795921"
      ]
     },
     "execution_count": 23,
     "metadata": {},
     "output_type": "execute_result"
    }
   ],
   "source": [
    "# np.random.seed(10)\n",
    "mu = 0.4\n",
    "n = 100\n",
    "x1 = np.random.normal(0, 1, size=n)\n",
    "x2 = np.random.normal(mu, 1, size=n)\n",
    "x = np.hstack([x1, x2])\n",
    "T_org = np.mean(x1) - np.mean(x2)\n",
    "# Permutation test\n",
    "B = 10000\n",
    "T_permu = np.zeros(B)\n",
    "for i in range(B):\n",
    "    idx_1 = np.random.choice(2*n, size=100, replace=False)\n",
    "    mu1 = np.mean(x[idx_1])\n",
    "    mu2 = np.mean(np.delete(x, idx_1))\n",
    "    T_permu[i] = mu1 - mu2\n",
    "\n",
    "pval = (np.sum(T_permu**2 >= T_org**2) + 1)/(B+1)\n",
    "pval"
   ]
  },
  {
   "cell_type": "code",
   "execution_count": 24,
   "metadata": {
    "ExecuteTime": {
     "end_time": "2021-02-13T13:19:14.631748Z",
     "start_time": "2021-02-13T13:19:14.626687Z"
    }
   },
   "outputs": [
    {
     "data": {
      "text/plain": [
       "0.04020441064230408"
      ]
     },
     "execution_count": 24,
     "metadata": {},
     "output_type": "execute_result"
    }
   ],
   "source": [
    "WaldTest(x1, x2)"
   ]
  }
 ],
 "metadata": {
  "kernelspec": {
   "display_name": "Python 3",
   "language": "python",
   "name": "python3"
  },
  "language_info": {
   "codemirror_mode": {
    "name": "ipython",
    "version": 3
   },
   "file_extension": ".py",
   "mimetype": "text/x-python",
   "name": "python",
   "nbconvert_exporter": "python",
   "pygments_lexer": "ipython3",
   "version": "3.7.6"
  },
  "varInspector": {
   "cols": {
    "lenName": 16,
    "lenType": 16,
    "lenVar": 40
   },
   "kernels_config": {
    "python": {
     "delete_cmd_postfix": "",
     "delete_cmd_prefix": "del ",
     "library": "var_list.py",
     "varRefreshCmd": "print(var_dic_list())"
    },
    "r": {
     "delete_cmd_postfix": ") ",
     "delete_cmd_prefix": "rm(",
     "library": "var_list.r",
     "varRefreshCmd": "cat(var_dic_list()) "
    }
   },
   "types_to_exclude": [
    "module",
    "function",
    "builtin_function_or_method",
    "instance",
    "_Feature"
   ],
   "window_display": false
  }
 },
 "nbformat": 4,
 "nbformat_minor": 4
}
