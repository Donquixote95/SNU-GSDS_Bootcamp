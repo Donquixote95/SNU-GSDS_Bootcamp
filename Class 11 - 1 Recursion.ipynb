{
 "cells": [
  {
   "cell_type": "code",
   "execution_count": 1,
   "id": "ae84ecc0",
   "metadata": {},
   "outputs": [],
   "source": [
    "def facto (n: int) -> int:\n",
    "    ans = 1\n",
    "    for i in range (1, n+1):\n",
    "        ans = ans * i\n",
    "    return ans"
   ]
  },
  {
   "cell_type": "code",
   "execution_count": 3,
   "id": "086c0de1",
   "metadata": {},
   "outputs": [
    {
     "data": {
      "text/plain": [
       "1"
      ]
     },
     "execution_count": 3,
     "metadata": {},
     "output_type": "execute_result"
    }
   ],
   "source": [
    "facto(0)"
   ]
  },
  {
   "cell_type": "code",
   "execution_count": 4,
   "id": "2f4ec9e5",
   "metadata": {},
   "outputs": [],
   "source": [
    "def facto_recur(n:int) -> int:\n",
    "    if n == 0:\n",
    "        return 1\n",
    "    else:\n",
    "        return n*facto_recur(n-1)"
   ]
  },
  {
   "cell_type": "markdown",
   "id": "34dcb37e",
   "metadata": {},
   "source": [
    "Recursion can happen when solving a problem includes solving subproblems having the same structure\n",
    " - Easier to implement if you can think of this way ever"
   ]
  },
  {
   "cell_type": "code",
   "execution_count": 7,
   "id": "19174abd",
   "metadata": {},
   "outputs": [
    {
     "data": {
      "text/plain": [
       "120"
      ]
     },
     "execution_count": 7,
     "metadata": {},
     "output_type": "execute_result"
    }
   ],
   "source": [
    "facto_recur(5)"
   ]
  },
  {
   "cell_type": "markdown",
   "id": "62f7ec52",
   "metadata": {},
   "source": [
    "Fibonacci Sequence\n",
    "1, 2, 3, 4, 8, ..."
   ]
  },
  {
   "cell_type": "code",
   "execution_count": 10,
   "id": "d7571147",
   "metadata": {},
   "outputs": [
    {
     "ename": "SyntaxError",
     "evalue": "cannot assign to function call here. Maybe you meant '==' instead of '='? (1232075164.py, line 7)",
     "output_type": "error",
     "traceback": [
      "\u001b[1;36m  Cell \u001b[1;32mIn[10], line 7\u001b[1;36m\u001b[0m\n\u001b[1;33m    fibonacci(n) = fibonacci(n-1) + fibonacci(n-2)\u001b[0m\n\u001b[1;37m    ^\u001b[0m\n\u001b[1;31mSyntaxError\u001b[0m\u001b[1;31m:\u001b[0m cannot assign to function call here. Maybe you meant '==' instead of '='?\n"
     ]
    }
   ],
   "source": [
    "# 내 답안 ; 실행되지 않음. syntax error.. assignment가 되지 않음.\n",
    "def fibonacci(n : int) -> int:\n",
    "    if n == 1:\n",
    "        return 1\n",
    "    elif n == 2:\n",
    "        return 2\n",
    "    else:\n",
    "        fibonacci(n) = fibonacci(n-1) + fibonacci(n-2)\n",
    "        return fibonacci(n)"
   ]
  },
  {
   "cell_type": "code",
   "execution_count": 15,
   "id": "a1ec508c",
   "metadata": {},
   "outputs": [],
   "source": [
    "# 교수님 안\n",
    "def fibonacci(n : int) -> int:\n",
    "    if n == 1 or n ==2:\n",
    "        return n\n",
    "    else:\n",
    "        return fibonacci(n-1) + fibonacci(n-2)"
   ]
  },
  {
   "cell_type": "code",
   "execution_count": 16,
   "id": "7b32e42e",
   "metadata": {},
   "outputs": [
    {
     "data": {
      "text/plain": [
       "3"
      ]
     },
     "execution_count": 16,
     "metadata": {},
     "output_type": "execute_result"
    }
   ],
   "source": [
    "fibonacci(3)"
   ]
  },
  {
   "cell_type": "code",
   "execution_count": null,
   "id": "87701da2",
   "metadata": {},
   "outputs": [],
   "source": []
  }
 ],
 "metadata": {
  "kernelspec": {
   "display_name": "Python 3 (ipykernel)",
   "language": "python",
   "name": "python3"
  },
  "language_info": {
   "codemirror_mode": {
    "name": "ipython",
    "version": 3
   },
   "file_extension": ".py",
   "mimetype": "text/x-python",
   "name": "python",
   "nbconvert_exporter": "python",
   "pygments_lexer": "ipython3",
   "version": "3.11.1"
  }
 },
 "nbformat": 4,
 "nbformat_minor": 5
}
