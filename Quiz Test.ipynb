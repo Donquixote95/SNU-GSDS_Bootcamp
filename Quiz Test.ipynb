{
 "cells": [
  {
   "cell_type": "code",
   "execution_count": 1,
   "id": "a026c7a3",
   "metadata": {},
   "outputs": [],
   "source": [
    "numbers = [0, 4, 1, 2, 6]"
   ]
  },
  {
   "cell_type": "code",
   "execution_count": 2,
   "id": "7e968542",
   "metadata": {},
   "outputs": [
    {
     "data": {
      "text/plain": [
       "1"
      ]
     },
     "execution_count": 2,
     "metadata": {},
     "output_type": "execute_result"
    }
   ],
   "source": [
    "numbers.index(4)"
   ]
  },
  {
   "cell_type": "code",
   "execution_count": 5,
   "id": "b7db5d72",
   "metadata": {},
   "outputs": [],
   "source": [
    "Ex_Dict = {'서울대':'SNU', '데사대' : 'GSDS', '부트캠프':'Bootcamp'}"
   ]
  },
  {
   "cell_type": "code",
   "execution_count": 6,
   "id": "8108f91a",
   "metadata": {},
   "outputs": [
    {
     "data": {
      "text/plain": [
       "dict_keys(['서울대', '데사대', '부트캠프'])"
      ]
     },
     "execution_count": 6,
     "metadata": {},
     "output_type": "execute_result"
    }
   ],
   "source": [
    "Ex_Dict.keys()"
   ]
  },
  {
   "cell_type": "code",
   "execution_count": 11,
   "id": "109e380d",
   "metadata": {},
   "outputs": [
    {
     "data": {
      "text/plain": [
       "dict_items([('서울대', 'SNU'), ('데사대', 'GSDS'), ('부트캠프', 'Bootcamp')])"
      ]
     },
     "execution_count": 11,
     "metadata": {},
     "output_type": "execute_result"
    }
   ],
   "source": [
    "Ex_Dict.items()"
   ]
  },
  {
   "cell_type": "code",
   "execution_count": 12,
   "id": "05ab591e",
   "metadata": {},
   "outputs": [
    {
     "data": {
      "text/plain": [
       "'어렵다'"
      ]
     },
     "execution_count": 12,
     "metadata": {},
     "output_type": "execute_result"
    }
   ],
   "source": [
    "Ex_Dict.pop('부트캠프 퀴즈', '어렵다')"
   ]
  },
  {
   "cell_type": "code",
   "execution_count": 13,
   "id": "9c247e28",
   "metadata": {},
   "outputs": [
    {
     "data": {
      "text/plain": [
       "'재밌다'"
      ]
     },
     "execution_count": 13,
     "metadata": {},
     "output_type": "execute_result"
    }
   ],
   "source": [
    "Ex_Dict.get('부트캠프 퀴즈', '재밌다')"
   ]
  },
  {
   "cell_type": "code",
   "execution_count": 14,
   "id": "17153a80",
   "metadata": {},
   "outputs": [
    {
     "data": {
      "text/plain": [
       "'재밌다'"
      ]
     },
     "execution_count": 14,
     "metadata": {},
     "output_type": "execute_result"
    }
   ],
   "source": [
    "Ex_Dict.setdefault('부트캠프 퀴즈', '재밌다')"
   ]
  },
  {
   "cell_type": "code",
   "execution_count": 15,
   "id": "878e3698",
   "metadata": {},
   "outputs": [],
   "source": [
    "Ex_Dict2 = {'3번 문제':Ex_Dict, '예시': [1,2,3,4,5], '퀴즈내는 시간':'00:23'}"
   ]
  },
  {
   "cell_type": "code",
   "execution_count": 16,
   "id": "f61b75e6",
   "metadata": {},
   "outputs": [
    {
     "data": {
      "text/plain": [
       "'GSDS'"
      ]
     },
     "execution_count": 16,
     "metadata": {},
     "output_type": "execute_result"
    }
   ],
   "source": [
    "Ex_Dict2.setdefault('3번 문제').get('데사대')"
   ]
  },
  {
   "cell_type": "code",
   "execution_count": 17,
   "id": "238258d6",
   "metadata": {},
   "outputs": [
    {
     "data": {
      "text/plain": [
       "'Bootcamp'"
      ]
     },
     "execution_count": 17,
     "metadata": {},
     "output_type": "execute_result"
    }
   ],
   "source": [
    "Ex_Dict2.get('3번 문제')['부트캠프']"
   ]
  },
  {
   "cell_type": "code",
   "execution_count": 18,
   "id": "93d15e3e",
   "metadata": {},
   "outputs": [
    {
     "data": {
      "text/plain": [
       "'00'"
      ]
     },
     "execution_count": 18,
     "metadata": {},
     "output_type": "execute_result"
    }
   ],
   "source": [
    "Ex_Dict2.get('퀴즈내는 시간')[0:2]"
   ]
  },
  {
   "cell_type": "code",
   "execution_count": 19,
   "id": "730567ef",
   "metadata": {},
   "outputs": [
    {
     "data": {
      "text/plain": [
       "dict_values([{'서울대': 'SNU', '데사대': 'GSDS', '부트캠프': 'Bootcamp', '부트캠프 퀴즈': '재밌다'}, [1, 2, 3, 4, 5], '00:23'])"
      ]
     },
     "execution_count": 19,
     "metadata": {},
     "output_type": "execute_result"
    }
   ],
   "source": [
    "Ex_Dict2.values()"
   ]
  },
  {
   "cell_type": "code",
   "execution_count": 21,
   "id": "df44ec44",
   "metadata": {},
   "outputs": [],
   "source": [
    "list_of_list = [[1,2,3], [4,5,6], [7,8,9]]\n",
    "answer = []\n",
    "for i in list_of_list:\n",
    "    for j in i[::-2]:\n",
    "        answer.append(j)"
   ]
  },
  {
   "cell_type": "code",
   "execution_count": 22,
   "id": "3a59aac5",
   "metadata": {},
   "outputs": [
    {
     "data": {
      "text/plain": [
       "[3, 1, 6, 4, 9, 7]"
      ]
     },
     "execution_count": 22,
     "metadata": {},
     "output_type": "execute_result"
    }
   ],
   "source": [
    "answer"
   ]
  },
  {
   "cell_type": "code",
   "execution_count": 23,
   "id": "baa5c91d",
   "metadata": {},
   "outputs": [],
   "source": [
    "a = [1,2,3][::-2]"
   ]
  },
  {
   "cell_type": "code",
   "execution_count": 24,
   "id": "c5d543f8",
   "metadata": {},
   "outputs": [
    {
     "data": {
      "text/plain": [
       "[3, 1]"
      ]
     },
     "execution_count": 24,
     "metadata": {},
     "output_type": "execute_result"
    }
   ],
   "source": [
    "a"
   ]
  },
  {
   "cell_type": "code",
   "execution_count": 25,
   "id": "aea930e4",
   "metadata": {},
   "outputs": [],
   "source": [
    "b = [1,2,3][::-1]"
   ]
  },
  {
   "cell_type": "code",
   "execution_count": 26,
   "id": "b2b480be",
   "metadata": {},
   "outputs": [
    {
     "data": {
      "text/plain": [
       "[3, 2, 1]"
      ]
     },
     "execution_count": 26,
     "metadata": {},
     "output_type": "execute_result"
    }
   ],
   "source": [
    "b"
   ]
  },
  {
   "cell_type": "code",
   "execution_count": 27,
   "id": "deed0f8b",
   "metadata": {},
   "outputs": [
    {
     "data": {
      "text/plain": [
       "[10, 8, 6, 4, 2]"
      ]
     },
     "execution_count": 27,
     "metadata": {},
     "output_type": "execute_result"
    }
   ],
   "source": [
    "[1,2,3,4,5,6,7,8,9,10][::-2]"
   ]
  },
  {
   "cell_type": "code",
   "execution_count": 28,
   "id": "a7cb0bb5",
   "metadata": {},
   "outputs": [],
   "source": [
    "stock_data = [\n",
    "    [2000, 3050, 2050, 1980],\n",
    "    [7500, 2050, 2050, 1980],\n",
    "    [15450, 15050, 15550, 14900]\n",
    "]\n",
    "# Open, High, Low, Close"
   ]
  },
  {
   "cell_type": "code",
   "execution_count": 29,
   "id": "8ddc14be",
   "metadata": {},
   "outputs": [
    {
     "name": "stdout",
     "output_type": "stream",
     "text": [
      "0 1980\n",
      "1 1980\n",
      "2 1980\n",
      "3 1980\n",
      "0 1980\n",
      "1 1980\n",
      "2 1980\n",
      "3 1980\n",
      "0 14900\n",
      "1 14900\n",
      "2 14900\n",
      "3 14900\n"
     ]
    }
   ],
   "source": [
    "for company in stock_data:\n",
    "    for index in range(len(company)):\n",
    "        print(index, company[-1])"
   ]
  },
  {
   "cell_type": "code",
   "execution_count": 30,
   "id": "b444fec0",
   "metadata": {},
   "outputs": [
    {
     "name": "stdout",
     "output_type": "stream",
     "text": [
      "0 1980\n",
      "1 1980\n",
      "2 14900\n"
     ]
    }
   ],
   "source": [
    "for company in stock_data:\n",
    "    print(stock_data.index(company), company[-1])"
   ]
  },
  {
   "cell_type": "code",
   "execution_count": 31,
   "id": "7d6bee72",
   "metadata": {},
   "outputs": [],
   "source": [
    "ex_A = list([1,2,3,4,5])\n",
    "ex_B = set([1,2,3,4,5])"
   ]
  },
  {
   "cell_type": "code",
   "execution_count": 32,
   "id": "4c90d826",
   "metadata": {},
   "outputs": [
    {
     "data": {
      "text/plain": [
       "5"
      ]
     },
     "execution_count": 32,
     "metadata": {},
     "output_type": "execute_result"
    }
   ],
   "source": [
    "ex_A[-1]"
   ]
  },
  {
   "cell_type": "code",
   "execution_count": 33,
   "id": "82d8f441",
   "metadata": {},
   "outputs": [
    {
     "data": {
      "text/plain": [
       "[2, 3, 4, 5]"
      ]
     },
     "execution_count": 33,
     "metadata": {},
     "output_type": "execute_result"
    }
   ],
   "source": [
    "ex_A[1:5]"
   ]
  },
  {
   "cell_type": "code",
   "execution_count": 34,
   "id": "0230e91e",
   "metadata": {},
   "outputs": [
    {
     "data": {
      "text/plain": [
       "[2, 4]"
      ]
     },
     "execution_count": 34,
     "metadata": {},
     "output_type": "execute_result"
    }
   ],
   "source": [
    "ex_A[1:5:2]"
   ]
  },
  {
   "cell_type": "code",
   "execution_count": 35,
   "id": "fecc4eae",
   "metadata": {},
   "outputs": [],
   "source": [
    "ex_B.add(1)"
   ]
  },
  {
   "cell_type": "code",
   "execution_count": 36,
   "id": "03364d68",
   "metadata": {},
   "outputs": [
    {
     "data": {
      "text/plain": [
       "{1, 2, 3, 4, 5}"
      ]
     },
     "execution_count": 36,
     "metadata": {},
     "output_type": "execute_result"
    }
   ],
   "source": [
    "ex_B"
   ]
  },
  {
   "cell_type": "code",
   "execution_count": 37,
   "id": "f374176c",
   "metadata": {},
   "outputs": [],
   "source": [
    "ex_B.add('abc')"
   ]
  },
  {
   "cell_type": "code",
   "execution_count": 38,
   "id": "346ab606",
   "metadata": {},
   "outputs": [
    {
     "data": {
      "text/plain": [
       "{1, 2, 3, 4, 5, 'abc'}"
      ]
     },
     "execution_count": 38,
     "metadata": {},
     "output_type": "execute_result"
    }
   ],
   "source": [
    "ex_B"
   ]
  },
  {
   "cell_type": "code",
   "execution_count": 39,
   "id": "da4146ef",
   "metadata": {},
   "outputs": [
    {
     "ename": "TypeError",
     "evalue": "unhashable type: 'list'",
     "output_type": "error",
     "traceback": [
      "\u001b[1;31m---------------------------------------------------------------------------\u001b[0m",
      "\u001b[1;31mTypeError\u001b[0m                                 Traceback (most recent call last)",
      "Cell \u001b[1;32mIn[39], line 1\u001b[0m\n\u001b[1;32m----> 1\u001b[0m \u001b[43mex_B\u001b[49m\u001b[38;5;241;43m.\u001b[39;49m\u001b[43madd\u001b[49m\u001b[43m(\u001b[49m\u001b[43mex_A\u001b[49m\u001b[43m)\u001b[49m\n",
      "\u001b[1;31mTypeError\u001b[0m: unhashable type: 'list'"
     ]
    }
   ],
   "source": [
    "ex_B.add(ex_A)"
   ]
  },
  {
   "cell_type": "code",
   "execution_count": null,
   "id": "ca57c3d1",
   "metadata": {},
   "outputs": [],
   "source": []
  }
 ],
 "metadata": {
  "kernelspec": {
   "display_name": "Python 3 (ipykernel)",
   "language": "python",
   "name": "python3"
  },
  "language_info": {
   "codemirror_mode": {
    "name": "ipython",
    "version": 3
   },
   "file_extension": ".py",
   "mimetype": "text/x-python",
   "name": "python",
   "nbconvert_exporter": "python",
   "pygments_lexer": "ipython3",
   "version": "3.11.1"
  }
 },
 "nbformat": 4,
 "nbformat_minor": 5
}
