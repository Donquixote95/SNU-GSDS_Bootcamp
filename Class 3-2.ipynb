{
 "cells": [
  {
   "cell_type": "code",
   "execution_count": 2,
   "id": "804779bd",
   "metadata": {},
   "outputs": [
    {
     "data": {
      "text/plain": [
       "True"
      ]
     },
     "execution_count": 2,
     "metadata": {},
     "output_type": "execute_result"
    }
   ],
   "source": [
    "True"
   ]
  },
  {
   "cell_type": "markdown",
   "id": "758adeba",
   "metadata": {},
   "source": [
    "Python에는 reserved value가 있다."
   ]
  },
  {
   "cell_type": "code",
   "execution_count": 3,
   "id": "99a88d79",
   "metadata": {},
   "outputs": [
    {
     "data": {
      "text/plain": [
       "False"
      ]
     },
     "execution_count": 3,
     "metadata": {},
     "output_type": "execute_result"
    }
   ],
   "source": [
    "not True"
   ]
  },
  {
   "cell_type": "code",
   "execution_count": 4,
   "id": "8cb0dee6",
   "metadata": {},
   "outputs": [
    {
     "data": {
      "text/plain": [
       "False"
      ]
     },
     "execution_count": 4,
     "metadata": {},
     "output_type": "execute_result"
    }
   ],
   "source": [
    "False and True"
   ]
  },
  {
   "cell_type": "code",
   "execution_count": 5,
   "id": "7911dcc3",
   "metadata": {},
   "outputs": [],
   "source": [
    "cold = True\n",
    "windy = False"
   ]
  },
  {
   "cell_type": "code",
   "execution_count": 6,
   "id": "94828bbb",
   "metadata": {},
   "outputs": [
    {
     "data": {
      "text/plain": [
       "True"
      ]
     },
     "execution_count": 6,
     "metadata": {},
     "output_type": "execute_result"
    }
   ],
   "source": [
    "cold"
   ]
  },
  {
   "cell_type": "code",
   "execution_count": 7,
   "id": "47843300",
   "metadata": {},
   "outputs": [
    {
     "data": {
      "text/plain": [
       "False"
      ]
     },
     "execution_count": 7,
     "metadata": {},
     "output_type": "execute_result"
    }
   ],
   "source": [
    "windy"
   ]
  },
  {
   "cell_type": "code",
   "execution_count": 8,
   "id": "6637376f",
   "metadata": {},
   "outputs": [
    {
     "data": {
      "text/plain": [
       "False"
      ]
     },
     "execution_count": 8,
     "metadata": {},
     "output_type": "execute_result"
    }
   ],
   "source": [
    "(not cold) and windy"
   ]
  },
  {
   "cell_type": "code",
   "execution_count": 9,
   "id": "746f527f",
   "metadata": {},
   "outputs": [
    {
     "data": {
      "text/plain": [
       "False"
      ]
     },
     "execution_count": 9,
     "metadata": {},
     "output_type": "execute_result"
    }
   ],
   "source": [
    "30 > 40"
   ]
  },
  {
   "cell_type": "markdown",
   "id": "84aa103f",
   "metadata": {},
   "source": [
    "precedence ; arithmetic operators / relational operators / Boolean operators\n",
    "\n",
    "Short-circuit evaluation\n",
    " - Python draws a conclusion fast if it is obvious, without evaluating further\n",
    " - ex) (3+5 == 8) or (1/0) = True, Python ignores 1/0 because (3+5 ==8) is True and 'or' operator. And division by zero is not defined."
   ]
  },
  {
   "cell_type": "code",
   "execution_count": 10,
   "id": "dfc1b129",
   "metadata": {},
   "outputs": [
    {
     "ename": "ZeroDivisionError",
     "evalue": "division by zero",
     "output_type": "error",
     "traceback": [
      "\u001b[1;31m---------------------------------------------------------------------------\u001b[0m",
      "\u001b[1;31mZeroDivisionError\u001b[0m                         Traceback (most recent call last)",
      "Cell \u001b[1;32mIn[10], line 1\u001b[0m\n\u001b[1;32m----> 1\u001b[0m \u001b[38;5;28;01mFalse\u001b[39;00m \u001b[38;5;129;01mor\u001b[39;00m (\u001b[38;5;241;43m1\u001b[39;49m\u001b[38;5;241;43m/\u001b[39;49m\u001b[38;5;241;43m0\u001b[39;49m)\n",
      "\u001b[1;31mZeroDivisionError\u001b[0m: division by zero"
     ]
    }
   ],
   "source": [
    "False or (1/0)"
   ]
  },
  {
   "cell_type": "markdown",
   "id": "1786647b",
   "metadata": {},
   "source": [
    "ASC2 Code and Comparing Strings\n",
    " -ord(\"A\") -> 65\n",
    " -\"A\" < \"B\" True\n",
    " -\"A\" < \"a\" True\n",
    " -\"abc\" < \"abd\" True\n",
    " -\"abdaaa\" < \"abc\" False\n",
    " -\"abc\" < \"abcd\" True\n",
    " -영어사전에서 먼저 오는 단어가 더 작은 값을 가진다. (대개)"
   ]
  },
  {
   "cell_type": "markdown",
   "id": "be10e690",
   "metadata": {},
   "source": [
    "\"in\" operator(case sensitive)"
   ]
  },
  {
   "cell_type": "code",
   "execution_count": 12,
   "id": "d9a04cb2",
   "metadata": {},
   "outputs": [
    {
     "data": {
      "text/plain": [
       "True"
      ]
     },
     "execution_count": 12,
     "metadata": {},
     "output_type": "execute_result"
    }
   ],
   "source": [
    "\"Sep\" in \"09 Sep 2023\""
   ]
  },
  {
   "cell_type": "code",
   "execution_count": 13,
   "id": "fbe28d21",
   "metadata": {},
   "outputs": [
    {
     "data": {
      "text/plain": [
       "True"
      ]
     },
     "execution_count": 13,
     "metadata": {},
     "output_type": "execute_result"
    }
   ],
   "source": [
    "\"\" in \"abc\""
   ]
  },
  {
   "cell_type": "markdown",
   "id": "14d9a6cb",
   "metadata": {},
   "source": [
    "null set은 every set의 subset이기 때문에 공백을 in 함수 앞에 입력하면 언제나 True"
   ]
  },
  {
   "cell_type": "code",
   "execution_count": 14,
   "id": "9db259f9",
   "metadata": {},
   "outputs": [
    {
     "data": {
      "text/plain": [
       "True"
      ]
     },
     "execution_count": 14,
     "metadata": {},
     "output_type": "execute_result"
    }
   ],
   "source": [
    "\"\" in \"\""
   ]
  },
  {
   "cell_type": "code",
   "execution_count": 15,
   "id": "06d481f6",
   "metadata": {},
   "outputs": [
    {
     "data": {
      "text/plain": [
       "2"
      ]
     },
     "execution_count": 15,
     "metadata": {},
     "output_type": "execute_result"
    }
   ],
   "source": [
    "True + True"
   ]
  },
  {
   "cell_type": "markdown",
   "id": "e2d1a94e",
   "metadata": {},
   "source": [
    "+ operator를 쓰면 Boolean type으로 생각하지 않는다는 뜻임."
   ]
  },
  {
   "cell_type": "code",
   "execution_count": 16,
   "id": "1f4220db",
   "metadata": {},
   "outputs": [
    {
     "data": {
      "text/plain": [
       "bool"
      ]
     },
     "execution_count": 16,
     "metadata": {},
     "output_type": "execute_result"
    }
   ],
   "source": [
    "type(True)"
   ]
  },
  {
   "cell_type": "code",
   "execution_count": 17,
   "id": "f3dde5d8",
   "metadata": {},
   "outputs": [
    {
     "data": {
      "text/plain": [
       "int"
      ]
     },
     "execution_count": 17,
     "metadata": {},
     "output_type": "execute_result"
    }
   ],
   "source": [
    "type(True+True)"
   ]
  },
  {
   "cell_type": "markdown",
   "id": "a616e8ac",
   "metadata": {},
   "source": [
    "If statement\n",
    "if <<condition>>:\n",
    "    <<block>>\n",
    "    \n",
    "elif는 else if 의 뜻임."
   ]
  },
  {
   "cell_type": "code",
   "execution_count": 21,
   "id": "98fed4f0",
   "metadata": {},
   "outputs": [
    {
     "name": "stdout",
     "output_type": "stream",
     "text": [
      "Enter the current time time in format HH:MM: 12:15\n",
      "After Programming Foundations\n"
     ]
    }
   ],
   "source": [
    "time = input (\"Enter the current time time in format HH:MM: \")\n",
    "if time < \"11:00\":\n",
    "    print(\"Before Programming Foundations\")\n",
    "elif time < \"12:15\":\n",
    "    print(\"During Programming Foundations\")\n",
    "else:\n",
    "    print(\"After Programming Foundations\")"
   ]
  },
  {
   "cell_type": "code",
   "execution_count": 1,
   "id": "11eb8989",
   "metadata": {},
   "outputs": [
    {
     "name": "stdout",
     "output_type": "stream",
     "text": [
      "Enter your age: 28\n"
     ]
    }
   ],
   "source": [
    "age = int(input(\"Enter your age: \"))"
   ]
  },
  {
   "cell_type": "code",
   "execution_count": 2,
   "id": "b68febc3",
   "metadata": {},
   "outputs": [
    {
     "name": "stdout",
     "output_type": "stream",
     "text": [
      "Enter your BMI: 22\n"
     ]
    }
   ],
   "source": [
    "bmi = float(input(\"Enter your BMI: \"))"
   ]
  },
  {
   "cell_type": "code",
   "execution_count": 3,
   "id": "211e7ed5",
   "metadata": {},
   "outputs": [],
   "source": [
    "young = (age < 45)\n",
    "slim = (bmi < 22.0)\n",
    "if young:\n",
    "    if slim:\n",
    "        risk = \"low\"\n",
    "    else:\n",
    "        risk = \"meidum\"\n",
    "else:\n",
    "    if slim:\n",
    "        risk = \"medium\"\n",
    "    else:\n",
    "        risk = \"high\""
   ]
  },
  {
   "cell_type": "code",
   "execution_count": 4,
   "id": "81cfd95e",
   "metadata": {},
   "outputs": [
    {
     "data": {
      "text/plain": [
       "'meidum'"
      ]
     },
     "execution_count": 4,
     "metadata": {},
     "output_type": "execute_result"
    }
   ],
   "source": [
    "risk"
   ]
  },
  {
   "cell_type": "code",
   "execution_count": null,
   "id": "99c4d28c",
   "metadata": {},
   "outputs": [],
   "source": []
  }
 ],
 "metadata": {
  "kernelspec": {
   "display_name": "Python 3 (ipykernel)",
   "language": "python",
   "name": "python3"
  },
  "language_info": {
   "codemirror_mode": {
    "name": "ipython",
    "version": 3
   },
   "file_extension": ".py",
   "mimetype": "text/x-python",
   "name": "python",
   "nbconvert_exporter": "python",
   "pygments_lexer": "ipython3",
   "version": "3.11.1"
  }
 },
 "nbformat": 4,
 "nbformat_minor": 5
}
