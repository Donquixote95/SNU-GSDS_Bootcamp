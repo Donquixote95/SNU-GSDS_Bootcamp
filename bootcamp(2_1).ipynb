{
 "cells": [
  {
   "cell_type": "code",
   "execution_count": 2,
   "id": "baeb4025",
   "metadata": {},
   "outputs": [],
   "source": [
    "def convert_to_fahrenheit(celsius):\n",
    "    return celsius * 9/5 + 32"
   ]
  },
  {
   "cell_type": "code",
   "execution_count": 4,
   "id": "47ff55c5",
   "metadata": {},
   "outputs": [
    {
     "data": {
      "text/plain": [
       "50.0"
      ]
     },
     "execution_count": 4,
     "metadata": {},
     "output_type": "execute_result"
    }
   ],
   "source": [
    "convert_to_fahrenheit(10)"
   ]
  },
  {
   "cell_type": "markdown",
   "id": "f1a4c235",
   "metadata": {},
   "source": [
    "def <<function_name>>(<<parameters>>): <- function header\n",
    "    <<function_body>>"
   ]
  },
  {
   "cell_type": "code",
   "execution_count": 7,
   "id": "563b3cf3",
   "metadata": {},
   "outputs": [],
   "source": [
    "def convert_to_celsius(fahrenheit):\n",
    "    return fahrenheit * 5/9 - (32*(5/9))"
   ]
  },
  {
   "cell_type": "code",
   "execution_count": 10,
   "id": "59dce4a4",
   "metadata": {},
   "outputs": [
    {
     "data": {
      "text/plain": [
       "10.0"
      ]
     },
     "execution_count": 10,
     "metadata": {},
     "output_type": "execute_result"
    }
   ],
   "source": [
    "convert_to_celsius(50)"
   ]
  },
  {
   "cell_type": "code",
   "execution_count": 12,
   "id": "79e094d9",
   "metadata": {},
   "outputs": [],
   "source": [
    "def convert_to_fahrenheit(celsius):\n",
    "    a = 9/5\n",
    "    b = 32\n",
    "    return celsius * a + b"
   ]
  },
  {
   "cell_type": "code",
   "execution_count": 14,
   "id": "f4cff9c2",
   "metadata": {},
   "outputs": [
    {
     "ename": "NameError",
     "evalue": "name 'a' is not defined",
     "output_type": "error",
     "traceback": [
      "\u001b[1;31m---------------------------------------------------------------------------\u001b[0m",
      "\u001b[1;31mNameError\u001b[0m                                 Traceback (most recent call last)",
      "Cell \u001b[1;32mIn[14], line 1\u001b[0m\n\u001b[1;32m----> 1\u001b[0m \u001b[43ma\u001b[49m\n",
      "\u001b[1;31mNameError\u001b[0m: name 'a' is not defined"
     ]
    }
   ],
   "source": [
    "a"
   ]
  },
  {
   "cell_type": "code",
   "execution_count": 15,
   "id": "5b0eaf03",
   "metadata": {},
   "outputs": [],
   "source": [
    "def doubling(x):\n",
    "    return 2*x"
   ]
  },
  {
   "cell_type": "code",
   "execution_count": 20,
   "id": "80bfbdf8",
   "metadata": {},
   "outputs": [],
   "source": [
    "x = 5\n",
    "x = doubling(x+5)"
   ]
  },
  {
   "cell_type": "code",
   "execution_count": 21,
   "id": "01bbda64",
   "metadata": {},
   "outputs": [
    {
     "data": {
      "text/plain": [
       "20"
      ]
     },
     "execution_count": 21,
     "metadata": {},
     "output_type": "execute_result"
    }
   ],
   "source": [
    "x"
   ]
  }
 ],
 "metadata": {
  "kernelspec": {
   "display_name": "Python 3 (ipykernel)",
   "language": "python",
   "name": "python3"
  },
  "language_info": {
   "codemirror_mode": {
    "name": "ipython",
    "version": 3
   },
   "file_extension": ".py",
   "mimetype": "text/x-python",
   "name": "python",
   "nbconvert_exporter": "python",
   "pygments_lexer": "ipython3",
   "version": "3.11.1"
  }
 },
 "nbformat": 4,
 "nbformat_minor": 5
}
