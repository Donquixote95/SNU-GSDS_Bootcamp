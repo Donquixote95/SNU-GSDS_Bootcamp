{
 "cells": [
  {
   "cell_type": "code",
   "execution_count": 1,
   "metadata": {
    "ExecuteTime": {
     "end_time": "2021-02-01T07:22:45.284145Z",
     "start_time": "2021-02-01T07:22:44.904815Z"
    }
   },
   "outputs": [],
   "source": [
    "import numpy as np\n",
    "import matplotlib.pyplot as plt\n",
    "%matplotlib inline"
   ]
  },
  {
   "cell_type": "code",
   "execution_count": 2,
   "metadata": {
    "ExecuteTime": {
     "end_time": "2021-02-01T07:22:45.304439Z",
     "start_time": "2021-02-01T07:22:45.300632Z"
    }
   },
   "outputs": [],
   "source": [
    "plt.rcParams[\"figure.figsize\"] = (12,8) # set figure size"
   ]
  },
  {
   "cell_type": "markdown",
   "metadata": {},
   "source": [
    "# Monte-carlo simulation to get a mean\n",
    "* Many times it is very difficult to get a mean and variance analytically. In this case, we can use Monte carlo approach to calculate mean and variance.  \n",
    "* Suppose we want to get mean and variance of x^3, where x follows normal(0,1). Following code run simulations to get this."
   ]
  },
  {
   "cell_type": "code",
   "execution_count": 4,
   "metadata": {
    "ExecuteTime": {
     "end_time": "2021-02-01T07:22:50.345503Z",
     "start_time": "2021-02-01T07:22:50.329998Z"
    }
   },
   "outputs": [
    {
     "name": "stdout",
     "output_type": "stream",
     "text": [
      "mean: 0.07395779907331715\n",
      "sd: 3.9581196611292766\n"
     ]
    }
   ],
   "source": [
    "nsim = 10000\n",
    "x = np.random.normal(0, 1, nsim)\n",
    "x3 = x**3\n",
    "print('mean:', np.mean(x3))\n",
    "print('sd:', np.std(x3))"
   ]
  },
  {
   "cell_type": "markdown",
   "metadata": {},
   "source": [
    "## COVID simulation\n",
    "* Consider the COVID simulation used in the previous note. Researchers want to mean and variance of new cases after 50 days (without social distancing, etc).\n",
    "* Analytically getting this is very difficult. But we can use Monte-carlo approach to get this easily"
   ]
  },
  {
   "cell_type": "code",
   "execution_count": 5,
   "metadata": {
    "ExecuteTime": {
     "end_time": "2021-02-01T07:23:42.888182Z",
     "start_time": "2021-02-01T07:23:41.491121Z"
    }
   },
   "outputs": [
    {
     "data": {
      "image/png": "[encoded data removed]",
      "text/plain": [
       "<Figure size 864x576 with 1 Axes>"
      ]
     },
     "metadata": {
      "needs_background": "light"
     },
     "output_type": "display_data"
    }
   ],
   "source": [
    "def Get_Trajectory():\n",
    "    n_current_case = 10\n",
    "    n_case_trajectory = np.zeros(11)\n",
    "    n_case_trajectory[0] = 10\n",
    "\n",
    "    for i in range(10):\n",
    "        n_contact = np.random.poisson(10, n_current_case)\n",
    "        n_new_case = np.random.binomial(n_contact, 0.2)\n",
    "        n_current_case = np.sum(n_new_case)\n",
    "        n_case_trajectory[i+1] = n_current_case\n",
    "\n",
    "    return n_case_trajectory\n",
    "\n",
    "nsim = 100\n",
    "out_all = []\n",
    "for i in range(nsim):\n",
    "    out_all.append(Get_Trajectory())\n",
    "    \n",
    "outall = np.array(out_all)\n",
    "plt.boxplot(outall);"
   ]
  },
  {
   "cell_type": "code",
   "execution_count": 6,
   "metadata": {
    "ExecuteTime": {
     "end_time": "2021-02-01T07:23:58.397822Z",
     "start_time": "2021-02-01T07:23:58.387658Z"
    }
   },
   "outputs": [
    {
     "name": "stdout",
     "output_type": "stream",
     "text": [
      "mean: 10338.23\n",
      "sd: 3024.086102792048\n"
     ]
    }
   ],
   "source": [
    "print('mean:', np.mean(outall[:, 10]))\n",
    "print('sd:', np.std(outall[:, 10]))"
   ]
  }
 ],
 "metadata": {
  "kernelspec": {
   "display_name": "Python 3 (ipykernel)",
   "language": "python",
   "name": "python3"
  },
  "language_info": {
   "codemirror_mode": {
    "name": "ipython",
    "version": 3
   },
   "file_extension": ".py",
   "mimetype": "text/x-python",
   "name": "python",
   "nbconvert_exporter": "python",
   "pygments_lexer": "ipython3",
   "version": "3.8.12"
  },
  "varInspector": {
   "cols": {
    "lenName": 16,
    "lenType": 16,
    "lenVar": 40
   },
   "kernels_config": {
    "python": {
     "delete_cmd_postfix": "",
     "delete_cmd_prefix": "del ",
     "library": "var_list.py",
     "varRefreshCmd": "print(var_dic_list())"
    },
    "r": {
     "delete_cmd_postfix": ") ",
     "delete_cmd_prefix": "rm(",
     "library": "var_list.r",
     "varRefreshCmd": "cat(var_dic_list()) "
    }
   },
   "types_to_exclude": [
    "module",
    "function",
    "builtin_function_or_method",
    "instance",
    "_Feature"
   ],
   "window_display": false
  }
 },
 "nbformat": 4,
 "nbformat_minor": 4
}
